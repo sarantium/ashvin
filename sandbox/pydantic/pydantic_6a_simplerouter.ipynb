{
 "cells": [
  {
   "cell_type": "markdown",
   "metadata": {},
   "source": [
    "## Aim\n",
    "\n",
    "Goal : Convert youtube video podcasts into concise audio summaries\n",
    "\n",
    "Plan : \n",
    "\n",
    "- Task 1 : Retrieve Transcripts: Download transcripts from YouTube video podcasts\n",
    "- Task 2 : Summarise Transcripts: Generate concise summaries from downloaded transcripts\n",
    "- Task 3 : Convert Summaries to Audio: Use text-to-speech to create audio summaries "
   ]
  },
  {
   "cell_type": "markdown",
   "metadata": {},
   "source": [
    "## Tasks\n",
    "\n",
    "=> Add tokens to wrapper for both cases"
   ]
  },
  {
   "cell_type": "code",
   "execution_count": 1,
   "metadata": {},
   "outputs": [],
   "source": [
    "# imports\n",
    "\n",
    "import enum\n",
    "import instructor\n",
    "import os\n",
    "import re\n",
    "from abc import ABC, abstractmethod\n",
    "from dotenv import load_dotenv\n",
    "from openai import OpenAI\n",
    "from pathlib import Path\n",
    "from pprint import pprint as pp\n",
    "from pydantic import BaseModel, Field, StringConstraints, conlist, field_validator\n",
    "from typing import Any, Iterable, List, Optional, Union\n",
    "from typing_extensions import Annotated\n",
    "from youtube_transcript_api import YouTubeTranscriptApi\n",
    "from youtube_transcript_api.formatters import JSONFormatter, TextFormatter"
   ]
  },
  {
   "cell_type": "code",
   "execution_count": 2,
   "metadata": {},
   "outputs": [],
   "source": [
    "# load API key\n",
    "\n",
    "dotenv_path = Path(r\"C:\\Storage\\python_projects\\ashvin\\.env\")\n",
    "load_dotenv(dotenv_path=dotenv_path)\n",
    "OPENAI_API_KEY = os.getenv(\"OPENAI_API_KEY\")\n",
    "\n",
    "# main constants\n",
    "\n",
    "GPT_MODEL = \"gpt-4o\" # points to latest GPT model\n",
    "\n",
    "#instantiate client\n",
    "client = instructor.from_openai(OpenAI(), mode=instructor.Mode.TOOLS)\n",
    "audio_client = OpenAI()"
   ]
  },
  {
   "cell_type": "code",
   "execution_count": 3,
   "metadata": {},
   "outputs": [
    {
     "name": "stderr",
     "output_type": "stream",
     "text": [
      "c:\\Storage\\python_projects\\ashvin\\.venv\\Lib\\site-packages\\pydantic\\_internal\\_fields.py:200: UserWarning: Field name \"system_prompt\" in \"Tool\" shadows an attribute in parent \"AbstractTool\"\n",
      "  warnings.warn(\n"
     ]
    }
   ],
   "source": [
    "# AbstractTool and Tool classes\n",
    "\n",
    "\n",
    "class AbstractTool(ABC):\n",
    "    \"\"\"\n",
    "    Abstract base class for tools.\n",
    "\n",
    "    Attributes:\n",
    "        name (str): The name of the tool.\n",
    "        description (str): A brief description of what the tool does.\n",
    "        system_prompt (str | None): The system prompt used by the tool, if applicable.\n",
    "    \"\"\"\n",
    "\n",
    "    name: str\n",
    "    description: str\n",
    "    system_prompt: str | None = None\n",
    "\n",
    "    @abstractmethod\n",
    "    def run(self, input_data: Any) -> Any:\n",
    "        pass\n",
    "\n",
    "class Tool(BaseModel, AbstractTool):\n",
    "    \"\"\"\n",
    "    A tool model that inherits from both BaseModel and AbstractTool.\n",
    "\n",
    "    This class combines Pydantic's data validation features with the interface \n",
    "    enforcement of an abstract base class.\n",
    "\n",
    "    Attributes:\n",
    "        name (str): The name of the tool.\n",
    "        description (str): A brief description of what the tool does.\n",
    "        system_prompt (str | None): The system prompt used by the tool, if applicable.\n",
    "    \"\"\"\n",
    "\n",
    "    name: str\n",
    "    description: str\n",
    "    system_prompt: str | None = None\n",
    "\n",
    "    def run(self, input_data: Any) -> Any:\n",
    "        return f\"Running with {input_data}\"\n"
   ]
  },
  {
   "cell_type": "code",
   "execution_count": 4,
   "metadata": {},
   "outputs": [],
   "source": [
    "# wrapper\n",
    "\n",
    "def wrapper(\n",
    "    system_prompt: str | None = None, \n",
    "    user_prompt: Union[str, list] | None = None, \n",
    "    response_model: BaseModel | None = None, \n",
    "    max_retries: int = 3, \n",
    "    additional_messages: Union[str, List[str]] | None = None\n",
    "):\n",
    "    \"\"\"Wrapper function to generate LLM completion\"\"\"\n",
    "    messages = []\n",
    "\n",
    "    # Add system prompt if provided\n",
    "    if system_prompt is not None:\n",
    "        messages.append({\"role\": \"system\", \"content\": system_prompt})\n",
    "\n",
    "    # Add additional messages before user_prompt\n",
    "    if additional_messages is not None:\n",
    "        if isinstance(additional_messages, list):\n",
    "            for message in additional_messages:\n",
    "                messages.append({\"role\": \"user\", \"content\": message})\n",
    "        else:\n",
    "            messages.append({\"role\": \"user\", \"content\": additional_messages})\n",
    "\n",
    "    # Add user context if provided\n",
    "    if user_prompt is not None:\n",
    "        if isinstance(user_prompt, list):\n",
    "            for context in user_prompt:\n",
    "                messages.append({\"role\": \"user\", \"content\": context})\n",
    "        else:\n",
    "            messages.append({\"role\": \"user\", \"content\": user_prompt})\n",
    "\n",
    "    # Generate the completion\n",
    "    completion = client.chat.completions.create(\n",
    "        model=GPT_MODEL,\n",
    "        response_model=response_model,\n",
    "        max_retries=max_retries,\n",
    "        messages=messages\n",
    "    )\n",
    "    \n",
    "    # Check if response_model is None and return appropriate result\n",
    "    if response_model is None:\n",
    "        return completion.choices[0].message.content.strip()\n",
    "    else:\n",
    "        return completion"
   ]
  },
  {
   "cell_type": "code",
   "execution_count": null,
   "metadata": {},
   "outputs": [],
   "source": [
    "class SimpleRouterAgent:\n",
    "    \"\"\"\n",
    "    Simple router agent that selects and runs the appropriate tool based on the message.\n",
    "    \"\"\"\n",
    "    def __init__(self, tools: List[AbstractTool]):\n",
    "        self.tools = {tool.name: tool for tool in tools}\n",
    "        self.system_prompt: str | None = \"You are an intelligent agent that selects the best tool for the given task.\"\n",
    "\n",
    "    def _select_tool(self, message: str) -> AbstractTool:\n",
    "        \"\"\"\n",
    "        Uses the LLM to select the appropriate tool based on the provided message.\n",
    "\n",
    "        Args:\n",
    "            message (str): The message describing the task to be performed.\n",
    "\n",
    "        Returns:\n",
    "            AbstractTool: The selected tool for performing the task.\n",
    "        \"\"\"\n",
    "        user_prompt = f\"Which tool should be used for the following message: '{message}'?\"\n",
    "        additional_messages = [tool.description for tool in self.tools.values()]\n",
    "\n",
    "        completion = wrapper(\n",
    "            system_prompt=self.system_prompt,\n",
    "            user_prompt=user_prompt,\n",
    "            additional_messages=additional_messages,\n",
    "            response_model=None,\n",
    "            max_retries=3\n",
    "        )\n",
    "\n",
    "        # Extracting the tool name from the LLM response\n",
    "        tool_name = completion['choices'][0]['message']['content'].strip()\n",
    "\n",
    "        # Finding the tool by name\n",
    "        selected_tool = self.tools.get(tool_name)\n",
    "        if not selected_tool:\n",
    "            raise ValueError(f\"No matching tool found for: {tool_name}\")\n",
    "\n",
    "        return selected_tool\n",
    "\n",
    "    def run(self, message: str) -> str:\n",
    "        \"\"\"\n",
    "        Selects and runs the appropriate tool based on the message.\n",
    "\n",
    "        Args:\n",
    "            message (str): The message describing the task to be performed.\n",
    "\n",
    "        Returns:\n",
    "            str: The result of running the tool.\n",
    "        \"\"\"\n",
    "        tool = self._select_tool(message)\n",
    "        return tool.run(message)"
   ]
  },
  {
   "cell_type": "code",
   "execution_count": 5,
   "metadata": {},
   "outputs": [
    {
     "name": "stderr",
     "output_type": "stream",
     "text": [
      "c:\\Storage\\python_projects\\ashvin\\.venv\\Lib\\site-packages\\pydantic\\_internal\\_fields.py:200: UserWarning: Field name \"system_prompt\" in \"Transcript\" shadows an attribute in parent \"Tool\"\n",
      "  warnings.warn(\n"
     ]
    }
   ],
   "source": [
    "class Transcript(Tool):\n",
    "    \"\"\"\n",
    "    A tool for extracting and formatting YouTube video transcripts.\n",
    "\n",
    "    This class inherits from Tool and overrides the run method to extract\n",
    "    the YouTube video ID from a given URL, retrieve the transcript, and \n",
    "    format it as a JSON string.\n",
    "    \"\"\"\n",
    "\n",
    "    name: str = \"YouTube Transcript Extractor\"\n",
    "    description: str = \"Extracts the YouTube video ID from a URL, retrieves the transcript, and formats it as JSON.\"\n",
    "    system_prompt: str | None = None\n",
    "\n",
    "    def run(self, url: str) -> Optional[str]:\n",
    "        \"\"\"\n",
    "        Extract the YouTube video ID from a given URL, retrieve the transcript,\n",
    "        and format it as a JSON string.\n",
    "\n",
    "        Parameters:\n",
    "            url (str): The YouTube URL from which to extract the video ID.\n",
    "\n",
    "        Returns:\n",
    "            Optional[str]: The JSON formatted transcript if the video ID is valid and the\n",
    "                           transcript is available, otherwise None.\n",
    "        \"\"\"\n",
    "        # Regular expression to find the video ID in a YouTube URL\n",
    "        pattern = r'(?:https?://)?(?:www\\.)?youtube\\.com/watch\\?v=([a-zA-Z0-9_-]{11})'\n",
    "        match = re.search(pattern, url)\n",
    "        if not match:\n",
    "            print(\"No valid YouTube video ID found in the provided URL.\")\n",
    "            return None\n",
    "\n",
    "        video_id = match.group(1)\n",
    "\n",
    "        try:\n",
    "            # Retrieve the transcript\n",
    "            transcript = YouTubeTranscriptApi.get_transcript(video_id)\n",
    "\n",
    "            # Format the transcript as JSON\n",
    "            formatter = JSONFormatter()\n",
    "            json_formatted_transcript = formatter.format_transcript(transcript)\n",
    "\n",
    "            return json_formatted_transcript\n",
    "        except Exception as e:\n",
    "            print(f\"Error retrieving or formatting transcript: {e}\")\n",
    "            return None"
   ]
  },
  {
   "cell_type": "code",
   "execution_count": 12,
   "metadata": {},
   "outputs": [],
   "source": [
    "# summary tool\n",
    "\n",
    "class Summary(Tool):\n",
    "    \"\"\"\n",
    "    A tool for summarizing a given text.\n",
    "\n",
    "    This class inherits from Tool and provides functionality to\n",
    "    summarize input text.\n",
    "    \"\"\"\n",
    "\n",
    "    # tool properties\n",
    "    name: str = \"Text Summarizer\"\n",
    "    description: str = \"Summarizes the input text into a concise version.\"\n",
    "    system_prompt: str | None = \"\"\"\n",
    "    You are an expert podcast summariser, condensing information into digestible summaries with appropriate signposting.\n",
    "    Provide a concise, clear, and understandable summary of the given text. \n",
    "    Include upfront a one sentence TL;DR\" \n",
    "    \"\"\"\n",
    "\n",
    "    # output property\n",
    "    summary: str = Field(None, description=\"The summarised version of the input text.\")\n",
    "    \n",
    "    def run(self, text: str) -> Any:\n",
    "        \"\"\"\n",
    "        Summarize the input text.\n",
    "\n",
    "        Parameters:\n",
    "            input_data (str): The input text to summarize.\n",
    "\n",
    "        Returns:\n",
    "            str: The summarized text.\n",
    "        \"\"\"\n",
    "        completion = wrapper(\n",
    "            system_prompt=self.system_prompt,\n",
    "            user_prompt=text,\n",
    "            response_model=Summary,\n",
    "            max_retries=3\n",
    "        )\n",
    "\n",
    "        return completion"
   ]
  },
  {
   "cell_type": "code",
   "execution_count": 7,
   "metadata": {},
   "outputs": [
    {
     "name": "stderr",
     "output_type": "stream",
     "text": [
      "c:\\Storage\\python_projects\\ashvin\\.venv\\Lib\\site-packages\\pydantic\\_internal\\_fields.py:200: UserWarning: Field name \"system_prompt\" in \"Audio\" shadows an attribute in parent \"Tool\"\n",
      "  warnings.warn(\n"
     ]
    }
   ],
   "source": [
    "# text to speech\n",
    "\n",
    "\n",
    "\n",
    "\n"
   ]
  },
  {
   "cell_type": "code",
   "execution_count": 8,
   "metadata": {},
   "outputs": [],
   "source": [
    "url=\"https://www.youtube.com/watch?v=Mn0nBjqgBcs&t\""
   ]
  },
  {
   "cell_type": "code",
   "execution_count": 9,
   "metadata": {},
   "outputs": [],
   "source": [
    "transcript_tool = Transcript()\n",
    "transcript = transcript_tool.run(url=url)"
   ]
  },
  {
   "cell_type": "code",
   "execution_count": 16,
   "metadata": {},
   "outputs": [],
   "source": [
    "summary_tool = Summary()\n",
    "summary = summary_tool.run(transcript)"
   ]
  },
  {
   "cell_type": "code",
   "execution_count": 17,
   "metadata": {},
   "outputs": [
    {
     "data": {
      "text/plain": [
       "\"The review discusses the board game adaptation of 'Slay the Spire', a video game known for its exceptional deck-building mechanics. Initially skeptical about the adaptation, the reviewer was impressed by how well it translates to the board game format, maintaining core game elements and cooperative features while simplifying for physical play. Despite its high quality and new cooperative mode, the reviewer remains unconvinced of its necessity, noting that the digital version offers a similar experience for less money and less admin work. The game is lauded for its faithful adaptation and fun gameplay but is seen as potentially redundant for those already enjoying the digital version.\""
      ]
     },
     "execution_count": 17,
     "metadata": {},
     "output_type": "execute_result"
    }
   ],
   "source": [
    "summary.summary"
   ]
  },
  {
   "cell_type": "code",
   "execution_count": 18,
   "metadata": {},
   "outputs": [
    {
     "name": "stdout",
     "output_type": "stream",
     "text": [
      "c:\\Storage\\python_projects\\ashvin\\sandbox\\pydantic\\audio.mp3\n"
     ]
    }
   ],
   "source": [
    "audio_tool = Audio()\n",
    "audio = audio_tool.run(text=summary.summary)\n",
    "print(audio)"
   ]
  },
  {
   "cell_type": "code",
   "execution_count": 53,
   "metadata": {},
   "outputs": [],
   "source": [
    "from __future__ import annotations\n",
    "\n",
    "\n",
    "class User(BaseModel):\n",
    "    name: str\n",
    "    age: str\n",
    "\n",
    "class City(BaseModel):\n",
    "    country: str\n",
    "    capital: str\n",
    "\n",
    "class Taxonomy(BaseModel):\n",
    "    Kingdom: str\n",
    "    Phylum: str\n",
    "    Class: str\n",
    "    Order: str\n",
    "    Family: str\n",
    "    Genus: str\n",
    "    Species: str\n",
    "\n",
    "class Router(BaseModel):\n",
    "    tool_list: Union[User, City, Taxonomy]\n",
    "\n",
    "new_client = instructor.from_openai(\n",
    "    OpenAI(), mode=instructor.Mode.TOOLS\n",
    ")\n",
    "\n",
    "\n",
    "\n",
    "test_system_prompt = \"You are an intelligent router. Select and return the single right tool for the user.\"\n",
    "test_user_prompt = \"I'm Ashvin\"\n",
    "test_messages = [\n",
    "    {\"role\": \"system\", \"content\": test_system_prompt},\n",
    "    {\"role\": \"user\", \"content\": test_user_prompt},\n",
    "]\n",
    "\n",
    "completion = new_client.chat.completions.create(\n",
    "    model=GPT_MODEL,\n",
    "    response_model=Router, \n",
    "    messages=test_messages\n",
    ")\n"
   ]
  },
  {
   "cell_type": "code",
   "execution_count": 54,
   "metadata": {},
   "outputs": [
    {
     "data": {
      "text/plain": [
       "Router(tool_list=User(name='Ashvin', age='unknown'))"
      ]
     },
     "execution_count": 54,
     "metadata": {},
     "output_type": "execute_result"
    }
   ],
   "source": [
    "completion"
   ]
  }
 ],
 "metadata": {
  "kernelspec": {
   "display_name": ".venv",
   "language": "python",
   "name": "python3"
  },
  "language_info": {
   "codemirror_mode": {
    "name": "ipython",
    "version": 3
   },
   "file_extension": ".py",
   "mimetype": "text/x-python",
   "name": "python",
   "nbconvert_exporter": "python",
   "pygments_lexer": "ipython3",
   "version": "3.11.5"
  }
 },
 "nbformat": 4,
 "nbformat_minor": 2
}
