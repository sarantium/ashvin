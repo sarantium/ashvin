{
 "cells": [
  {
   "cell_type": "markdown",
   "metadata": {},
   "source": [
    "## Objective\n",
    "\n",
    "- [ ] Given a stub, write a context in a specific style and length\n",
    "- [Y] Given a context, infer a precise number of goals, user stories, JTDs and HMWs in a specific format\n",
    "- [ ] Given a user story, expand it and evaluate it\n",
    "- [ ] Given a context, reflect on it and improve it \n",
    "- [] Given a context, classify it into a single class or multiple classes\n",
    "- [ ] Can't figure out how to feed a list of strings to create user stories etc.\n",
    "\n",
    "\n",
    "- [ ] Matt Shumer released a prompt model tweet github, use that along with pydantic for generic prompt model  https://github.com/mshumer/gpt-prompt-engineer\n",
    "- [ ] Generic Agentic workflow => See Andrew Ng and mnsky write on machineusers page\n",
    "- [ ] Write a pydantic class for writing free writing context\n",
    "- [ ] instructor how to get token numbers or retry numbers??\n",
    "- [ ] try claude?\n",
    "- [ ] create a pipeline to write research article drafts me\n",
    "- [ ] screenshot to code tool\n",
    "- [ ] startups like synthetic users from Vincent Koc: https://www.linkedin.com/feed/update/urn:li:activity:7180703368321904641?commentUrn=urn%3Ali%3Acomment%3A%28activity%3A7180703368321904641%2C7180704756493955072%29&dashCommentUrn=urn%3Ali%3Afsd_comment%3A%287180704756493955072%2Curn%3Ali%3Aactivity%3A7180703368321904641%29\n",
    "- [ ] given a product or company page, extract goals, user stories etc. then write a lean canvas\n",
    "- [ ] some ideas from synthetic users video on interviews and personas [https://youtu.be/LCiv7lZ3oh4?si=CCIdQ14ocLRQOPNg]\n",
    "- [ ] Search for companies in the space\n",
    "\n",
    "- [ ] Do Query Planning from instructor as both a Questions piece and as a Reflections/Agent piece https://jxnl.github.io/instructor/examples/planning-tasks/#planning-a-query-plan\n",
    "- [ ] Create a Chain of Thought Prompt\n",
    "- [ ] Create a Tree of Thought Prompt as a type of Reflection Prompt\n",
    "\n",
    "- [ ] Matt shumer released a workbook for authoring a whole book\n",
    "- [ ] Matt shumer released a workbook for a researcher agent\n",
    "\n",
    "- [ ] I want to try a simple classifier that takes one tag [business goal, user goal, other] and test it out - GoalClassifier"
   ]
  },
  {
   "cell_type": "markdown",
   "metadata": {},
   "source": [
    "## Setup"
   ]
  },
  {
   "cell_type": "code",
   "execution_count": 1,
   "metadata": {},
   "outputs": [],
   "source": [
    "# imports\n",
    "\n",
    "import os\n",
    "import enum\n",
    "import instructor\n",
    "from instructor import llm_validator\n",
    "from pathlib import Path\n",
    "from openai import OpenAI\n",
    "from dotenv import load_dotenv\n",
    "from datetime import datetime\n",
    "from typing import Tuple, Optional, List, Annotated, ClassVar, Union\n",
    "from pydantic import BaseModel, PositiveInt, Field, ValidationError, BeforeValidator, field_validator, conlist, ConfigDict, constr\n",
    "from io import BytesIO\n",
    "from PIL import Image\n",
    "import base64"
   ]
  },
  {
   "cell_type": "code",
   "execution_count": 2,
   "metadata": {},
   "outputs": [],
   "source": [
    "# load API key\n",
    "\n",
    "dotenv_path = Path(r\"C:\\Storage\\python_projects\\ashvin\\.env\")\n",
    "image_folderpath = Path(r\"C:\\Storage\\python_projects\\ashvin\\sandbox\\pydantic\")\n",
    "load_dotenv(dotenv_path=dotenv_path)\n",
    "\n",
    "OPENAI_API_KEY = os.getenv(\"OPENAI_API_KEY\")\n",
    "\n",
    "# main constants\n",
    "\n",
    "GPT_MODEL_TEXT_ALIAS = \"gpt-4-turbo-preview\" # points to latest GPT model\n",
    "GPT_MODEL_TEXT = \"gpt-4-0125-preview\"\n",
    "GPT_MODEL_35_TEXT_ALIAS = \"gpt-3.5-turbo\" # points to latest GPT 3.5 Turbo model\n",
    "DALL_E_3 = \"dall-e-3\"\n",
    "\n",
    "#instantiate client\n",
    "client = instructor.patch(OpenAI())"
   ]
  },
  {
   "cell_type": "code",
   "execution_count": 18,
   "metadata": {},
   "outputs": [],
   "source": [
    "# config\n",
    "\n",
    "min_length = 33\n",
    "model=GPT_MODEL_TEXT_ALIAS\n",
    "response_model = None\n",
    "context = \"I want to start a board game cafe that has a great selection of coffees and boardgames. Not sure if this is a viable business idea\"\n",
    "context = \"e-ink color kindles for reading comics\""
   ]
  },
  {
   "cell_type": "code",
   "execution_count": 4,
   "metadata": {},
   "outputs": [],
   "source": [
    "# text wrapper function\n",
    "\n",
    "def wrapper(prompt: str, data: str | list, response_model:BaseModel | None = None):\n",
    "    \"\"\"Wrapper function to generate LLM completion\"\"\"\n",
    "    return client.chat.completions.create(\n",
    "        model=GPT_MODEL_TEXT_ALIAS,\n",
    "        response_model=response_model,\n",
    "        max_retries=5,\n",
    "        messages=[\n",
    "            {\"role\": \"system\", \"content\": prompt},\n",
    "            {\"role\": \"user\", \"content\": data},\n",
    "        ]\n",
    "    )\n",
    "\n",
    "# image wrapper function\n",
    "\n",
    "def image_wrapper(image_prompt: str) -> str:\n",
    "    \"\"\"Generate an image using DALL-E 3 and return the base64 JSON representation.\"\"\"\n",
    "    response = client.images.generate(\n",
    "        model=DALL_E_3,\n",
    "        prompt=image_prompt,\n",
    "        size=\"1024x1024\",\n",
    "        quality=\"standard\",\n",
    "        style=\"vivid\",\n",
    "        response_format=\"b64_json\",\n",
    "        n=1,\n",
    "    )\n",
    "    return response.data[0].b64_json\n",
    "\n",
    "# save image function\n",
    "\n",
    "def save_image(b64_json: str, folder_path: Union[str, Path], image_name: str) -> None:\n",
    "    \"\"\"Convert a base64 JSON image string to a PNG file and save it in the specified folder with the given image name.\"\"\"\n",
    "    if not isinstance(folder_path, Path):\n",
    "        folder_path = Path(folder_path)\n",
    "    \n",
    "    # Combine the folder path and image name to create the full file path\n",
    "    file_path = folder_path / f\"{image_name}.png\"\n",
    "    \n",
    "    image_data = base64.b64decode(b64_json)\n",
    "    image = Image.open(BytesIO(image_data))\n",
    "    image.save(file_path)"
   ]
  },
  {
   "cell_type": "markdown",
   "metadata": {},
   "source": [
    "## Pydantic Models"
   ]
  },
  {
   "cell_type": "code",
   "execution_count": null,
   "metadata": {},
   "outputs": [],
   "source": [
    "# Pydantic general prompt model\n",
    "\n",
    "class GeneralPrompt(BaseModel):\n",
    "    role: Optional[str] = Field(None, description=\"The specific role of the LLM in this prompt, e.g., 'Freewriting Assistant'.\")\n",
    "    context: Optional[str] = Field(None, description=\"The context in which the LLM is operating.\")\n",
    "    task: Optional[str] = Field(None, description=\"The specific task the LLM is asked to perform.\")\n",
    "    instructions: Optional[str] = Field(None, description=\"Instructions on how to approach the task.\")\n",
    "    examples: Optional[List[str]] = Field(None, description=\"Specific output examples to illustrate the task.\")\n",
    "    style: Optional[str] = Field(None, description=\"The specific style of writing to adopt in the output, e.g. 'Freewriting', 'Newsweek', 'Economist'\" )\n",
    "    test_cases: Optional[List[str]] = Field(None, description=\"Test cases to evaluate the LLM's performance.\")\n",
    "\n",
    "\n",
    "# Pydantic prompt instances\n",
    "\n",
    "freewriting_prompt = GeneralPrompt(\n",
    "    role=\"Freewriting Assistant\",\n",
    "    context=context,\n",
    "    task=\"Write 5 dated journal entries to myself of 300 words each about the chosen topic.\",\n",
    "    instructions=\"Just let your thoughts spill out onto the page, no matter how disjointed or random they may seem. This is your personal space to ramble, muse, and wander through your ideas without any pressure to make sense or sound eloquent. Jot down whatever comes to mind, and don't worry about connecting the dots. Imagine you're chatting with an old friend, sharing bits and pieces of your thoughts without any filter. Go ahead and dive into the chaos of your mind!\",\n",
    "    examples=None,\n",
    "    style='Freewriting',\n",
    "    test_cases=None\n",
    ")\n",
    "free = freewriting_prompt.model_dump_json()\n",
    "\n",
    "economist_article_prompt = GeneralPrompt(\n",
    "    role=\"Article Writer\",\n",
    "    context=context,\n",
    "    task=\"Write an article of 500 words about the chosen topic in the appropriate style. Minimise headings and maximise readability, flow, and completeness.\",\n",
    "    instructions=\"Write an article that the average reader can understand using simple jargon-free language.\",\n",
    "    examples=None,\n",
    "    style=\"Economist Article\",\n",
    "    test_cases=None\n",
    ")\n",
    "\n",
    "economy  = economist_article_prompt.model_dump_json()\n",
    "\n",
    "# Reflection Prompt model\n",
    "\n",
    "class ReflectionPrompt(BaseModel):\n",
    "    step1: str = Field(..., description=\"Initial Reflection: Analyze the context to identify areas for improvement. Provide only a list of specific suggestions.\")\n",
    "    step2: str = Field(..., description=\"Draft Improvement: Incorporate the suggestions from Step 1 into a draft revision of the context, focusing on enhancing clarity, coherence, structure and overall content quality. Use headings, subheadings and bullet points where appropriate.\")\n",
    "    step3: str = Field(..., description=\"Final Revision: Review and refine the revised draft from Step 2, making final adjustments to polish and structure the content effectively. Always favour, simple, direct and clear language.\")\n",
    "\n",
    "# Reflection prompt instance\n",
    "    \n",
    "reflection_prompt = \"You are an expert writer, editor and critical thinker with product management domain expertise. Reflect on the provided context and improve it using the provided output format \""
   ]
  },
  {
   "cell_type": "code",
   "execution_count": null,
   "metadata": {},
   "outputs": [],
   "source": [
    "# goal\n",
    "\n",
    "class Goal(BaseModel):\n",
    "    \"\"\"Given a context extract and infer specific product or business goals\"\"\"\n",
    "    \n",
    "    verb: str = Field(..., description=\"A clear, singular action.\")\n",
    "    quantitative_metric: str = Field(..., description=\"The numerical part of the goal, including either a number or a percentage.\",\n",
    "                                      examples=[\"20%\", \"30 minutes\", \"90%\", \"5 additional metropolitan areas\", \"3-5\"])\n",
    "    qualitative_metric: str = Field(..., description=\"A concise description of what the goal targets, without the numeric component.\",\n",
    "                                     examples=[\"increase the number of bookings\", \"reduce average wait time for pickups\",\n",
    "                                               \"achieve a customer satisfaction rate\", \"expand service\",\n",
    "                                               \"increase recycling rate of collected rubbish\"])\n",
    "    focus: str = Field(..., description=\"A concise, well-defined area of impact.\")\n",
    "    timeframe: str = Field(None, description=\"A specific, achievable deadline.\")\n",
    "    sentence: str = Field(..., description=\"Craft a succinct, declarative sentence that integrates the verb, quantitative and qualitative metrics, focus, and timeframe, ensuring to include a specific number or percentage.\")\n",
    "\n",
    "# list of goals\n",
    "\n",
    "class GoalList(BaseModel):\n",
    "    \"\"\" Generate a list of {min_length} overarching and granular goals\"\"\"\n",
    "    \n",
    "    # min_length: ClassVar[int] = 9\n",
    "    goals: conlist(Goal, min_length=min_length)    # type: ignore\n",
    "\n",
    "# goal prompt\n",
    "goal_prompt = f\"You are an expert product manager using the GIST framework. Using the given context as a base, craft goal statements in the requested output format. Infer or fill in quantitative metrics where possible.\""
   ]
  },
  {
   "cell_type": "code",
   "execution_count": null,
   "metadata": {},
   "outputs": [],
   "source": [
    "# user story\n",
    "\n",
    "class UserStory(BaseModel):\n",
    "    \"\"\"Given a context, extract and infer specific user stories\"\"\"\n",
    "    \n",
    "    user_type: str = Field(..., description=\"The specific type of user involved in the story.\")\n",
    "    action: str = Field(..., description=\"The action that the user wants to perform.\")\n",
    "    benefit: str = Field(..., description=\"The benefit or value that the user expects to gain from performing the action.\")\n",
    "    sentence: str = Field(..., description=\"A succinct sentence that integrates the user type, action, and benefit, following the format 'As a [user_type], I want to [action] so that [benefit].'\",\n",
    "                          examples=[\"As a registered user, I want to reset my password so that I can regain access to my account.\",\n",
    "                                    \"As a frequent traveler, I want to save my favorite destinations so that I can quickly book trips in the future.\",\n",
    "                                    \"As a project manager, I want to view the progress of all projects so that I can allocate resources effectively.\",\n",
    "                                    \"As an online shopper, I want to filter products by price range so that I can find items within my budget.\"])\n",
    "# list of user stories\n",
    "class UserStoryList(BaseModel):\n",
    "    \"\"\" Generate a list of {min_length} overarching and granular user stories\"\"\"\n",
    "    \n",
    "    stories: conlist(UserStory, min_length=min_length)    # type: ignore\n",
    "\n",
    "# user_story_prompt\n",
    "user_story_prompt = f\"You are an expert product manager using the GIST framework. Using the given context as a base, craft user story statements in the requested output format.\"\n"
   ]
  },
  {
   "cell_type": "code",
   "execution_count": null,
   "metadata": {},
   "outputs": [],
   "source": [
    "# Expanded User Story\n",
    "\n",
    "class ExpandedUserStory(BaseModel):\n",
    "    \"\"\"Model for capturing expanded details of user stories\"\"\"\n",
    "    \n",
    "    title: str = Field(..., description=\"The title summarizing the user story.\")\n",
    "    description: str = Field(..., description=\"A detailed description of what the user wants and why.\")\n",
    "    steps: List[str] = Field(..., description=\"A list detailing the steps required to achieve the user story.\")\n",
    "    acceptance_criteria: str = Field(..., description=\"Criteria that must be met for the user story to be accepted.\")\n",
    "    expanded_story: str = Field(..., description=\"An expanded user story that integrates the title, description, steps, and acceptance criteria.With appropriate line breaks for printing\")\n",
    "\n",
    "    model_config = ConfigDict(json_schema_extra= {\n",
    "            \"example\": {\n",
    "                \"title\": \"Connecting Bluetooth printer to Mobile Device\",\n",
    "                \"description\": \"As a delivery person, I want to connect my Mobile Device with a mobile printer to print receipts on the go.\",\n",
    "                \"steps\": [\n",
    "                    \"The delivery person holds the Mobile Device to a switched-on mobile printer.\",\n",
    "                    \"The mobile printer is connected to the Mobile Device.\",\n",
    "                    \"The toast message 'Mobile printer successfully connected' is displayed.\",\n",
    "                    \"The delivery person hears an acoustic tone.\"\n",
    "                ],\n",
    "                \"acceptance_criteria\": \"The printer is connected and the connection remains until any delivery person logs in successfully on the same Mobile Device.\",\n",
    "                }\n",
    "        }\n",
    "    )\n",
    "\n",
    "# expanded user story prompt\n",
    "expanded_user_story_prompt = f\"You are an expert product manager using the GIST framework. Using the given context as a base, craft expanded user story statements for the provided context in the requested output format.\""
   ]
  },
  {
   "cell_type": "code",
   "execution_count": null,
   "metadata": {},
   "outputs": [],
   "source": [
    "class HowMightWe(BaseModel):\n",
    "    \"\"\"Given a context, extract and infer questions in a How Might We format\"\"\"\n",
    "    \n",
    "    outcome: str = Field(..., description=\"The particular outcome or improvement to be achieved.\")\n",
    "    user: str = Field(..., description=\"The user or persona for whom the outcome is intended.\")\n",
    "    benefit: str = Field(..., description=\"The benefit or value that the user expects to gain from the outcome.\")\n",
    "    sentence: str = Field(..., description=\"An open-ended question that integrates the outcome, user, and benefit, following the format 'How might we [outcome] for [user] so that [benefit]?'\",\n",
    "                          examples=[\"How might we help registered users regain access to their accounts so that they can continue using our service?\",\n",
    "                                    \"How might we make travel planning easier for frequent travelers so that they can save time and effort?\",\n",
    "                                    \"How might we provide personalized learning experiences for students so that they can achieve better academic results?\"])\n"
   ]
  },
  {
   "cell_type": "code",
   "execution_count": null,
   "metadata": {},
   "outputs": [],
   "source": [
    "class JTB(BaseModel):\n",
    "    \"\"\"Given a context, identify the job to be done for a specific user or persona in a particular situation\"\"\"\n",
    "    \n",
    "    user: str = Field(..., description=\"The user or persona who wants the job to be done.\")\n",
    "    job: str = Field(..., description=\"The task or desired outcome to be achieved.\")\n",
    "    situation: str = Field(..., description=\"The specific situation in which the job needs to be done.\")\n",
    "    benefit: str = Field(..., description=\"The benefit or value that the user expects to gain from getting the job done.\")\n",
    "    sentence: str = Field(..., description=\"A sentence that integrates the user, job, situation, and benefit, following the format '[User/persona] wants to [job] when [situation] so that [benefit].'\",\n",
    "                          examples=[\"A registered user wants to regain access to their account when they forget their password so that they can continue using the platform without interruptions.\",\n",
    "                                    \"A busy professional wants to quickly order healthy meals when they have no time to cook so that they can maintain a balanced diet.\",\n",
    "                                    \"A student wants to access online study materials when they are preparing for exams so that they can study efficiently and perform well.\"])\n"
   ]
  },
  {
   "cell_type": "code",
   "execution_count": 19,
   "metadata": {},
   "outputs": [],
   "source": [
    "# customer research\n",
    "\n",
    "\n",
    "class CustomerInsightQuestions(BaseModel):\n",
    "    \"\"\"Model for uncovering customer preferences, challenges, and feedback during user interviews.\"\"\"\n",
    "    \n",
    "    core_challenge: constr(max_length=500) = Field(\n",
    "        ..., \n",
    "        description=\"What is the primary challenge you face with [specific product/service]?\"\n",
    "    )\n",
    "    integration_into_daily_life: constr(max_length=1000) = Field(\n",
    "        ..., \n",
    "        description=\"Can you describe a specific part of your daily routine where [specific product/service] plays a role, and how it integrates into that activity?\"\n",
    "    )\n",
    "    favorable_aspects: constr(max_length=500) = Field(\n",
    "        ..., \n",
    "        description=\"What aspects of [specific product/service] do you find most beneficial or enjoyable?\"\n",
    "    )\n",
    "    areas_for_improvement: constr(max_length=500) = Field(\n",
    "        ..., \n",
    "        description=\"What aspects of [specific product/service] do you feel could be improved?\"\n",
    "    )\n",
    "    decision_factors: constr(max_length=500) = Field(\n",
    "        ..., \n",
    "        description=\"What factors do you consider most important when choosing [specific product/service]?\"\n",
    "    )\n",
    "    specific_dissatisfaction: Optional[constr(max_length=1000)] = Field(\n",
    "        None, \n",
    "        description=\"Can you describe in detail a recent instance where [specific product/service] did not meet your expectations, and how it affected your activities or plans?\"\n",
    "    )\n",
    "    desired_outcomes: constr(max_length=500) = Field(\n",
    "        ..., \n",
    "        description=\"What are the key outcomes or benefits you expect from [specific product/service]?\"\n",
    "    )\n",
    "    alternative_solutions: Optional[constr(max_length=500)] = Field(\n",
    "        None,\n",
    "        description=\"What alternative products or solutions have you considered or used to address this challenge?\"\n",
    "    )\n",
    "    emotional_impact: Optional[constr(max_length=500)] = Field(\n",
    "        None,\n",
    "        description=\"How does [specific product/service] impact your emotions or feelings during its use?\"\n",
    "    )\n",
    "    willingness_to_recommend: Optional[constr(max_length=500)] = Field(\n",
    "        None,\n",
    "        description=\"On a scale of 1 to 10, how likely are you to recommend [specific product/service] to others?\"\n",
    "    )\n",
    "\n",
    "    class Config:\n",
    "        json_schema_extra = {\n",
    "            \"example\": {\n",
    "                \"core_challenge\": \"What is the primary challenge you face with your mobile printer?\",\n",
    "                \"integration_into_daily_life\": \"Can you describe a specific part of your daily routine where the mobile printer plays a role, and how it integrates into that activity?\",\n",
    "                \"favorable_aspects\": \"What aspects of the mobile printer do you find most beneficial or enjoyable?\",\n",
    "                \"areas_for_improvement\": \"What aspects of the mobile printer do you feel could be improved?\",\n",
    "                \"decision_factors\": \"What factors do you consider most important when choosing a mobile printer?\",\n",
    "                \"specific_dissatisfaction\": \"Can you describe in detail a recent instance where the mobile printer did not meet your expectations, and how it affected your activities or plans?\",\n",
    "                \"desired_outcomes\": \"What are the key outcomes or benefits you expect from the mobile printer?\",\n",
    "                \"alternative_solutions\": \"What alternative products or solutions have you considered or used to address this challenge?\",\n",
    "                \"emotional_impact\": \"How does the mobile printer impact your emotions or feelings during its use?\",\n",
    "                \"willingness_to_recommend\": \"On a scale of 1 to 10, how likely are you to recommend the mobile printer to others?\"\n",
    "            }\n",
    "        }\n",
    "\n",
    "    \n",
    "pain_point_prompt = f\"You are an expert product manager using the GIST framework. Using the given context as a base, craft answers and pain points from user discovery in the requested output format.\"\n",
    "pain_point_prompt = \"\"\"You are a top product reasearcher with a Phd in behavioural psychology and have worked in the research and insights industry for the last 20 years with top creative, media and business consultancies. Your role is to ask questions about products and gather insights from individual customers. Frame questions to uncover customer preferences, challenges, and feedback. Craft answers and pain points from user discovery in the requested output format\"\"\""
   ]
  },
  {
   "cell_type": "code",
   "execution_count": 20,
   "metadata": {},
   "outputs": [],
   "source": [
    "# generate pain point\n",
    "\n",
    "pain_point_completion = wrapper(pain_point_prompt, context, CustomerInsightQuestions)"
   ]
  },
  {
   "cell_type": "code",
   "execution_count": 23,
   "metadata": {},
   "outputs": [
    {
     "name": "stdout",
     "output_type": "stream",
     "text": [
      "core_challenge: difficulty reading comics in color\n",
      "integration_into_daily_life: used daily as a primary mode for reading comics and graphic novels\n",
      "favorable_aspects: portability, battery life, and non-glare screen\n",
      "areas_for_improvement: color accuracy and range, responsiveness of the display\n",
      "decision_factors: display quality, color accuracy, battery life, ease of use\n",
      "specific_dissatisfaction: None\n",
      "desired_outcomes: enhanced reading experience with accurate color display for comics\n",
      "alternative_solutions: using tablet devices or physical comic books\n",
      "emotional_impact: frustration with poor color reproduction leading to diminished reading enjoyment\n",
      "willingness_to_recommend: 7\n"
     ]
    }
   ],
   "source": [
    "for attribute, value in pain_point_completion.dict().items():\n",
    "    print(f\"{attribute}: {value}\")"
   ]
  },
  {
   "cell_type": "code",
   "execution_count": 17,
   "metadata": {},
   "outputs": [
    {
     "data": {
      "text/plain": [
       "'The primary expected outcome for the Remade is a restoration of dignity and autonomy, whether by mitigating the negative impacts of their modifications, reversing them completely, or leveraging them to gain a level of respect and independence within their society.'"
      ]
     },
     "execution_count": 17,
     "metadata": {},
     "output_type": "execute_result"
    }
   ],
   "source": [
    "pain_point_completion.primary_expected_outcome"
   ]
  },
  {
   "cell_type": "code",
   "execution_count": 16,
   "metadata": {},
   "outputs": [
    {
     "name": "stdout",
     "output_type": "stream",
     "text": [
      "{\"challenge_in_context\":\"The Remade are facing significant challenges due to their forced alteration and incorporation into an indentured servitude system as a result of their sentencing. This societal structure involuntarily subjects them to physical modifications and exploitation, placing them at a severe disadvantage both socially and economically.\",\"daily_routine_and_product_integration\":\"The daily lives of the Remade are heavily influenced by their modifications and the roles they are forced into as a result. Their abilities, limitations, and societal perceptions are directly tied to the nature of their modifications, affecting their employability, mobility, and social interactions. Despite the transformations intended to increase their utility in specific tasks, the societal stigma and physical discomfort significantly impact their quality of life.\",\"positives_about_current_products\":\"Some Remade, like Jack Half-A-Prayer, manage to use their modifications to their advantage, becoming vigilante heroes and gaining a certain level of respect and autonomy within their communities. In other regions like Armada, biothaumaturgy offers possibilities to undo or mitigate the effects of New Crobuzon's Remaking, suggesting that modifications can occasionally lead to beneficial outcomes if navigated properly.\",\"negatives_about_current_products\":\"The process of Remaking is capriciously cruel, with modifications often resulting in physical discomfort, lasting pain, and a severe lack of compatibility with the individual's previous lifestyle. Additionally, the societal stigma and discrimination faced by the Remade severely limit their opportunities for social and economic advancement, trapping them in a cycle of exploitation and indentured servitude.\",\"decision_criteria_for_products\":\"Individuals subject to Remaking have no choice in their modifications, which are decided purely based on the whims of bio-thaumaturges or as per sentencing requirements. In contexts where Remaking can be chosen, such as in Armada, decisions may revolve around reversing unwanted modifications, enhancing physical capabilities, or even achieving a form of social autonomy.\",\"specific_shortfall_experience\":null,\"primary_expected_outcome\":\"The primary expected outcome for the Remade is a restoration of dignity and autonomy, whether by mitigating the negative impacts of their modifications, reversing them completely, or leveraging them to gain a level of respect and independence within their society.\"}\n"
     ]
    }
   ],
   "source": [
    "pain_point_string = pain_point_completion.model_dump_json()\n",
    "print(pain_point_string)"
   ]
  },
  {
   "cell_type": "markdown",
   "metadata": {},
   "source": [
    "## Workflows"
   ]
  },
  {
   "cell_type": "code",
   "execution_count": null,
   "metadata": {},
   "outputs": [],
   "source": [
    "# workflows\n",
    "\n",
    "class WorkflowCategory(str, Enum):\n",
    "    OPERATIONAL = \"Operational\"\n",
    "    STRATEGIC = \"Strategic\"\n",
    "    COGNITIVE = \"Cognitive\"\n",
    "    METACOGNITIVE = \"Metacognitive\"\n",
    "\n",
    "class WorkflowStep(BaseModel):\n",
    "    id: int = Field(..., description=\"Unique identifier for the workflow step.\")\n",
    "    title: str = Field(..., description=\"Title of the workflow step.\")\n",
    "    description: str = Field(..., description=\"Description of the step.\")\n",
    "    examples: List[str] = Field(default=[], description=\"Examples illustrating the step.\")\n",
    "\n",
    "class WorkflowSequence(BaseModel):\n",
    "    name: str = Field(..., description=\"Name of the sequence.\")\n",
    "    step_ids: List[int] = Field(..., description=\"Ordered list of step IDs in this sequence.\")\n",
    "\n",
    "class Workflow(BaseModel):\n",
    "    name: str = Field(..., description=\"Name of the workflow.\")\n",
    "    category: WorkflowCategory = Field(..., description=\"Category of the workflow.\")\n",
    "    steps: Dict[int, WorkflowStep] = Field(..., description=\"Dictionary of steps in the workflow, keyed by step ID.\")\n",
    "    sequences: Optional[List[WorkflowSequence]] = Field(default=None, description=\"Optional list of alternative sequences of steps.\")\n",
    "\n",
    "# Example Usage:\n",
    "operational_workflow = Workflow(\n",
    "    name=\"Data Entry Automation\",\n",
    "    category=WorkflowCategory.OPERATIONAL,\n",
    "    steps={\n",
    "        1: WorkflowStep(\n",
    "            id=1,\n",
    "            title=\"Collect Data\",\n",
    "            description=\"Gather data from various sources for entry.\",\n",
    "            examples=[\"Collecting student information from forms.\", \"Gathering financial data from reports.\"]\n",
    "        ),\n",
    "        2: WorkflowStep(\n",
    "            id=2,\n",
    "            title=\"Validate Data\",\n",
    "            description=\"Ensure the accuracy and completeness of the data.\",\n",
    "            examples=[\"Checking for missing values.\", \"Verifying data against established criteria.\"]\n",
    "        ),\n",
    "        3: WorkflowStep(\n",
    "            id=3,\n",
    "            title=\"Enter Data\",\n",
    "            description=\"Input the validated data into the system.\",\n",
    "            examples=[\"Entering student information into the database.\", \"Updating financial records with new data.\"]\n",
    "        )\n",
    "    },\n",
    "    sequences=[\n",
    "        WorkflowSequence(\n",
    "            name=\"Standard Data Entry\",\n",
    "            step_ids=[1, 2, 3]\n",
    "        )\n",
    "    ]\n",
    ")\n",
    "\n",
    "print(operational_workflow)\n"
   ]
  },
  {
   "cell_type": "markdown",
   "metadata": {},
   "source": [
    "## Generate Outputs"
   ]
  },
  {
   "cell_type": "code",
   "execution_count": null,
   "metadata": {},
   "outputs": [],
   "source": [
    "# generate freewriting\n",
    "\n",
    "freewriting_completion = wrapper(free, context)\n",
    "\n",
    "freewriting_output = freewriting_completion.choices[0].message.content"
   ]
  },
  {
   "cell_type": "code",
   "execution_count": null,
   "metadata": {},
   "outputs": [],
   "source": [
    "print(freewriting_output)"
   ]
  },
  {
   "cell_type": "code",
   "execution_count": null,
   "metadata": {},
   "outputs": [],
   "source": [
    "# generate article\n",
    "\n",
    "article_completion = wrapper(economy, freewriting_output)\n",
    "\n",
    "article_output = article_completion.choices[0].message.content"
   ]
  },
  {
   "cell_type": "code",
   "execution_count": null,
   "metadata": {},
   "outputs": [],
   "source": [
    "print(article_output)"
   ]
  },
  {
   "cell_type": "code",
   "execution_count": null,
   "metadata": {},
   "outputs": [],
   "source": [
    "# generate reflection\n",
    "\n",
    "reflection_completion = wrapper(reflection_prompt, article_output, ReflectionPrompt)"
   ]
  },
  {
   "cell_type": "code",
   "execution_count": null,
   "metadata": {},
   "outputs": [],
   "source": [
    "print(reflection_completion.step1)"
   ]
  },
  {
   "cell_type": "code",
   "execution_count": null,
   "metadata": {},
   "outputs": [],
   "source": [
    "print(reflection_completion.step2)"
   ]
  },
  {
   "cell_type": "code",
   "execution_count": null,
   "metadata": {},
   "outputs": [],
   "source": [
    "print(reflection_completion.step3)"
   ]
  },
  {
   "cell_type": "code",
   "execution_count": null,
   "metadata": {},
   "outputs": [],
   "source": [
    "# generate goals\n",
    "\n",
    "goal_completion = wrapper(goal_prompt, reflection_completion.step3, GoalList)\n",
    "\n",
    "# goals print \n",
    "print(f\"the number of actual goals is: {len(goal_completion.goals)}\")\n",
    "for number, goal in enumerate(goal_completion.goals, start=1):\n",
    "    print(f\"Goal {number} : {goal.sentence}\")"
   ]
  },
  {
   "cell_type": "code",
   "execution_count": null,
   "metadata": {},
   "outputs": [],
   "source": [
    "output = stringify(goal_completion.goals)\n",
    "type(output[1])"
   ]
  },
  {
   "cell_type": "code",
   "execution_count": null,
   "metadata": {},
   "outputs": [],
   "source": [
    "# generate user stories\n",
    "\n",
    "user_story_completion = wrapper(user_story_prompt, goal_completion.goals[1].sentence, UserStoryList)\n",
    "\n",
    "# user stories print \n",
    "print(f\"the number of actual stories is: {len(user_story_completion.stories)}\")\n",
    "for number, story in enumerate(user_story_completion.stories, start=1):\n",
    "    print(f\"Story {number} : {story.sentence}\")"
   ]
  },
  {
   "cell_type": "code",
   "execution_count": null,
   "metadata": {},
   "outputs": [],
   "source": [
    "# generate user stories\n",
    "\n",
    "user_story_completion = wrapper(user_story_prompt, expanded_user_story_completion.expanded_story, UserStoryList)\n",
    "\n",
    "# user stories print \n",
    "print(f\"the number of actual stories is: {len(user_story_completion.stories)}\")\n",
    "for number, story in enumerate(user_story_completion.stories, start=1):\n",
    "    print(f\"Story {number} : {story.sentence}\")"
   ]
  },
  {
   "cell_type": "code",
   "execution_count": null,
   "metadata": {},
   "outputs": [],
   "source": [
    "# generate expanded user stories\n",
    "\n",
    "expanded_user_story_completion = wrapper(expanded_user_story_prompt, pain_point_string, ExpandedUserStory)\n",
    "\n",
    "# user stories print \n",
    "print(expanded_user_story_completion.expanded_story)"
   ]
  },
  {
   "cell_type": "markdown",
   "metadata": {},
   "source": [
    "## Creativity"
   ]
  },
  {
   "cell_type": "code",
   "execution_count": 13,
   "metadata": {},
   "outputs": [],
   "source": [
    "context = \"\"\"\n",
    "Remade are a horribly exploited underclass of New Crobuzon, consisting of criminals forcefully modified by order of a Magister, usually in combination with a prison sentence. Occasionally, horses and other service animals, such as nashorn and whales, are Remade with mechanical parts for greater speed or power.\n",
    "\n",
    "\n",
    "Contents\n",
    "1\tInformation\n",
    "1.1\tRemaking in New Crobuzon\n",
    "1.2\tRemaking in other contexts\n",
    "2\tHistory\n",
    "2.1\tEvents of Perdido Street Station (1779)\n",
    "2.2\tEvents of The Scar (1779–1780)\n",
    "2.3\tEvents of Iron Council (1804–1805)\n",
    "3\tTrivia\n",
    "Information\n",
    "Most, but not all, Remade are forced into indentured servitude and slavery as a condition of their sentencing and modifications. However, some Remade, like the infamous Jack Half-A-Prayer, have used their remaking to their benefit, becoming vigilante heroes and styling themselves as \"fReemade\".\n",
    "\n",
    "\n",
    "\n",
    "Remaking in New Crobuzon\n",
    "The Remade are usually, but not always, humans who are caught up in the criminal justice system and then forced to undergo a capricious and cruel alteration at the hands of New Crobuzon's bio-thaumaturges.\n",
    "\n",
    "In the punishment factories, the prisoners' bodies are horrifically altered, limbs and other body parts replaced with steam-powered machinery, heavy mechanical metal parts, or grafted together with human or animal components. Live foxes sewn into chests, torsos attached backwards to a horse, tentacles and pistons and caterpillar treads and eyes and lizard claws fitted wantonly wherever they will go; the sadism of Remaking knows no limits.\n",
    "\n",
    "\n",
    "\n",
    "Remaking in other contexts\n",
    "In Armada, biothaumaturgical practitioners are willing to undo or mitigate the effects of New Crobuzon's Remaking for a reasonable sum, or even to perform the rare Remaking on request. Elsewhere in Bas Lag, Remaking is almost unheard-of.\n",
    "\n",
    "History\n",
    "Events of Perdido Street Station (1779)\n",
    "Events of The Scar (1779–1780)\n",
    "Events of Iron Council (1804–1805)\n",
    "Trivia\n",
    "The inspiration for Remade may come from a metaphorical remark made by Karl Marx in Das Kapital, where he famously described exploited workers as \"an appendage of flesh on a machine of iron\".\n",
    "\"\"\""
   ]
  },
  {
   "cell_type": "code",
   "execution_count": null,
   "metadata": {},
   "outputs": [],
   "source": [
    "# style guide prompt\n",
    "\n",
    "from pydantic import BaseModel, Field\n",
    "from typing import List, Optional\n",
    "\n",
    "class ToneAndVoice(BaseModel):\n",
    "    tone: str = Field(..., description=\"The emotional quality and formality level, specific to different contexts, that should be conveyed through the text.\")\n",
    "    voice: str = Field(..., description=\"The personality or character that should come through in the writing, influencing how the content is perceived.\")\n",
    "    contextual_tone_variations: str = Field(..., description=\"Guidelines on adapting tone based on the context or section of the text.\")\n",
    "    desired_reader_emotion: str = Field(..., description=\"Specific emotions to evoke in the reader and how the tone can achieve this.\")\n",
    "\n",
    "class GrammarAndSyntax(BaseModel):\n",
    "    verb_tense_consistency: str = Field(..., description=\"Rules for maintaining tense consistency, with guidelines for exceptions.\")\n",
    "    complex_syntax_use: str = Field(..., description=\"Instructions on using complex syntax to enhance narrative depth or clarity.\")\n",
    "\n",
    "class PunctuationRules(BaseModel):\n",
    "    punctuation_for_clarity: str = Field(..., description=\"Detailed rules on using punctuation to improve clarity and add emphasis.\")\n",
    "    advanced_punctuation: str = Field(..., description=\"Rules for using less common punctuation marks like ellipses, brackets, and slashes.\")\n",
    "\n",
    "class Formatting(BaseModel):\n",
    "    special_text_elements: str = Field(..., description=\"Rules for using bullet points, sidebars, and pull quotes.\")\n",
    "    digital_formatting: str = Field(..., description=\"Guidelines specific to digital or web-based content, such as hyperlink formatting.\")\n",
    "\n",
    "class DictionAndLanguage(BaseModel):\n",
    "    connotations_and_nuance: str = Field(..., description=\"Instructions on choosing words with appropriate connotations.\")\n",
    "    audience_appropriate_language: str = Field(..., description=\"Guidelines on adjusting language complexity based on audience analysis.\")\n",
    "\n",
    "class LegalAndEthical(BaseModel):\n",
    "    compliance_with_regulations: str = Field(..., description=\"Guidelines on ensuring content complies with relevant advertising, privacy, and consumer protection laws.\")\n",
    "    ethical_reporting: str = Field(..., description=\"Best practices for journalistic integrity and accuracy.\")\n",
    "\n",
    "class CulturalSensitivity(BaseModel):\n",
    "    global_vs_local_practices: str = Field(..., description=\"Adjusting content for global audiences vs. specific local customs.\")\n",
    "    avoidance_of_cultural_appropriation: str = Field(..., description=\"Guidelines to distinguish between appreciation and appropriation.\")\n",
    "\n",
    "class StyleGuide(BaseModel):\n",
    "    introduction: str = Field(..., description=\"Overview of the style guide purpose and application.\")\n",
    "    tone_and_voice: ToneAndVoice\n",
    "    grammar_and_syntax: GrammarAndSyntax\n",
    "    punctuation_rules: PunctuationRules\n",
    "    formatting: Formatting\n",
    "    diction_and_language: DictionAndLanguage\n",
    "    legal_and_ethical: LegalAndEthical\n",
    "    cultural_sensitivity: CulturalSensitivity\n",
    "    interactive_elements: str = Field(..., description=\"Incorporating interactive elements like checklists or decision trees to help writers apply guidelines.\")\n",
    "    feedback_mechanisms: str = Field(..., description=\"Methods for gathering and integrating feedback on the style guide itself.\")\n",
    "\n",
    "# Example of using this enhanced model in practice\n",
    "style_guide_example = StyleGuide(\n",
    "    introduction=\"This style guide is designed to standardize written communications across various media, ensuring clarity, consistency, and cultural sensitivity.\",\n",
    "    tone_and_voice=ToneAndVoice(\n",
    "        tone=\"Professional and engaging\",\n",
    "        voice=\"Clear and authoritative\",\n",
    "        contextual_tone_variations=\"Adjust tone from formal in reports to conversational in blogs.\",\n",
    "        desired_reader_emotion=\"Inspire trust and confidence in professional writings; evoke curiosity and engagement in creative content.\"\n",
    "    ),\n",
    "    grammar_and_syntax=GrammarAndSyntax(\n",
    "        verb_tense_consistency=\"Maintain past tense for narrative consistency in historical accounts.\",\n",
    "        complex_syntax_use=\"Utilize subordinate clauses to enrich information without sacrificing clarity.\"\n",
    "    ),\n",
    "    punctuation_rules=PunctuationRules(\n",
    "        punctuation_for_clarity=\"Use commas to separate clauses for enhanced readability.\",\n",
    "        advanced_punctuation=\"Employ semicolons in long lists where items contain commas for clarity.\"\n",
    "    ),\n",
    "    formatting=Formatting(\n",
    "        special_text_elements=\"Use bullet points for clarity in lists within reports.\",\n",
    "        digital_formatting=\"Ensure links are clearly highlighted and accessible in all digital texts.\"\n",
    "    ),\n",
    "    diction_and_language=DictionAndLanguage(\n",
    "        connotations_and_nuance=\"Choose words with positive connotations for motivational speeches.\",\n",
    "        audience_appropriate_language=\"Simplify language for broader accessibility in public communications.\"\n",
    "    ),\n",
    "    legal_and_ethical=LegalAndEthical(\n",
    "        compliance_with_regulations=\"Adhere to GDPR for all content involving user data in the EU.\",\n",
    "        ethical_reporting=\"Verify all factual claims through multiple sources to maintain journalistic integrity.\"\n",
    "    ),\n",
    "    cultural_sensitivity=CulturalSensitivity(\n",
    "        global_vs_local_practices=\"Adapt content to reflect cultural norms when targeting specific regions.\",\n",
    "        avoidance_of_cultural_appropriation=\"Ensure cultural elements are represented respectfully and knowledgeably.\"\n",
    "    ),\n",
    "    interactive_elements=\"Include decision trees in the digital version of the style guide to assist with complex style decisions.\",\n",
    "    feedback_mechanisms=\"Implement annual surveys to collect user feedback on the style guide's effectiveness and areas for improvement.\"\n",
    ")\n"
   ]
  },
  {
   "cell_type": "code",
   "execution_count": null,
   "metadata": {},
   "outputs": [],
   "source": [
    "# v3 revised idea on a page with formatting\n",
    "\n",
    "class CreativePrompt(BaseModel):\n",
    "    title: str = Field(..., description=\"Craft a unique and engaging title that resonates with the theme and features of the business or product idea. Use imaginative language to reflect the essence of the concept without being verbose. Do not use the words 'whispering'.\")\n",
    "    story: str = Field(..., description=\"Weave a story that vividly illustrates how the business or product idea uniquely impacts the lives of up to three characters. Focus on real-world applications and relatable scenarios that directly connect with the idea's setting and its influence on the characters. Be creative not formulaic in the story's structure and content. Do not use the following locations: Tokyo, Neo-Tokyo. Do not use the following names: Eris, Kyle, Lira.\")\n",
    "    founding_team: str = Field(..., description=\"Introduce 2-4 characters as the founding team, each with distinct backgrounds that contribute meaningfully to the solution proposed. Highlight how their unique experiences and skills are crucial to the development and success of the business idea. Format as a bullet point list with markdown bold formatting for each founder's name\")\n",
    "    how_it_works: str = Field(..., description=\"Clearly explain how the product or business functions, incorporating elements inspired by the specific universe or setting from the first prompt. Focus on making the solution both imaginative and applicable, tailored to solve a particular problem in the given context.\")\n",
    "    marketing_jingle: str = Field(..., description=\"Create a succinct, catchy tagline that encapsulates the core theme or key feature of your idea, making it instantly recognizable and relevant to the concept.\")\n",
    "    key_features: str = Field(..., description=\"Detail 3-5 key features that are distinctly influenced by the setting, technology, or magical elements of the idea's universe, setting your business apart from others. Format as a numbered list with markdown bold formatting for each feature's name\")\n",
    "    haters_corner: str = Field(..., description=\"Write a constructive negative perspective from a user or competitor, focusing on challenges that are specific to the concept's setting or unique aspects. This should offer a realistic viewpoint that adds depth to the understanding of the idea's potential hurdles.\")\n",
    "    main_competitor: str = Field(..., description=\"Describe a main competitor in 3-5 sentences, focusing on how they challenge your product or business. This competitor should be creatively conceived to highlight by contrast the unique aspects of your idea.\")\n",
    "    two_sentence_story: str = Field(..., description=\"Craft a brief, quirky story involving your business or product that adds a humorous or surprising element to your concept, enhancing its appeal.\")\n",
    "    early_adopters: str = Field(..., description=\"Identify 3-4 specific character profiles that would be naturally drawn to your idea, explaining why they find it appealing. These profiles should reflect the unique aspects of your business or product, demonstrating its targeted appeal to a specific segment. This should be a named persona reflective of the profile to make it compelling. Format as a bullet point list with markdown bold formatting for each character's name\")\n",
    "    maybe_this_happens: str = Field(..., description=\"Offer a straightforward yet poignant snapshot of the founder's future. Focus on simplicity and subtle poignancy, capturing the essence of the founder's journey and reflections. Aim for clear, concise language that conveys a sense of wonder and nostalgia, without being overly poetic. Sprinkle in something unexpected.\")\n",
    "    product_image_prompt: str = Field(..., description=\"Create a description of a crisp, high resolution product image for the business to be used as marketing and sales collateral. It must be beautiful and go viral. This is not a logo, it is a picture of the business/product. There is no text in the image.\")\n",
    "    competitor_image_prompt: str = Field(..., description=\"Also create a second description of a crisp high resolution product image for the main competitor to be used as marketing and sales collateral. It must be beautiful and go viral. This is not a logo, it is a picture of the business/product. There is no text in the image.\")\n",
    "    founder_image_prompt: str = Field(..., description=\"Also create a third description of a crisp, high resolution image of the founder. Capture their essential personality and all their physical and emotional details and quirks. If the founder is non human or non humanoid, pay attention to their physical characteristics and ensure it is not anthropomorphic if it doesn't need to be. There is no text in the image.\")\n",
    "\n",
    "    def to_markdown(self) -> str:\n",
    "        \"\"\"Format the CreativePrompt attributes into a markdown-formatted string, excluding images.\"\"\"\n",
    "        markdown = f\"## {self.title}\\n\\n\"\n",
    "        exclude_attributes = {\"title\", \"product_image_prompt\", \"competitor_image_prompt\", \"founder_image_prompt\"}\n",
    "        for attribute, value in self.model_dump(exclude=exclude_attributes).items():\n",
    "            formatted_attribute = attribute.replace('_', ' ').capitalize()\n",
    "            markdown += f\"### {formatted_attribute}\\n{value}\\n\\n\"\n",
    "        return markdown.strip()\n",
    "\n",
    "\n",
    "creative_prompt = f\"You are a science fiction and fantasy author. Using the given context as a base, craft an idea-on-a-page in the requested output format.\"\n"
   ]
  },
  {
   "cell_type": "code",
   "execution_count": 6,
   "metadata": {},
   "outputs": [],
   "source": [
    "# image_prompt\n",
    "\n",
    "class ImagePrompt(BaseModel):\n",
    "    subject_description: str = Field(..., description=\"Describe the main subject of the image in detail, focusing on its appearance, characteristics, and any notable features.\")\n",
    "    background: str = Field(..., description=\"Detail the background of the image, considering how it complements or contrasts with the subject.\")\n",
    "    additional_elements: str = Field(..., description=\"Mention any additional elements in the image that enhance its overall composition or add to the story.\")\n",
    "    effect: str = Field(..., description=\"Describe any effects used in the image, such as lighting, focus, or color grading, that contribute to its mood or emphasis.\")\n",
    "    overall_composition: str = Field(..., description=\"Summarize the overall composition of the image, considering how all the elements come together to create a cohesive visual experience.\")\n",
    "    negative_prompt: str = Field(..., description=\"Specify elements or themes that should be avoided or not included in the image.\")\n",
    "\n",
    "    class Config:\n",
    "        json_schema_extra = {\n",
    "            \"example\": {\n",
    "                \"subject_description\": \"A close-up of a dew-kissed rose, with droplets glistening on its delicate petals.\",\n",
    "                \"background\": \"The background is a soft blur of green foliage, providing a natural contrast to the rose.\",\n",
    "                \"additional_elements\": \"A solitary ladybug is perched on one of the petals, adding a pop of color and life to the image.\",\n",
    "                \"effect\": \"The morning light casts a soft glow on the scene, highlighting the rose's vibrant hues and the dew's sparkle.\",\n",
    "                \"overall_composition\": \"The composition is intimate and balanced, with the rose centrally placed and the ladybug providing a focal point.\",\n",
    "                \"negative_prompt\": \"Avoid including any man-made objects or artificial elements that would detract from the natural beauty of the scene.\"\n",
    "            }\n",
    "        }\n",
    "\n",
    "    def to_markdown(self) -> str:\n",
    "        \"\"\"Format the ImagePrompt attributes into a markdown-formatted string.\"\"\"\n",
    "        markdown = \"\"\n",
    "        for attribute, value in self.dict().items():\n",
    "            formatted_attribute = attribute.replace('_', ' ').capitalize()\n",
    "            markdown += f\"**{formatted_attribute}:** {value}\\n\\n\"\n",
    "        return markdown.strip()\n",
    "\n",
    "image_prompt = \"You are a skilled visual artist. Using the given context as a base, craft a detailed image prompt that follows the structure of subject description, background, additional elements, effect, and overall composition. Aim for a vivid and compelling description that brings the image to life.\""
   ]
  },
  {
   "cell_type": "code",
   "execution_count": 7,
   "metadata": {},
   "outputs": [],
   "source": [
    "testing = wrapper(prompt=image_prompt, data=\"a 4X strategy board game like civilisation based in sci fi and fantasy\", response_model=ImagePrompt)"
   ]
  },
  {
   "cell_type": "code",
   "execution_count": 9,
   "metadata": {},
   "outputs": [
    {
     "name": "stdout",
     "output_type": "stream",
     "text": [
      "**Subject description:** The main subject is a cosmic board game sprawled across a table, featuring pieces and structures from a mix of sci-fi and fantasy genres. At the center sits a glowing, holographic globe representing an alien planet, around which various miniature spacecraft, futuristic cities, and fantastical creatures are strategically placed. Noteworthy are the intricate details of a dragon perched atop a space elevator and troops of armored elves preparing for battle beside a sleek, silver spaceship.\n",
      "\n",
      "**Background:** The backdrop is a dimly lit room that hints at a future-tech environment, with walls adorned with screens displaying star maps and ancient runes. Soft, ambient light casts shadows that play across the room, focusing attention on the game table and its contents.\n",
      "\n",
      "**Additional elements:** Scattered around the table are digital cards with holographic images flickering between technological blueprints and mystical spells. Dices made of an ethereal, crystalline material sit next to a digital scoreboard glowing with alien script. On one side of the table, an open rulebook hovers, its pages gently flipping as if caught by an unseen breeze.\n",
      "\n",
      "**Effect:** Soft, ethereal lighting emanates from the board game itself, highlighting the intricate details of the miniatures and the holographic elements with a magical glow. This is contrasted against the darker, more subdued background, creating a mysterious and inviting atmosphere that beckons viewers closer. The focus is on the delicate interplay between light and shadow, with a hint of neon colors from the digital aspects, enhancing the futuristic yet arcane vibe of the setting.\n",
      "\n",
      "**Overall composition:** The composition draws the viewer into a world where sci-fi meets fantasy in a strategic standoff. The carefully arranged game pieces and the surrounding technology blend seamlessly, suggesting a narrative of epic battles and alliances across galaxies and realms. The scene is balanced yet dynamic, with every element contributing to the sense of depth and intrigue that surrounds this immersive game.\n",
      "\n",
      "**Negative prompt:** Avoid including modern-day objects or themes, overly cartoonish styles, and any depictions of gratuitous violence or gore.\n"
     ]
    }
   ],
   "source": [
    "testing_string = testing.to_markdown()\n",
    "print(testing_string)"
   ]
  },
  {
   "cell_type": "code",
   "execution_count": 10,
   "metadata": {},
   "outputs": [],
   "source": [
    "b64_json_image = image_wrapper(testing_string)\n",
    "save_image(b64_json_image, image_folderpath, \"boardgame\")"
   ]
  },
  {
   "cell_type": "code",
   "execution_count": null,
   "metadata": {},
   "outputs": [],
   "source": [
    "# generate and print idea-on-a-page\n",
    "\n",
    "creative_completion = wrapper(creative_prompt, context, CreativePrompt)\n",
    "ideaonapage = creative_completion.to_markdown()\n",
    "print(ideaonapage)\n",
    "\n",
    "# save product, competitor and founder images\n",
    "\n",
    "image_prompts_and_names = [\n",
    "    (creative_completion.product_image_prompt, \"product_image\"),\n",
    "    (creative_completion.competitor_image_prompt, \"competitor_image\"),\n",
    "    (creative_completion.founder_image_prompt, \"founder_image\")\n",
    "]\n",
    "\n",
    "for image_prompt, image_name in image_prompts_and_names:\n",
    "    b64_json_image = image_wrapper(image_prompt)\n",
    "    save_image(b64_json_image, image_folderpath, image_name)"
   ]
  },
  {
   "cell_type": "code",
   "execution_count": null,
   "metadata": {},
   "outputs": [],
   "source": [
    "# Define a list of tuples with (image prompt attribute, image file name)\n",
    "image_prompts_and_names = [\n",
    "    (creative_completion.product_image_prompt, \"product_image\"),\n",
    "    (creative_completion.competitor_image_prompt, \"competitor_image\"),\n",
    "    (creative_completion.founder_image_prompt, \"founder_image\")\n",
    "]\n",
    "\n",
    "# Loop through the list and generate/save each image\n",
    "for image_prompt, image_name in image_prompts_and_names:\n",
    "    b64_json_image = image_wrapper(image_prompt)\n",
    "    save_image(b64_json_image, image_folderpath, image_name)\n"
   ]
  },
  {
   "cell_type": "markdown",
   "metadata": {},
   "source": [
    "## Classification"
   ]
  },
  {
   "cell_type": "code",
   "execution_count": null,
   "metadata": {},
   "outputs": [],
   "source": [
    "# single classification model\n",
    "# from https://useinstructor.com/examples/classification/\n",
    "\n",
    "# labels class\n",
    "# class Labels(str, enum.Enum):\n",
    "#     \"\"\"Enumeration for text classification labels\"\"\"\n",
    "    \n",
    "#     HR = \"a human resources goal, focused on employee management, recruitment, development, and retention\"\n",
    "#     LEGAL = \"a legal goal, aimed at ensuring compliance with laws, regulations, and contracts, and mitigating legal risks\"\n",
    "#     MARKETING = \"a marketing goal, centered around promoting products or services, increasing brand awareness, and generating leads\"\n",
    "#     OPERATIONS = \"an operations goal, focused on optimizing internal processes, supply chain management, and enhancing efficiency\"\n",
    "#     OTHER = \"a goal not elsewhere classified, covering miscellaneous objectives that don't fit into standard categories\"\n",
    "#     PRODUCT = \"a product goal, aimed at developing, improving, or managing a product or product line\"\n",
    "#     SALES = \"a revenue goal, centered around increasing sales, expanding market share, and achieving financial targets\"\n",
    "#     STRATEGY = \"a strategy goal, focused on long-term planning, setting organizational direction, and defining strategic priorities\"\n",
    "#     SUPPORT = \"a customer support goal, aimed at improving customer service, resolving issues, and enhancing customer satisfaction\"\n",
    "#     TECHNOLOGY = \"a technology or engineering goal, focused on technological advancements, software development, and technical infrastructure\"\n",
    "\n",
    "class Labels(str, enum.Enum):\n",
    "    \"\"\"Enumeration for text classification labels\"\"\"\n",
    "    \n",
    "    BUSINESS = \"a business goal, focused on sales, marketing, and strategic planning, including increasing sales, market share, brand awareness, and defining strategic priorities\"\n",
    "    PEOPLE = \"a people goal, focused on employee management, recruitment, development, retention, compliance with laws, regulations, contracts, and mitigating legal risks\"\n",
    "    PRODUCT = \"a product goal, aimed at developing, improving, managing products, technological advancements, software development, and technical infrastructure\"\n",
    "    OPERATIONS = \"an operations goal, focused on optimizing internal processes, supply chain management, enhancing efficiency, customer service, and resolving issues\"\n",
    "    OTHER = \"a goal not elsewhere classified, covering miscellaneous objectives that don't fit into standard categories\"\n",
    "\n",
    "\n",
    "\n",
    "# base classification model\n",
    "\n",
    "class SinglePrediction(BaseModel):\n",
    "    \"\"\"\n",
    "    Class for a single class label prediction.\n",
    "    \"\"\"\n",
    "\n",
    "    class_label: Labels\n",
    "\n",
    "# classify function\n",
    "\n",
    "def classify(data: str) -> SinglePrediction:\n",
    "    \"\"\"Perform single-class-label classification on the input text.\"\"\"\n",
    "    return client.chat.completions.create(\n",
    "        model=GPT_MODEL_TEXT_ALIAS,\n",
    "        response_model=SinglePrediction,\n",
    "        max_retries=5,\n",
    "        messages=[\n",
    "            {\n",
    "                \"role\": \"user\",\n",
    "                # \"content\": f\"Classify the following text: {data}\",\n",
    "                \"content\": f\"\"\"\n",
    "                Correctly apply the most relevant enum to the provided {data}.\n",
    "                Each enum represents a specific business category.\n",
    "                Ensure that your classification is based on the primary focus and objectives of the data.\n",
    "                \"\"\",\n",
    "            },\n",
    "        ],\n",
    "    )  # type: ignore\n",
    "\n",
    "# output with Single Prediction\n",
    "for number, goal in enumerate(completion.goals, start=1):\n",
    "    result = classify(goal)\n",
    "    print((f\"Goal {number}: {goal.sentence}\\nClassification: {result.class_label.name}\\nTotal tokens: {result._raw_response.usage.total_tokens}\\n\"))"
   ]
  },
  {
   "cell_type": "code",
   "execution_count": null,
   "metadata": {},
   "outputs": [],
   "source": [
    "# multiclass prediction model\n",
    "\n",
    "# multiclass labels\n",
    "\n",
    "class Labels(str, enum.Enum):\n",
    "    \"\"\"Enumeration for text classification labels for a multiclass model\"\"\"\n",
    "\n",
    "    HR = \"a human resources goal, focused on employee management, recruitment, development, and retention\"\n",
    "    LEGAL = \"a legal goal, aimed at ensuring compliance with laws, regulations, and contracts, and mitigating legal risks\"\n",
    "    MARKETING = \"a marketing goal, centered around promoting products or services, increasing brand awareness, and generating leads\"\n",
    "    OPERATIONS = \"an operations goal, focused on optimizing internal processes, supply chain management, and enhancing efficiency\"\n",
    "    OTHER = \"a goal not elsewhere classified, covering miscellaneous objectives that don't fit into standard categories\"\n",
    "    PRODUCT = \"a product goal, aimed at developing, improving, or managing a product or product line\"\n",
    "    SALES = \"a revenue goal, centered around increasing sales, expanding market share, and achieving financial targets\"\n",
    "    STRATEGY = \"a strategy goal, focused on long-term planning, setting organizational direction, and defining strategic priorities\"\n",
    "    SUPPORT = \"a customer support goal, aimed at improving customer service, resolving issues, and enhancing customer satisfaction\"\n",
    "    TECHNOLOGY = \"a technology or engineering goal, focused on technological advancements, software development, and technical infrastructure\"\n",
    "\n",
    "\n",
    "# multi class base model\n",
    "\n",
    "class MultiPrediction(BaseModel):\n",
    "    \"\"\"\n",
    "    Class for a multi-class enum prediction of labels.\n",
    "    \"\"\"\n",
    "\n",
    "    # multi_class_label: List[Labels] = Field(...,description=\"Correctly apply one or more enums to the provided data. Never apply all enums\")\n",
    "    multi_class_label: List[Labels] = Field(...,description=\"Correctly apply one to three of the most relevant enums to the provided data. Never apply all enums.\")\n",
    "\n",
    "# multiclassify prompt\n",
    "    \n",
    "# multi_prompt = f\"You are an expert data scientist and domain expert. Correctly apply one to three of the most relevant enums to the provided data. Never apply all enums.\"\n",
    "\n",
    "multi_prompt = \"\"\"\n",
    "    You are a venture capital partner.\n",
    "    Correctly apply one to three of the most relevant enums to the provided data.\n",
    "    Each enum represents a specific business category.\n",
    "    Ensure that your classification is based on the primary focus and objectives of the data.\n",
    "    Do not apply all enums; only select those that are most applicable.\n",
    "\"\"\"\n",
    "\n",
    "# multiclassify function\n",
    "\n",
    "def multiclassify(data: str) -> MultiPrediction:\n",
    "    \"\"\"Perform multi-class-label classification on the input text.\"\"\"\n",
    "    return client.chat.completions.create(\n",
    "        model=GPT_MODEL_TEXT_ALIAS,\n",
    "        response_model=MultiPrediction,\n",
    "        max_retries=5,\n",
    "        messages=[\n",
    "            {\n",
    "                \"role\": \"system\",\n",
    "                \"content\": multi_prompt,\n",
    "            },\n",
    "        ],\n",
    "    )  # type: ignore\n",
    "\n",
    "# output with multiple classifications\n",
    "for number, goal in enumerate(completion.goals, start=1):\n",
    "    result = multiclassify(goal)\n",
    "    label_names = [label.name for label in result.multi_class_label]\n",
    "    label_names = ', '.join(label_names)\n",
    "    print((f\"Goal {number}: {goal.sentence}\\nMultiClassification: {label_names}\\nTotal tokens: {result._raw_response.usage.total_tokens}\\n\"))\n"
   ]
  },
  {
   "cell_type": "markdown",
   "metadata": {},
   "source": [
    "## RANDOM STUFF"
   ]
  },
  {
   "cell_type": "code",
   "execution_count": null,
   "metadata": {},
   "outputs": [],
   "source": [
    "print(result._raw_response.usage)"
   ]
  },
  {
   "cell_type": "code",
   "execution_count": null,
   "metadata": {},
   "outputs": [],
   "source": [
    "print(completion._raw_response.usage)"
   ]
  },
  {
   "cell_type": "markdown",
   "metadata": {},
   "source": [
    "TRYING OUT MULTICLASS"
   ]
  },
  {
   "cell_type": "code",
   "execution_count": null,
   "metadata": {},
   "outputs": [],
   "source": [
    "# Try this version out using llm validator : https://www.linkedin.com/pulse/development-soql-generator-applying-rag-salesforce-data-toogood-22gre/?utm_source=rss&utm_campaign=articles_sitemaps"
   ]
  },
  {
   "cell_type": "code",
   "execution_count": null,
   "metadata": {},
   "outputs": [],
   "source": [
    "messages = []\n",
    "previous_response = freewriting.choices[0].message.content\n",
    "next_message = free\n",
    "\n",
    "messages.append({\"role\": \"assistant\", \"content\": previous_response})\n",
    "messages.append({\"role\": \"user\", \"content\": next_message})\n",
    "\n",
    "freewriting = client.chat.completions.create(\n",
    "        model=GPT_MODEL_TEXT_ALIAS,\n",
    "        messages=messages\n",
    "    )"
   ]
  },
  {
   "cell_type": "code",
   "execution_count": null,
   "metadata": {},
   "outputs": [],
   "source": [
    "print(freewriting.choices[0].message.content)"
   ]
  },
  {
   "cell_type": "code",
   "execution_count": null,
   "metadata": {},
   "outputs": [],
   "source": [
    "previous_response = freewriting.choices[0].message.content\n",
    "messages.append({\"role\": \"assistant\", \"content\": previous_response})"
   ]
  },
  {
   "cell_type": "code",
   "execution_count": null,
   "metadata": {},
   "outputs": [],
   "source": [
    "len(messages)"
   ]
  }
 ],
 "metadata": {
  "kernelspec": {
   "display_name": ".venv",
   "language": "python",
   "name": "python3"
  },
  "language_info": {
   "codemirror_mode": {
    "name": "ipython",
    "version": 3
   },
   "file_extension": ".py",
   "mimetype": "text/x-python",
   "name": "python",
   "nbconvert_exporter": "python",
   "pygments_lexer": "ipython3",
   "version": "3.11.5"
  }
 },
 "nbformat": 4,
 "nbformat_minor": 2
}
