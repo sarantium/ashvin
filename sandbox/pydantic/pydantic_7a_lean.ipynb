{
 "cells": [
  {
   "cell_type": "markdown",
   "metadata": {},
   "source": [
    "**Goal**: Create a lean canvas for a product or business idea\n",
    "\n",
    "**Plan**:\n",
    "\n",
    "- **Task 1**: Create Lean(er) Canvas: Build a simple canvas with four fields\n",
    "- **Task 2**: Expand Lean Canvas: Add eight fields and more details to the canvas\n",
    "- **Task 3**: Research Competitors: Gather information about competitors\n",
    "- **Task 4**: Competitor Canvases: Create canvases for each competitor\n",
    "- **Task 5**: Update Canvas: Improve canvas with competitor insights\n",
    "- **Task 6**: \n",
    "\n",
    "- Evals :\n",
    "   - OST -> ICE\n",
    "   - Leaner/Lean Canvas to -> Lean Governance\n",
    "   - PRD -> ?\n",
    "   \n",
    "   https://www.youtube.com/watch?v=MXPYbjjyHXc&t"
   ]
  },
  {
   "cell_type": "markdown",
   "metadata": {},
   "source": [
    "I've been thinking about te above\n",
    "\n",
    "- lean governance at each step?\n",
    "- maybe the goal is create and valdiate?"
   ]
  }
 ],
 "metadata": {
  "language_info": {
   "name": "python"
  }
 },
 "nbformat": 4,
 "nbformat_minor": 2
}
