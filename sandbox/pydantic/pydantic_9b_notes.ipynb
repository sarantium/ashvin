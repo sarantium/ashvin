{
 "cells": [
  {
   "cell_type": "code",
   "execution_count": null,
   "metadata": {},
   "outputs": [],
   "source": [
    "# goal\n",
    "goal = \"Convert a long YouTube transcript into structured notes and diagrams for a local material-mkdocs site.\"\n",
    "\n",
    "# tasks\n",
    "task_1 = \"Download the complete transcript from the YouTube video.\"\n",
    "task_2 = \"Collect video metadata (title, author, date) from YouTube.\"\n",
    "task_3 = \"Identify key topics, keywords and questions from the transcript.\"\n",
    "task_4 = \"Draft an outline with clear sections and subsections based on the transcript.\"\n",
    "task_5 = \"Populate each subsection with detailed content from the transcript.\"\n",
    "task_6 = \"Create diagrams based on the identified topics and integrate them into the outline.\"\n",
    "task_7 = \"Assemble each section into individual Markdown files, including relevant diagrams and metadata.\"\n",
    "task_8 = \"Compile all Markdown files into the material-mkdocs site structure.\"\n",
    "task_9 = \"Launch the local mkdocs site to verify the structure and content.\""
   ]
  }
 ],
 "metadata": {
  "language_info": {
   "name": "python"
  }
 },
 "nbformat": 4,
 "nbformat_minor": 2
}
