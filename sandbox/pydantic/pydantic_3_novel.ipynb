{
 "cells": [
  {
   "cell_type": "markdown",
   "metadata": {},
   "source": [
    "## Goals and Notes\n",
    "\n",
    "[ ] Get it working - Write a book and export as epub \n",
    "- recreate [shumer novel](https://github.com/mshumer/gpt-author/blob/main/Claude_Author.ipynb) in pydantic and GPT 4\n",
    "\n"
   ]
  },
  {
   "cell_type": "code",
   "execution_count": 1,
   "metadata": {},
   "outputs": [],
   "source": [
    "# imports\n",
    "\n",
    "import time\n",
    "import re\n",
    "import os\n",
    "# from ebooklib import epub\n",
    "from ebooklib.epub import EpubBook, EpubHtml, EpubItem, EpubNcx, EpubNav, write_epub\n",
    "import base64\n",
    "import requests\n",
    "import json\n",
    "\n",
    "import os\n",
    "import enum\n",
    "import instructor\n",
    "from instructor import llm_validator\n",
    "from pathlib import Path\n",
    "from openai import OpenAI\n",
    "from dotenv import load_dotenv\n",
    "from datetime import datetime\n",
    "from typing import Tuple, Optional, List, Annotated, ClassVar, Union\n",
    "from pydantic import BaseModel, PositiveInt, Field, ValidationError, BeforeValidator, field_validator, conlist, ConfigDict, constr\n",
    "from io import BytesIO\n",
    "from PIL import Image\n",
    "import base64"
   ]
  },
  {
   "cell_type": "code",
   "execution_count": 2,
   "metadata": {},
   "outputs": [],
   "source": [
    "# load API key\n",
    "\n",
    "dotenv_path = Path(r\"C:\\Storage\\python_projects\\ashvin\\.env\")\n",
    "image_folderpath = Path(r\"C:\\Storage\\python_projects\\ashvin\\sandbox\\pydantic\")\n",
    "load_dotenv(dotenv_path=dotenv_path)\n",
    "\n",
    "OPENAI_API_KEY = os.getenv(\"OPENAI_API_KEY\")\n",
    "\n",
    "# main constants\n",
    "\n",
    "GPT_MODEL_TEXT_ALIAS = \"gpt-4-turbo-preview\" # points to latest GPT model\n",
    "GPT_MODEL_TEXT = \"gpt-4-0125-preview\"\n",
    "GPT_MODEL_35_TEXT_ALIAS = \"gpt-3.5-turbo\" # points to latest GPT 3.5 Turbo model\n",
    "DALL_E_3 = \"dall-e-3\"\n",
    "\n",
    "#instantiate client\n",
    "client = instructor.patch(OpenAI())"
   ]
  },
  {
   "cell_type": "code",
   "execution_count": 10,
   "metadata": {},
   "outputs": [],
   "source": [
    "# config\n",
    "\n",
    "min_length = 33\n",
    "max_retries = 5\n",
    "model=GPT_MODEL_TEXT_ALIAS\n",
    "response_model = None\n",
    "context = None\n",
    "\n",
    "num_chapters = 5\n",
    "chapter_length = 3\n",
    "author = \"sarantium\"\n",
    "bookid = \"id12345\"\n",
    "cover_image_path = image_folderpath / \"cover.png\"\n",
    "writing_style = \"\"\"\n",
    "A snarky comedy with a gripping sci fi or fantasy storyline. Always show not tell. Dialogue over exposition. Use active voice.\n",
    "\"\"\"\n",
    "topic = \"a shitty superpower - can transform into a giant panda and heals instantly between shifting forms. A focus on the details of this power's usage by the superhero or supervillain.\"\n",
    "\n"
   ]
  },
  {
   "cell_type": "code",
   "execution_count": null,
   "metadata": {},
   "outputs": [],
   "source": [
    "# editing - remove first line\n",
    "\n",
    "def remove_first_line(test_string):\n",
    "    if test_string.startswith(\"Here\") and test_string.split(\"\\n\")[0].strip().endswith(\":\"):\n",
    "        return re.sub(r'^.*\\n', '', test_string, count=1)\n",
    "    return test_string"
   ]
  },
  {
   "cell_type": "code",
   "execution_count": 4,
   "metadata": {},
   "outputs": [],
   "source": [
    "# my wrapper \n",
    "\n",
    "def wrapper(prompt: str, data: str | list, response_model: BaseModel | None = None):\n",
    "    \"\"\"Wrapper function to generate LLM completion\"\"\"\n",
    "    response = client.chat.completions.create(\n",
    "        model=GPT_MODEL_TEXT_ALIAS,\n",
    "        response_model=response_model,\n",
    "        max_retries=max_retries,\n",
    "        messages=[\n",
    "            {\"role\": \"system\", \"content\": prompt},\n",
    "            {\"role\": \"user\", \"content\": data},\n",
    "        ]\n",
    "    )\n",
    "    # Assuming response.choices[0].message.content for OpenAI response structure\n",
    "    response_text = response.choices[0].message.content\n",
    "    return response_text.strip()\n",
    "\n",
    "# image wrapper function\n",
    "\n",
    "def image_wrapper(image_prompt: str) -> str:\n",
    "    \"\"\"Generate an image using DALL-E 3 and return the base64 JSON representation.\"\"\"\n",
    "    response = client.images.generate(\n",
    "        model=DALL_E_3,\n",
    "        prompt=image_prompt,\n",
    "        size=\"1024x1024\",\n",
    "        quality=\"standard\",\n",
    "        style=\"vivid\",\n",
    "        response_format=\"b64_json\",\n",
    "        n=1,\n",
    "    )\n",
    "    return response.data[0].b64_json\n",
    "\n",
    "# save image function\n",
    "\n",
    "def save_image(b64_json: str, folder_path: Union[str, Path], image_name: str) -> None:\n",
    "    \"\"\"Convert a base64 JSON image string to a PNG file and save it in the specified folder with the given image name.\"\"\"\n",
    "    if not isinstance(folder_path, Path):\n",
    "        folder_path = Path(folder_path)\n",
    "    \n",
    "    # Combine the folder path and image name to create the full file path\n",
    "    file_path = folder_path / f\"{image_name}.png\"\n",
    "    \n",
    "    image_data = base64.b64decode(b64_json)\n",
    "    image = Image.open(BytesIO(image_data))\n",
    "    image.save(file_path)"
   ]
  },
  {
   "cell_type": "code",
   "execution_count": 11,
   "metadata": {},
   "outputs": [],
   "source": [
    "# prompts\n",
    "\n",
    "plot_prompt = \"You are a world-class short story author. Write the requested content with great skill and attention to detail.\"\n",
    "plot_data = f\"\"\" \n",
    "Write me a plot outline for a {num_chapters}-chapter short story in the {writing_style} style,\n",
    "based on the following topic: {topic}. Each chapter should be {chapter_length} pages long.\n",
    "Only return the plot outline. No title, preamble or postscript.\n",
    "\"\"\""
   ]
  },
  {
   "cell_type": "code",
   "execution_count": 12,
   "metadata": {},
   "outputs": [
    {
     "name": "stdout",
     "output_type": "stream",
     "text": [
      "**Chapter 1: Unbearable Beginnings**\n",
      "\n",
      "- Setting: Modern-day bustling city, vibrant and chaotic, teeming with both ordinary and superhuman activities.\n",
      "\n",
      "- Introduction of the protagonist, Alex, a dry-humored individual with the unfortunate superpower of transforming into a giant panda. While in panda form, Alex heals instantly from any injuries but cannot communicate or control the transformation timing well.\n",
      "\n",
      "- Scene: A casual dinner with friends at a local diner. Mid-bite into a spicy chicken wing, Alex sneezes and transforms, causing pandemonium. The diner's patrons react in a mix of horror, amusement, and curiosity. Alex, now a giant panda, clumsily tries to exit without causing more havoc, demonstrating the first glimpse of instant healing as a wobbly table leg breaks and pierces through, only for the wound to close seamlessly as Alex shifts back.\n",
      "\n",
      "- Dialogue focuses on friends teasing Alex about the \"unbearable\" superpower, highlighting the snarky tone and setting the stage for both the comedic and sci-fi/fantasy elements.\n",
      "\n",
      "- The chapter closes with Alex receiving a mysterious message challenging them to use their power for greater deeds, introducing the central conflict. \n",
      "\n",
      "**Chapter 2: The Reluctant Hero**\n",
      "\n",
      "- Setting shifts to various parts of the city, showing Alex attempting to put the superpower to good use, albeit reluctantly.\n",
      "\n",
      "- Scene: Thwarting a low-level robbery in progress by transforming in the alleyway and scaring off thugs. The healing power is showcased when one of the thugs swings a bat at Alex, who is in panda form; the bat splinters on impact, and Alex nonchalantly scratches where the hit was, skin unmarred.\n",
      "\n",
      "- Sharp-witted banter between Alex and the grateful but bewildered shopkeeper, emphasizing dialogue over narration.\n",
      "\n",
      "- A news report later shows a \"giant panda vigilante\" on the loose, with public opinion divided. Friends debating the ethics and silliness of Alex's heroism at their hangout spot, pushing the plot through conversation rather than exposition.\n",
      "\n",
      "- Chapter ends with Alex being approached by a mysterious figure, hinting at a larger world of superhumans and inviting Alex to join a covert operation.\n",
      "\n",
      "**Chapter 3: A Band of Misfits**\n",
      "\n",
      "- Introduction of a quirky team of superhumans with equally ridiculous powers, each member introduced through a significant action or piece of dialogue that showcases their abilities and personalities.\n",
      "\n",
      "- The setting is the team's hideout, filled with high-tech gadgets and posters of various superhuman feats.\n",
      "\n",
      "- Training montage scene, focusing on Alex learning to control the transformation and use the healing ability more effectively during missions, peppered with comedic failures and snappy one-liners from team members.\n",
      "\n",
      "- The team receives a mission to infiltrate a villainous organization's lair, suspected of plotting a city-wide catastrophe. The seriousness of the situation is undercut by the team’s inability to take anything seriously, providing humor amidst tension.\n",
      "\n",
      "- Chapter concludes with the team, including Alex, gearing up for the mission, showcasing a blend of determination and inevitable comedic mishaps.\n",
      "\n",
      "**Chapter 4: The Infiltration**\n",
      "\n",
      "- The setting is the villainous organization's stronghold, a seemingly normal corporate building with layers of security and traps.\n",
      "\n",
      "- The team uses their unique powers in creative and humorous ways to bypass obstacles. Alex's transformation is key in several moments, like disguising as an innocuous panda in surveillance-heavy areas and using the healing power to recover from laser security grid burns.\n",
      "\n",
      "- Dialogue-heavy scenes of the team bickering and joking even in the face of danger, emphasizing the story's comedic aspect.\n",
      "\n",
      "- A confrontation with the organization's head, revealing their plan to unleash a mind-control device on the city. The absurdity of the plan and the villain's monologue are played for laughs, keeping consistent with the story's tone.\n",
      "\n",
      "- Chapter ends with the team successfully thwarting the plan, but the device activates in a confined space, affecting only the villain, adding a twist of irony.\n",
      "\n",
      "**Chapter 5: Not All Heroes Wear Capes**\n",
      "\n",
      "- The aftermath, back in the city, where the team is celebrated not as traditional heroes but as something uniquely their own. \n",
      "\n",
      "- A public speech scene where Alex, in panda form, stands beside team members as the city's mayor awkwardly thanks them, juxtaposing the story's absurdity with a sincere acknowledgment of heroism.\n",
      "\n",
      "- Friends and team members roast Alex about being a \"national treasure\" and a \"panda non grata,\" solidifying the story's reliance on humor and dialogue to develop characters and advance the plot.\n",
      "\n",
      "- A quietly reflective moment for Alex, realizing the value of their unique superpower and the importance of embracing one's quirks, conveyed through a heart-to-heart with a team member.\n",
      "\n",
      "- The story closes with the team being alerted to another ridiculous threat, hinting at future adventures. The final dialogue encapsulates the story's theme of finding one's place in a world that may not always understand or appreciate the unconventional.\n"
     ]
    }
   ],
   "source": [
    "# test\n",
    "\n",
    "plot_outline = wrapper(plot_prompt, plot_data)\n",
    "print(plot_outline)"
   ]
  },
  {
   "cell_type": "code",
   "execution_count": null,
   "metadata": {},
   "outputs": [],
   "source": [
    "# # prompts\n",
    "\n",
    "# story_prompt = \"You are a world-class short story author. Write the requested content with great skill and attention to detail.\"\n",
    "# story_data = \"write me a short story about a shitty superpower. Only return the story. No title, preamble or postscript.\"\n",
    "\n",
    "# # test\n",
    "\n",
    "# story = wrapper(story_prompt, story_data)\n",
    "# print(story)"
   ]
  },
  {
   "cell_type": "code",
   "execution_count": 13,
   "metadata": {},
   "outputs": [],
   "source": [
    "# cover prompt\n",
    "\n",
    "cover_prompt = \"\"\"\n",
    "You are a world-class illustrator and cover designer for books. Write the requested content with great skill and attention to detail.\n",
    "Describe the cover we should create, based on the plot. This should be two sentences long, maximum.\n",
    "\"\"\"\n",
    "\n",
    "def generate_cover_prompt(prompt, plot):\n",
    "    response = wrapper(prompt, plot)\n",
    "    return response"
   ]
  },
  {
   "cell_type": "code",
   "execution_count": 14,
   "metadata": {},
   "outputs": [
    {
     "name": "stdout",
     "output_type": "stream",
     "text": [
      "The cover should feature a giant panda in a bustling cityscape, with elements of chaos and humor - like a broken diner sign and a scattering of superheroes in the background. Alex, the panda, is caught mid-sneeze, transforming back to human with a bewildered expression and a spicy chicken wing flying in the air.\n"
     ]
    }
   ],
   "source": [
    "# test \n",
    "\n",
    "cover_description = generate_cover_prompt(cover_prompt, plot_outline)\n",
    "print(cover_description)"
   ]
  },
  {
   "cell_type": "code",
   "execution_count": 15,
   "metadata": {},
   "outputs": [],
   "source": [
    "# generate cover image\n",
    "\n",
    "cover_image_prompt = \"\"\"\n",
    "You are a world-class illustrator and cover designer for visual books. Design the requested content with great skill and attention to detail.\n",
    "Design the cover we should create, based on the cover description.\n",
    "This is a visual book with no text or description in the cover.\n",
    "\"\"\"\n",
    "\n",
    "def create_cover_image(prompt, summary):\n",
    "    full_cover_image_prompt = f\"Cover image prompt: {prompt}, Summary: {summary}\"\n",
    "    response = image_wrapper(full_cover_image_prompt)\n",
    "    return response"
   ]
  },
  {
   "cell_type": "code",
   "execution_count": 16,
   "metadata": {},
   "outputs": [],
   "source": [
    "# test cover image\n",
    "\n",
    "cover_image_b64 = create_cover_image(cover_image_prompt, cover_description)\n",
    "save_image(cover_image_b64, image_folderpath, \"cover\")"
   ]
  },
  {
   "cell_type": "code",
   "execution_count": 17,
   "metadata": {},
   "outputs": [],
   "source": [
    "# title prompt\n",
    "\n",
    "title_prompt = \"\"\"\n",
    "You are a world-class publisher. Write the requested content with great skill and attention to detail.\n",
    "Respond with a great title for this short story, based on the plot. Only respond with the title, nothing else is allowed.\n",
    "\"\"\"\n",
    "\n",
    "def generate_title(prompt, plot):\n",
    "    response = wrapper(prompt, plot)\n",
    "    return response"
   ]
  },
  {
   "cell_type": "code",
   "execution_count": 18,
   "metadata": {},
   "outputs": [
    {
     "name": "stdout",
     "output_type": "stream",
     "text": [
      "\"Pandamonium: A Superhero's Unlikely Tale\"\n"
     ]
    }
   ],
   "source": [
    "# test\n",
    "\n",
    "title = generate_title(title_prompt, plot_outline)\n",
    "print(title)"
   ]
  },
  {
   "cell_type": "code",
   "execution_count": 19,
   "metadata": {},
   "outputs": [],
   "source": [
    "# generate chapter title\n",
    "\n",
    "chapter_title_prompt = \"\"\"\n",
    "You are a world-class publisher. Write the requested content with great skill and attention to detail.\n",
    "Respond with a great title for this chapter, based on the plot. Only respond with the title, nothing else is allowed.\n",
    "No quotation marks.\n",
    "\"\"\"\n",
    "\n",
    "def generate_chapter_title(prompt, chapter_content):\n",
    "    response = wrapper(prompt, chapter_content)\n",
    "    return response"
   ]
  },
  {
   "cell_type": "code",
   "execution_count": 20,
   "metadata": {},
   "outputs": [],
   "source": [
    "# my version of generate book\n",
    "\n",
    "def generate_book(plot_outline, num_chapters, chapter_length, writing_style):\n",
    "    chapters = []\n",
    "    for i in range(1, num_chapters + 1):\n",
    "        print(f\"Generating chapter {i}...\")\n",
    "        previous_chapters = ' '.join(chapters)  # Gather all previous chapters into a single string\n",
    "        \n",
    "        # Prepare the prompt and data strings\n",
    "        prompt = f\"\"\"\n",
    "        Writing Style: {writing_style}\n",
    "        Plot Outline: {plot_outline}\n",
    "        Task: \n",
    "        Write chapter {i}, ensuring it follows the plot outline and builds on the previous chapters. \n",
    "        The chapter is {chapter_length} pages long.\n",
    "        Special Instructions : Remember, each chapter and the overall book is a connected piece of writing. The only markdown structure in a chapter is its title.\n",
    "        \"\"\"\n",
    "        data = f\"Previous Chapters: {previous_chapters}\"\n",
    "        \n",
    "        # Call the wrapper function with prompt and data\n",
    "        chapter = wrapper(prompt, data)\n",
    "        chapters.append(chapter)\n",
    "        print(f\"Chapter {i} complete\")\n",
    "        time.sleep(1)  # Delay to manage API call rates, if applicable\n",
    "\n",
    "    print(\"Compiling the book...\")\n",
    "    book = \"\\n\\n\".join(chapters)\n",
    "    print(\"Book generated!\")\n",
    "\n",
    "    return book, chapters\n",
    "\n"
   ]
  },
  {
   "cell_type": "code",
   "execution_count": 21,
   "metadata": {},
   "outputs": [
    {
     "name": "stdout",
     "output_type": "stream",
     "text": [
      "Generating chapter 1...\n",
      "Chapter 1 complete\n",
      "Generating chapter 2...\n",
      "Chapter 2 complete\n",
      "Generating chapter 3...\n",
      "Chapter 3 complete\n",
      "Generating chapter 4...\n",
      "Chapter 4 complete\n",
      "Generating chapter 5...\n",
      "Chapter 5 complete\n",
      "Compiling the book...\n",
      "Book generated!\n"
     ]
    }
   ],
   "source": [
    "# test\n",
    "\n",
    "book, chapters = generate_book(plot_outline, num_chapters, chapter_length, writing_style)"
   ]
  },
  {
   "cell_type": "code",
   "execution_count": 22,
   "metadata": {},
   "outputs": [],
   "source": [
    "# create epub\n",
    "\n",
    "def create_epub(id, title, author, chapters, cover_image_path, epub_save_path):\n",
    "    # Function to sanitize file names\n",
    "    def sanitize_filename(filename):\n",
    "        \"\"\"Remove invalid characters from filenames.\"\"\"\n",
    "        import re\n",
    "        return re.sub(r'[\\\\/*?:\"<>|]', \"\", filename).strip()\n",
    "\n",
    "    book = EpubBook()\n",
    "    # Set metadata\n",
    "    book.set_identifier(id)\n",
    "    book.set_title(title)\n",
    "    book.set_language('en')\n",
    "    book.add_author(author)\n",
    "    # Add cover image\n",
    "    with open(cover_image_path, 'rb') as cover_file:\n",
    "        cover_image = cover_file.read()\n",
    "    book.set_cover('cover.png', cover_image)\n",
    "    # Create chapters and add them to the book\n",
    "    epub_chapters = []\n",
    "    for i, chapter_content in enumerate(chapters, start=1):\n",
    "        chapter_title = generate_chapter_title(chapter_title_prompt, chapter_content)  # ensure generate_chapter_title is defined\n",
    "        chapter_file_name = f'chapter_{i}.xhtml'\n",
    "        epub_chapter = EpubHtml(title=chapter_title, file_name=chapter_file_name, lang='en')\n",
    "        # Add paragraph breaks and ensure HTML line breaks\n",
    "        formatted_content = ''.join(f'<p>{paragraph.strip()}</p>' for paragraph in chapter_content.split('\\n') if paragraph.strip())\n",
    "        # Include two HTML <br> tags for line breaks\n",
    "        epub_chapter.content = f'<h1>Chapter {i}: {chapter_title}</h1><br><br>{formatted_content}'\n",
    "        book.add_item(epub_chapter)\n",
    "        epub_chapters.append(epub_chapter)\n",
    "        time.sleep(1)\n",
    "\n",
    "    # Define Table of Contents\n",
    "    book.toc = (epub_chapters)\n",
    "\n",
    "    # Add default NCX and Nav files\n",
    "    book.add_item(EpubNcx())\n",
    "    book.add_item(EpubNav())\n",
    "\n",
    "    # Define CSS style\n",
    "    style = '''\n",
    "    @namespace epub \"http://www.idpf.org/2007/ops\";\n",
    "    body {\n",
    "        font-family: Cambria, Liberation Serif, serif;\n",
    "    }\n",
    "    h1 {\n",
    "        text-align: left;\n",
    "        text-transform: uppercase;\n",
    "        font-weight: 200;\n",
    "    }\n",
    "    p {\n",
    "        margin: 0;\n",
    "        padding: 0;\n",
    "        text-align: justify;\n",
    "    }\n",
    "    '''\n",
    "\n",
    "    # Add CSS file\n",
    "    nav_css = EpubItem(uid=\"style_nav\", file_name=\"style/nav.css\", media_type=\"text/css\", content=style)\n",
    "    book.add_item(nav_css)\n",
    "\n",
    "    # Create spine\n",
    "    book.spine = ['nav'] + epub_chapters\n",
    "\n",
    "    # Save the EPUB file\n",
    "    sanitized_title = sanitize_filename(title)\n",
    "    save_path = epub_save_path / f'{sanitized_title}.epub'\n",
    "    print(f\"Saving EPUB at: {save_path}\")\n",
    "    write_epub(save_path, book)\n"
   ]
  },
  {
   "cell_type": "code",
   "execution_count": 23,
   "metadata": {},
   "outputs": [
    {
     "name": "stdout",
     "output_type": "stream",
     "text": [
      "Saving EPUB at: C:\\Storage\\python_projects\\ashvin\\sandbox\\pydantic\\Pandamonium A Superhero's Unlikely Tale.epub\n"
     ]
    }
   ],
   "source": [
    "# test\n",
    "\n",
    "create_epub(id=bookid, title=title, author=author, chapters=chapters, cover_image_path=cover_image_path, epub_save_path=image_folderpath)"
   ]
  }
 ],
 "metadata": {
  "kernelspec": {
   "display_name": ".venv",
   "language": "python",
   "name": "python3"
  },
  "language_info": {
   "codemirror_mode": {
    "name": "ipython",
    "version": 3
   },
   "file_extension": ".py",
   "mimetype": "text/x-python",
   "name": "python",
   "nbconvert_exporter": "python",
   "pygments_lexer": "ipython3",
   "version": "3.11.5"
  }
 },
 "nbformat": 4,
 "nbformat_minor": 2
}
