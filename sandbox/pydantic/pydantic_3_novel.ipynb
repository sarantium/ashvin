{
 "cells": [
  {
   "cell_type": "markdown",
   "metadata": {},
   "source": [
    "## Goals and Notes\n",
    "\n",
    "[ ] Get it working - Write a book and export as epub \n",
    "- recreate [shumer novel](https://github.com/mshumer/gpt-author/blob/main/Claude_Author.ipynb) in pydantic and GPT 4\n",
    "\n"
   ]
  },
  {
   "cell_type": "code",
   "execution_count": null,
   "metadata": {},
   "outputs": [],
   "source": [
    "# imports\n",
    "\n",
    "import time\n",
    "import re\n",
    "import os\n",
    "# from ebooklib import epub\n",
    "from ebooklib.epub import EpubBook, EpubHtml, EpubItem, EpubNcx, EpubNav, write_epub\n",
    "import base64\n",
    "import requests\n",
    "import json\n",
    "\n",
    "import os\n",
    "import enum\n",
    "import instructor\n",
    "from instructor import llm_validator\n",
    "from pathlib import Path\n",
    "from openai import OpenAI\n",
    "from dotenv import load_dotenv\n",
    "from datetime import datetime\n",
    "from typing import Tuple, Optional, List, Annotated, ClassVar, Union\n",
    "from pydantic import BaseModel, PositiveInt, Field, ValidationError, BeforeValidator, field_validator, conlist, ConfigDict, constr\n",
    "from io import BytesIO\n",
    "from PIL import Image\n",
    "import base64"
   ]
  },
  {
   "cell_type": "code",
   "execution_count": null,
   "metadata": {},
   "outputs": [],
   "source": [
    "# load API key\n",
    "\n",
    "dotenv_path = Path(r\"C:\\Storage\\python_projects\\ashvin\\.env\")\n",
    "image_folderpath = Path(r\"C:\\Storage\\python_projects\\ashvin\\sandbox\\pydantic\")\n",
    "load_dotenv(dotenv_path=dotenv_path)\n",
    "\n",
    "OPENAI_API_KEY = os.getenv(\"OPENAI_API_KEY\")\n",
    "\n",
    "# main constants\n",
    "\n",
    "GPT_MODEL_TEXT_ALIAS = \"gpt-4-turbo-preview\" # points to latest GPT model\n",
    "GPT_MODEL_TEXT = \"gpt-4-0125-preview\"\n",
    "GPT_MODEL_35_TEXT_ALIAS = \"gpt-3.5-turbo\" # points to latest GPT 3.5 Turbo model\n",
    "DALL_E_3 = \"dall-e-3\"\n",
    "\n",
    "#instantiate client\n",
    "client = instructor.patch(OpenAI())"
   ]
  },
  {
   "cell_type": "code",
   "execution_count": null,
   "metadata": {},
   "outputs": [],
   "source": [
    "# config\n",
    "\n",
    "min_length = 33\n",
    "max_retries = 5\n",
    "model=GPT_MODEL_TEXT_ALIAS\n",
    "response_model = None\n",
    "context = None\n",
    "\n",
    "num_chapters = 3\n",
    "chapter_length = 2\n",
    "author = \"sarantium\"\n",
    "bookid = \"id12345\"\n",
    "cover_image_path = image_folderpath / \"cover.png\"\n",
    "writing_style = \"\"\"\n",
    "Jeffrey Archer with a gripping sci fi or fantasy storyline. Always show not tell. Dialogue over exposition. Use active voice.\n",
    "\"\"\"\n",
    "topic = \"a shitty superpower - can transform into sarin gas\"\n",
    "\n"
   ]
  },
  {
   "cell_type": "code",
   "execution_count": null,
   "metadata": {},
   "outputs": [],
   "source": [
    "# editing - remove first line\n",
    "\n",
    "def remove_first_line(test_string):\n",
    "    if test_string.startswith(\"Here\") and test_string.split(\"\\n\")[0].strip().endswith(\":\"):\n",
    "        return re.sub(r'^.*\\n', '', test_string, count=1)\n",
    "    return test_string"
   ]
  },
  {
   "cell_type": "code",
   "execution_count": null,
   "metadata": {},
   "outputs": [],
   "source": [
    "# my wrapper \n",
    "\n",
    "def wrapper(prompt: str, data: str | list, response_model: BaseModel | None = None):\n",
    "    \"\"\"Wrapper function to generate LLM completion\"\"\"\n",
    "    response = client.chat.completions.create(\n",
    "        model=GPT_MODEL_TEXT_ALIAS,\n",
    "        response_model=response_model,\n",
    "        max_retries=max_retries,\n",
    "        messages=[\n",
    "            {\"role\": \"system\", \"content\": prompt},\n",
    "            {\"role\": \"user\", \"content\": data},\n",
    "        ]\n",
    "    )\n",
    "    # Assuming response.choices[0].message.content for OpenAI response structure\n",
    "    response_text = response.choices[0].message.content\n",
    "    return response_text.strip()\n",
    "\n",
    "# image wrapper function\n",
    "\n",
    "def image_wrapper(image_prompt: str) -> str:\n",
    "    \"\"\"Generate an image using DALL-E 3 and return the base64 JSON representation.\"\"\"\n",
    "    response = client.images.generate(\n",
    "        model=DALL_E_3,\n",
    "        prompt=image_prompt,\n",
    "        size=\"1024x1024\",\n",
    "        quality=\"standard\",\n",
    "        style=\"vivid\",\n",
    "        response_format=\"b64_json\",\n",
    "        n=1,\n",
    "    )\n",
    "    return response.data[0].b64_json\n",
    "\n",
    "# save image function\n",
    "\n",
    "def save_image(b64_json: str, folder_path: Union[str, Path], image_name: str) -> None:\n",
    "    \"\"\"Convert a base64 JSON image string to a PNG file and save it in the specified folder with the given image name.\"\"\"\n",
    "    if not isinstance(folder_path, Path):\n",
    "        folder_path = Path(folder_path)\n",
    "    \n",
    "    # Combine the folder path and image name to create the full file path\n",
    "    file_path = folder_path / f\"{image_name}.png\"\n",
    "    \n",
    "    image_data = base64.b64decode(b64_json)\n",
    "    image = Image.open(BytesIO(image_data))\n",
    "    image.save(file_path)"
   ]
  },
  {
   "cell_type": "code",
   "execution_count": null,
   "metadata": {},
   "outputs": [],
   "source": [
    "# prompts\n",
    "\n",
    "plot_prompt = \"You are a world-class short story author. Write the requested content with great skill and attention to detail.\"\n",
    "plot_data = f\"\"\" \n",
    "Write me a plot outline for a {num_chapters}-chapter short story in the {writing_style} style,\n",
    "based on the following topic: {topic}. Each chapter should be {chapter_length} pages long.\n",
    "Only return the plot outline. No title, preamble or postscript.\n",
    "\"\"\""
   ]
  },
  {
   "cell_type": "code",
   "execution_count": null,
   "metadata": {},
   "outputs": [],
   "source": [
    "# test\n",
    "\n",
    "plot_outline = wrapper(plot_prompt, plot_data)\n",
    "print(plot_outline)"
   ]
  },
  {
   "cell_type": "code",
   "execution_count": null,
   "metadata": {},
   "outputs": [],
   "source": [
    "# # prompts\n",
    "\n",
    "# story_prompt = \"You are a world-class short story author. Write the requested content with great skill and attention to detail.\"\n",
    "# story_data = \"write me a short story about a shitty superpower. Only return the story. No title, preamble or postscript.\"\n",
    "\n",
    "# # test\n",
    "\n",
    "# story = wrapper(story_prompt, story_data)\n",
    "# print(story)"
   ]
  },
  {
   "cell_type": "code",
   "execution_count": null,
   "metadata": {},
   "outputs": [],
   "source": [
    "# cover prompt\n",
    "\n",
    "cover_prompt = \"\"\"\n",
    "You are a world-class illustrator and cover designer for books. Write the requested content with great skill and attention to detail.\n",
    "Describe the cover we should create, based on the plot. This should be two sentences long, maximum.\n",
    "\"\"\"\n",
    "\n",
    "def generate_cover_prompt(prompt, plot):\n",
    "    response = wrapper(prompt, plot)\n",
    "    return response"
   ]
  },
  {
   "cell_type": "code",
   "execution_count": null,
   "metadata": {},
   "outputs": [],
   "source": [
    "# test \n",
    "\n",
    "cover_description = generate_cover_prompt(cover_prompt, plot_outline)\n",
    "print(cover_description)"
   ]
  },
  {
   "cell_type": "code",
   "execution_count": null,
   "metadata": {},
   "outputs": [],
   "source": [
    "# generate cover image\n",
    "\n",
    "cover_image_prompt = \"\"\"\n",
    "You are a world-class illustrator and cover designer for visual books. Design the requested content with great skill and attention to detail.\n",
    "Design the cover we should create, based on the cover description.\n",
    "This is a visual book with no text or description in the cover.\n",
    "\"\"\"\n",
    "\n",
    "def create_cover_image(prompt, summary):\n",
    "    full_cover_image_prompt = f\"Cover image prompt: {prompt}, Summary: {summary}\"\n",
    "    response = image_wrapper(full_cover_image_prompt)\n",
    "    return response"
   ]
  },
  {
   "cell_type": "code",
   "execution_count": null,
   "metadata": {},
   "outputs": [],
   "source": [
    "# test cover image\n",
    "\n",
    "cover_image_b64 = create_cover_image(cover_image_prompt, cover_description)\n",
    "save_image(cover_image_b64, image_folderpath, \"cover\")"
   ]
  },
  {
   "cell_type": "code",
   "execution_count": null,
   "metadata": {},
   "outputs": [],
   "source": [
    "# title prompt\n",
    "\n",
    "title_prompt = \"\"\"\n",
    "You are a world-class publisher. Write the requested content with great skill and attention to detail.\n",
    "Respond with a great title for this short story, based on the plot. Only respond with the title, nothing else is allowed.\n",
    "\"\"\"\n",
    "\n",
    "def generate_title(prompt, plot):\n",
    "    response = wrapper(prompt, plot)\n",
    "    return response"
   ]
  },
  {
   "cell_type": "code",
   "execution_count": null,
   "metadata": {},
   "outputs": [],
   "source": [
    "# test\n",
    "\n",
    "title = generate_title(title_prompt, plot_outline)\n",
    "print(title)"
   ]
  },
  {
   "cell_type": "code",
   "execution_count": null,
   "metadata": {},
   "outputs": [],
   "source": [
    "# generate chapter title\n",
    "\n",
    "chapter_title_prompt = \"\"\"\n",
    "You are a world-class publisher. Write the requested content with great skill and attention to detail.\n",
    "Respond with a great title for this chapter, based on the plot. Only respond with the title, nothing else is allowed.\n",
    "\"\"\"\n",
    "\n",
    "def generate_chapter_title(prompt, chapter_content):\n",
    "    response = wrapper(prompt, chapter_content)\n",
    "    return response"
   ]
  },
  {
   "cell_type": "code",
   "execution_count": null,
   "metadata": {},
   "outputs": [],
   "source": [
    "# my version of generate book\n",
    "\n",
    "def generate_book(plot_outline, num_chapters, chapter_length, writing_style):\n",
    "    chapters = []\n",
    "    for i in range(1, num_chapters + 1):\n",
    "        print(f\"Generating chapter {i}...\")\n",
    "        previous_chapters = ' '.join(chapters)  # Gather all previous chapters into a single string\n",
    "        \n",
    "        # Prepare the prompt and data strings\n",
    "        prompt = f\"\"\"\n",
    "        Writing Style: {writing_style}\n",
    "        Plot Outline: {plot_outline}\n",
    "        Task: \n",
    "        Write chapter {i}, ensuring it follows the plot outline and builds on the previous chapters. \n",
    "        The chapter is {chapter_length} pages long.\n",
    "        Special Instructions : Remember, each chapter and the overall book is a connected piece of writing. The only markdown structure in a chapter is its title.\n",
    "        \"\"\"\n",
    "        data = f\"Previous Chapters: {previous_chapters}\"\n",
    "        \n",
    "        # Call the wrapper function with prompt and data\n",
    "        chapter = wrapper(prompt, data)\n",
    "        chapters.append(chapter)\n",
    "        print(f\"Chapter {i} complete\")\n",
    "        time.sleep(1)  # Delay to manage API call rates, if applicable\n",
    "\n",
    "    print(\"Compiling the book...\")\n",
    "    book = \"\\n\\n\".join(chapters)\n",
    "    print(\"Book generated!\")\n",
    "\n",
    "    return book, chapters\n",
    "\n"
   ]
  },
  {
   "cell_type": "code",
   "execution_count": null,
   "metadata": {},
   "outputs": [],
   "source": [
    "# test\n",
    "\n",
    "book, chapters = generate_book(plot_outline, num_chapters, chapter_length, writing_style)"
   ]
  },
  {
   "cell_type": "code",
   "execution_count": null,
   "metadata": {},
   "outputs": [],
   "source": [
    "print(chapters[2])"
   ]
  },
  {
   "cell_type": "code",
   "execution_count": null,
   "metadata": {},
   "outputs": [],
   "source": [
    "\n",
    "\n",
    "def create_epub(id, title, author, chapters, cover_image_path, epub_save_path):\n",
    "    # Function to sanitize file names\n",
    "    def sanitize_filename(filename):\n",
    "        \"\"\"Remove invalid characters from filenames.\"\"\"\n",
    "        import re\n",
    "        return re.sub(r'[\\\\/*?:\"<>|]', \"\", filename).strip()\n",
    "\n",
    "    book = EpubBook()\n",
    "    # Set metadata\n",
    "    book.set_identifier(id)\n",
    "    book.set_title(title)\n",
    "    book.set_language('en')\n",
    "    book.add_author(author)\n",
    "    # Add cover image\n",
    "    with open(cover_image_path, 'rb') as cover_file:\n",
    "        cover_image = cover_file.read()\n",
    "    book.set_cover('cover.png', cover_image)\n",
    "    # Create chapters and add them to the book\n",
    "    epub_chapters = []\n",
    "    for i, chapter_content in enumerate(chapters, start=1):\n",
    "        chapter_title = generate_chapter_title(chapter_title_prompt, chapter_content)  # ensure generate_chapter_title is defined\n",
    "        chapter_file_name = f'chapter_{i}.xhtml'\n",
    "        epub_chapter = EpubHtml(title=chapter_title, file_name=chapter_file_name, lang='en')\n",
    "        # Add paragraph breaks and ensure HTML line breaks\n",
    "        formatted_content = ''.join(f'<p>{paragraph.strip()}</p>' for paragraph in chapter_content.split('\\n') if paragraph.strip())\n",
    "        # Include two HTML <br> tags for line breaks\n",
    "        epub_chapter.content = f'<h1>Chapter {i}: {chapter_title}</h1><br><br>{formatted_content}'\n",
    "        book.add_item(epub_chapter)\n",
    "        epub_chapters.append(epub_chapter)\n",
    "\n",
    "    # Define Table of Contents\n",
    "    book.toc = (epub_chapters)\n",
    "\n",
    "    # Add default NCX and Nav files\n",
    "    book.add_item(EpubNcx())\n",
    "    book.add_item(EpubNav())\n",
    "\n",
    "    # Define CSS style\n",
    "    style = '''\n",
    "    @namespace epub \"http://www.idpf.org/2007/ops\";\n",
    "    body {\n",
    "        font-family: Cambria, Liberation Serif, serif;\n",
    "    }\n",
    "    h1 {\n",
    "        text-align: left;\n",
    "        text-transform: uppercase;\n",
    "        font-weight: 200;\n",
    "    }\n",
    "    p {\n",
    "        margin: 0;\n",
    "        padding: 0;\n",
    "        text-align: justify;\n",
    "    }\n",
    "    '''\n",
    "\n",
    "    # Add CSS file\n",
    "    nav_css = EpubItem(uid=\"style_nav\", file_name=\"style/nav.css\", media_type=\"text/css\", content=style)\n",
    "    book.add_item(nav_css)\n",
    "\n",
    "    # Create spine\n",
    "    book.spine = ['nav'] + epub_chapters\n",
    "\n",
    "    # Save the EPUB file\n",
    "    sanitized_title = sanitize_filename(title)\n",
    "    save_path = epub_save_path / f'{sanitized_title}.epub'\n",
    "    print(f\"Saving EPUB at: {save_path}\")\n",
    "    write_epub(save_path, book)\n"
   ]
  },
  {
   "cell_type": "code",
   "execution_count": null,
   "metadata": {},
   "outputs": [],
   "source": [
    "# test\n",
    "\n",
    "create_epub(id=bookid, title=title, author=author, chapters=chapters, cover_image_path=cover_image_path, epub_save_path=image_folderpath)"
   ]
  }
 ],
 "metadata": {
  "kernelspec": {
   "display_name": ".venv",
   "language": "python",
   "name": "python3"
  },
  "language_info": {
   "codemirror_mode": {
    "name": "ipython",
    "version": 3
   },
   "file_extension": ".py",
   "mimetype": "text/x-python",
   "name": "python",
   "nbconvert_exporter": "python",
   "pygments_lexer": "ipython3",
   "version": "3.11.5"
  }
 },
 "nbformat": 4,
 "nbformat_minor": 2
}
