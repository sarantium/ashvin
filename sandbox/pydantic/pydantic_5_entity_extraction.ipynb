{
 "cells": [
  {
   "cell_type": "code",
   "execution_count": 1,
   "metadata": {},
   "outputs": [],
   "source": [
    "from dotenv import load_dotenv\n",
    "from enum import Enum\n",
    "from graphviz import Digraph\n",
    "import instructor\n",
    "from openai import OpenAI\n",
    "import os\n",
    "from pathlib import Path\n",
    "from pprint import pprint as pp\n",
    "from pydantic import BaseModel, Field, StringConstraints, conlist, field_validator\n",
    "from typing import List, Optional, Union, Dict\n",
    "from typing_extensions import Annotated"
   ]
  },
  {
   "cell_type": "code",
   "execution_count": 2,
   "metadata": {},
   "outputs": [],
   "source": [
    "# load API key\n",
    "\n",
    "dotenv_path = Path(r\"C:\\Storage\\python_projects\\ashvin\\.env\")\n",
    "load_dotenv(dotenv_path=dotenv_path)\n",
    "OPENAI_API_KEY = os.getenv(\"OPENAI_API_KEY\")\n",
    "\n",
    "# main constants\n",
    "\n",
    "GPT_MODEL = \"gpt-4o\" # points to latest GPT model\n",
    "\n",
    "#instantiate client\n",
    "client = instructor.from_openai(OpenAI(), mode=instructor.Mode.TOOLS)"
   ]
  },
  {
   "cell_type": "code",
   "execution_count": 3,
   "metadata": {},
   "outputs": [],
   "source": [
    "# wrapper\n",
    "\n",
    "def wrapper(system_prompt: str | None = None, user_context: str | list = None, response_model: BaseModel | None = None, max_retries: int = 3):\n",
    "    \"\"\"Wrapper function to generate LLM completion\"\"\"\n",
    "    messages = []\n",
    "    if system_prompt is not None:\n",
    "        messages.append({\"role\": \"system\", \"content\": system_prompt})\n",
    "    if user_context is not None:\n",
    "        messages.append({\"role\": \"user\", \"content\": user_context})\n",
    "\n",
    "    completion = client.chat.completions.create(\n",
    "        model=GPT_MODEL,\n",
    "        response_model=response_model,\n",
    "        max_retries=max_retries,\n",
    "        messages=messages\n",
    "    )\n",
    "    return completion"
   ]
  },
  {
   "cell_type": "code",
   "execution_count": 4,
   "metadata": {},
   "outputs": [],
   "source": [
    "class Node(BaseModel):\n",
    "    id: int\n",
    "    label: str\n",
    "    color: str\n",
    "\n",
    "class Edge(BaseModel):\n",
    "    source: int\n",
    "    target: int\n",
    "    label: str\n",
    "    color: str = \"black\"\n",
    "\n",
    "class KnowledgeGraph(BaseModel):\n",
    "    nodes: List[Node] = Field(..., default_factory=list)\n",
    "    edges: List[Edge] = Field(..., default_factory=list)"
   ]
  },
  {
   "cell_type": "code",
   "execution_count": 5,
   "metadata": {},
   "outputs": [],
   "source": [
    "def visualize_knowledge_graph(kg: KnowledgeGraph):\n",
    "    dot = Digraph(comment=\"Knowledge Graph\")\n",
    "\n",
    "    # Add nodes\n",
    "    for node in kg.nodes:\n",
    "        dot.node(str(node.id), node.label, color=node.color)\n",
    "\n",
    "    # Add edges\n",
    "    for edge in kg.edges:\n",
    "        dot.edge(str(edge.source), str(edge.target), label=edge.label, color=edge.color)\n",
    "\n",
    "    # Render the graph\n",
    "    dot.render(\"knowledge_graph.gv\", view=True)\n",
    "\n"
   ]
  },
  {
   "cell_type": "code",
   "execution_count": 38,
   "metadata": {},
   "outputs": [],
   "source": [
    "system_prompt =\"\"\" \n",
    "Task: Based on the provided user context, create a comprehensive and intricate knowledge graph that is both broad and deep. \n",
    "Your graph must be as comprehensive as the best wikipedia articles.\n",
    "\n",
    "Requirements:\n",
    "\n",
    "Depth:\n",
    "\n",
    "Include multiple layers of hierarchical relationships.\n",
    "Represent the longest paths from root nodes to leaf nodes.\n",
    "\n",
    "Breadth:\n",
    "\n",
    "Ensure numerous direct connections and diverse relationships branching out from each node.\n",
    "Exhibit high node and edge counts with a variety of node degrees.\n",
    "\n",
    "Complexity:\n",
    "\n",
    "Include detailed properties for nodes and edges, such as in-degree, out-degree, and centrality measures.\n",
    "Ensure significant clustering where relevant.\n",
    "\n",
    "Diversity:\n",
    "\n",
    "Incorporate a wide range of domains and topics to ensure the graph is extensive and well-rounded.\n",
    "Cover various aspects of knowledge comprehensively\n",
    ".\n",
    "Relevance:\n",
    "\n",
    "Tailor the knowledge graph to accurately reflect and enhance the user's context.\n",
    "Ensure the graph is both relevant and valuable to the user's needs.\n",
    "\"\"\""
   ]
  },
  {
   "cell_type": "code",
   "execution_count": 36,
   "metadata": {},
   "outputs": [],
   "source": [
    "system_prompt = \"\"\"\n",
    "You are a world class knowledge graph algorithm capable of systematically extracting or inferring a knowledge graph from a given context.\n",
    "You are expert at extracting or inferring detailed ontology classes, properties, individuals and axioms.\n",
    "Generate a detailed knowledge graph that is broad and deep.\n",
    "\n",
    "constructing and deconstructing structured and unstructured data from a context or your archives.\n",
    "\n",
    "\n",
    "\n",
    "You are expert at translating and connecting this context into extremely detailed, precise and accurate nodes and edges.\n",
    "You will produce long lists of nodes and edges at multiple levels\n",
    "Before you call the function, think step-by-step to get a better understanding of the problem.\n",
    "\"\"\"\n",
    "\n",
    "system_prompt = \"\"\"\n",
    "You are a world class ontology algorithm capable of systematically extracting or inferring an ontology from a given context.\n",
    "You are an expert at extracting or inferring detailed lists of ontology classes, properties, individuals and axioms. \n",
    "Each item and each list is precise, granular, comprehensive and complete.\n",
    "Your purpose is to teach this ontology to a skilled individual without the domain knowledge.\n",
    "Generate a dense, rich articulation with encyclopedic breadth and depth of an OWL ontology.\n",
    "Always think broadly about a wide variety of aspects and factors then think deeply about each factor and aspect.\n",
    "Before you call the function, think step-by-step to get a better understanding of the problem.\n",
    "\"\"\""
   ]
  },
  {
   "cell_type": "code",
   "execution_count": 47,
   "metadata": {},
   "outputs": [],
   "source": [
    "user_context = \"I want to learn all about quantum mechanics\""
   ]
  },
  {
   "cell_type": "code",
   "execution_count": 48,
   "metadata": {},
   "outputs": [],
   "source": [
    "response = wrapper(system_prompt=system_prompt, user_context=user_context, response_model=KnowledgeGraph, max_retries=3)"
   ]
  },
  {
   "cell_type": "code",
   "execution_count": 49,
   "metadata": {},
   "outputs": [],
   "source": [
    "visualize_knowledge_graph(response)"
   ]
  }
 ],
 "metadata": {
  "kernelspec": {
   "display_name": ".venv",
   "language": "python",
   "name": "python3"
  },
  "language_info": {
   "codemirror_mode": {
    "name": "ipython",
    "version": 3
   },
   "file_extension": ".py",
   "mimetype": "text/x-python",
   "name": "python",
   "nbconvert_exporter": "python",
   "pygments_lexer": "ipython3",
   "version": "3.11.5"
  }
 },
 "nbformat": 4,
 "nbformat_minor": 2
}
