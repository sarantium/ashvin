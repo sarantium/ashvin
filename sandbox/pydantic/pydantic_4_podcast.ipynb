{
 "cells": [
  {
   "cell_type": "markdown",
   "metadata": {},
   "source": [
    "Goal : Summarise my weekly podcasts for quick reading\n",
    "\n",
    "Resources:\n",
    "\n",
    "1. https://www.elithecomputerguy.com/2023/10/scraping-youtube-with-openai-python-chatgpt-youtube-transcript-api/\n",
    "2. https://huggingface.co/spaces/SteveDigital/free-fast-youtube-url-video-to-text-using-openai-whisper/blob/main/app.py\n",
    "3. https://github.com/jxnl/instructor/blob/main/examples/chain-of-density/chain_of_density.py\n",
    "4. https://pytube.io/en/latest/api.html - for downloading youtube videos then transcribing\n",
    "\n",
    "Tasks : \n",
    "\n",
    "- [] Download youtube video and send to whisper to get transcript\n"
   ]
  },
  {
   "cell_type": "code",
   "execution_count": 26,
   "metadata": {},
   "outputs": [],
   "source": [
    "from youtube_transcript_api import YouTubeTranscriptApi\n",
    "from youtube_transcript_api.formatters import JSONFormatter, TextFormatter\n",
    "import instructor\n",
    "from openai import OpenAI\n",
    "from pydantic import BaseModel\n",
    "from pathlib import Path\n",
    "from dotenv import load_dotenv\n",
    "import os"
   ]
  },
  {
   "cell_type": "code",
   "execution_count": 86,
   "metadata": {},
   "outputs": [],
   "source": [
    "# load API key\n",
    "\n",
    "dotenv_path = Path(r\"C:\\Storage\\python_projects\\ashvin\\.env\")\n",
    "image_folderpath = Path(r\"C:\\Storage\\python_projects\\ashvin\\sandbox\\pydantic\")\n",
    "load_dotenv(dotenv_path=dotenv_path)\n",
    "\n",
    "OPENAI_API_KEY = os.getenv(\"OPENAI_API_KEY\")\n",
    "GOOGLE_API_KEY = os.getenv(\"GOOGLE_API_KEY\")\n",
    "\n",
    "# main constants\n",
    "\n",
    "GPT_MODEL_TEXT_ALIAS = \"gpt-4-turbo-2024-04-09\" # points to latest GPT model\n",
    "GPT_MODEL_TEXT = \"gpt-4-0125-preview\"\n",
    "GPT_MODEL_35_TEXT_ALIAS = \"gpt-3.5-turbo\" # points to latest GPT 3.5 Turbo model\n",
    "DALL_E_3 = \"dall-e-3\"\n",
    "\n",
    "#instantiate client\n",
    "client = instructor.patch(OpenAI())"
   ]
  },
  {
   "cell_type": "code",
   "execution_count": 78,
   "metadata": {},
   "outputs": [],
   "source": [
    "# config\n",
    "\n",
    "video_id = \"cnTwXzjksOY\""
   ]
  },
  {
   "cell_type": "code",
   "execution_count": 52,
   "metadata": {},
   "outputs": [],
   "source": [
    "# text wrapper function\n",
    "\n",
    "def wrapper(prompt: str, data: str | list, response_model:BaseModel | None = None):\n",
    "    \"\"\"Wrapper function to generate LLM completion\"\"\"\n",
    "    return client.chat.completions.create(\n",
    "        model=GPT_MODEL_TEXT_ALIAS,\n",
    "        response_model=response_model,\n",
    "        max_retries=5,\n",
    "        messages=[\n",
    "            {\"role\": \"system\", \"content\": prompt},\n",
    "            {\"role\": \"user\", \"content\": data},\n",
    "        ]\n",
    "    )"
   ]
  },
  {
   "cell_type": "code",
   "execution_count": 79,
   "metadata": {},
   "outputs": [],
   "source": [
    "# get transcript as list of dictionaries\n",
    "\n",
    "transcript = YouTubeTranscriptApi.get_transcript(video_id=video_id)\n",
    "\n",
    "# convert transcript to format\n",
    "\n",
    "formatter = JSONFormatter()\n",
    "json_formatted = formatter.format_transcript(transcript)"
   ]
  },
  {
   "cell_type": "code",
   "execution_count": 80,
   "metadata": {},
   "outputs": [
    {
     "name": "stdout",
     "output_type": "stream",
     "text": [
      "[{\"text\": \"[Music]\", \"start\": 20.26, \"duration\": 3.229}, {\"text\": \"hi and welcome to crypto law I am Jeremy\", \"start\": 31.279, \"duration\": 5.8}, {\"text\": \"Hogan and we are live I have hijacked\", \"start\": 34.12, \"duration\": 5.72}, {\"text\": \"the channel for one last day but I know\", \"start\": 37.079, \"duration\": 4.081}, {\"text\": \"why you are here because you are\", \"start\": 39.84, \"duration\": 3.559}, {\"text\": \"interested in xrp and want to know\", \"start\": 41.16, \"duration\": 4.52}, {\"text\": \"what's about to happen in the SEC law\", \"start\": 43.399, \"duration\": 5.041}, {\"text\": \"suitcase and I am about to tell you and\", \"start\": 45.68, \"duration\": 4.519}, {\"text\": \"then we are going to speculate on the\", \"start\": 48.44, \"duration\": 4.48}, {\"text\": \"outcome all just for fun and all within\", \"start\": 50.199, \"duration\": 3.641}, {\"text\": \"15\", \"start\": 52.92, \"duration\": 3.799}, {\"text\": \"minutes promise so first I'm going to\", \"start\": 53.84, \"duration\": 5.28}, {\"text\": \"let you in on a little lawyer secret and\", \"start\": 56.719, \"duration\": 4.52}, {\"text\": \"that's that as a lawyer sometimes you\", \"start\": 59.12, \"duration\": 4.239}, {\"text\": \"win because you are a great lawyer or\", \"start\": 61.239, \"duration\": 4.401}, {\"text\": \"you have a great client and sometimes\", \"start\": 63.359, \"duration\": 4.76}, {\"text\": \"you win well let's just say you just get\", \"start\": 65.64, \"duration\": 4.839}, {\"text\": \"lucky and ripple has had a lot of luck\", \"start\": 68.119, \"duration\": 4.721}, {\"text\": \"on its side and I know you might not\", \"start\": 70.479, \"duration\": 4.68}, {\"text\": \"think so but the very first thing was\", \"start\": 72.84, \"duration\": 4.84}, {\"text\": \"the luck in randomly drawing this young\", \"start\": 75.159, \"duration\": 5.041}, {\"text\": \"lady judge Torres as the judge in\", \"start\": 77.68, \"duration\": 3.84}, {\"text\": \"Ripple's\", \"start\": 80.2, \"duration\": 3.599}, {\"text\": \"case I think we have a nice picture of\", \"start\": 81.52, \"duration\": 6.2}, {\"text\": \"her there she is Judge Torres now if you\", \"start\": 83.799, \"duration\": 6.401}, {\"text\": \"recall the SEC was pretty much getting\", \"start\": 87.72, \"duration\": 5.32}, {\"text\": \"you know every case 100% it was batting\", \"start\": 90.2, \"duration\": 5.36}, {\"text\": \"a thousand that's 100% for you non-\", \"start\": 93.04, \"duration\": 4.719}, {\"text\": \"baseball countries out there and the SEC\", \"start\": 95.56, \"duration\": 4.96}, {\"text\": \"had never Lo lost a crypto case before\", \"start\": 97.759, \"duration\": 4.32}, {\"text\": \"and with some of these judges up in New\", \"start\": 100.52, \"duration\": 3.72}, {\"text\": \"York I think they absolutely would have\", \"start\": 102.079, \"duration\": 4.64}, {\"text\": \"lost uh the case if they had been in\", \"start\": 104.24, \"duration\": 3.76}, {\"text\": \"front of some of these judges I could\", \"start\": 106.719, \"duration\": 3.321}, {\"text\": \"think of two or three of them and\", \"start\": 108.0, \"duration\": 5.0}, {\"text\": \"instead Ripple one on about two-thirds\", \"start\": 110.04, \"duration\": 5.2}, {\"text\": \"of the case against it now a lot of that\", \"start\": 113.0, \"duration\": 5.56}, {\"text\": \"was luck if we're being honest but then\", \"start\": 115.24, \"duration\": 4.32}, {\"text\": \"and this is what we're going to be\", \"start\": 118.56, \"duration\": 3.239}, {\"text\": \"talking about today something happened\", \"start\": 119.56, \"duration\": 3.96}, {\"text\": \"at the end of October last year which\", \"start\": 121.799, \"duration\": 4.28}, {\"text\": \"I'm going to call the Immaculate\", \"start\": 123.52, \"duration\": 5.599}, {\"text\": \"Conception of case law last year a case\", \"start\": 126.079, \"duration\": 5.8}, {\"text\": \"came out of the second DCA Court called\", \"start\": 129.119, \"duration\": 5.4}, {\"text\": \"the goil case and it was literally a\", \"start\": 131.879, \"duration\": 5.36}, {\"text\": \"godsend for ripple actually right after\", \"start\": 134.519, \"duration\": 4.881}, {\"text\": \"the case came out Ripple's legal team\", \"start\": 137.239, \"duration\": 4.681}, {\"text\": \"held a special meeting to discuss the\", \"start\": 139.4, \"duration\": 5.16}, {\"text\": \"goil case and they invited little old be\", \"start\": 141.92, \"duration\": 5.12}, {\"text\": \"to attend I took some video of it and\", \"start\": 144.56, \"duration\": 4.77}, {\"text\": \"here it is\", \"start\": 147.04, \"duration\": 10.04}, {\"text\": \"[Music]\", \"start\": 149.33, \"duration\": 14.269}, {\"text\": \"Allelujah huj hallelujah hallelujah\", \"start\": 157.08, \"duration\": 6.519}, {\"text\": \"hu that was a conducting by the way uh\", \"start\": 164.319, \"duration\": 5.761}, {\"text\": \"but the but the point is is that the\", \"start\": 167.959, \"duration\": 5.28}, {\"text\": \"goil case causes a big problem for the\", \"start\": 170.08, \"duration\": 6.799}, {\"text\": \"SEC and it came out right at the perfect\", \"start\": 173.239, \"duration\": 6.201}, {\"text\": \"time amazing timing so let's get into\", \"start\": 176.879, \"duration\": 4.801}, {\"text\": \"that and talk about the goo case the\", \"start\": 179.44, \"duration\": 3.719}, {\"text\": \"injunctions the remedies and what's\", \"start\": 181.68, \"duration\": 2.76}, {\"text\": \"going on in the Ripple case and then at\", \"start\": 183.159, \"duration\": 2.681}, {\"text\": \"the end we're going to talk about what I\", \"start\": 184.44, \"duration\": 3.68}, {\"text\": \"think is going to happen now to rehash\", \"start\": 185.84, \"duration\": 4.52}, {\"text\": \"where the case is at judge Tores said\", \"start\": 188.12, \"duration\": 4.52}, {\"text\": \"that only ripples past sales to\", \"start\": 190.36, \"duration\": 3.92}, {\"text\": \"institutional buyers were sales of\", \"start\": 192.64, \"duration\": 4.319}, {\"text\": \"security that's all and now we are at\", \"start\": 194.28, \"duration\": 3.8}, {\"text\": \"the place where the judge will have to\", \"start\": 196.959, \"duration\": 3.961}, {\"text\": \"say what happens to Ripple for violating\", \"start\": 198.08, \"duration\": 5.12}, {\"text\": \"the law on those sales and there are\", \"start\": 200.92, \"duration\": 4.48}, {\"text\": \"three things that the SEC wants it wants\", \"start\": 203.2, \"duration\": 2.92}, {\"text\": \"an\", \"start\": 205.4, \"duration\": 2.6}, {\"text\": \"injunction against any further\", \"start\": 206.12, \"duration\": 3.88}, {\"text\": \"violations it wants money which is\", \"start\": 208.0, \"duration\": 4.68}, {\"text\": \"called discouragement and three it wants\", \"start\": 210.0, \"duration\": 5.56}, {\"text\": \"money in the form of a penalty now we\", \"start\": 212.68, \"duration\": 4.839}, {\"text\": \"know exactly what the SEC wants and how\", \"start\": 215.56, \"duration\": 3.759}, {\"text\": \"much because it actually submitted a\", \"start\": 217.519, \"duration\": 4.601}, {\"text\": \"proposed order to the judge telling us\", \"start\": 219.319, \"duration\": 4.2}, {\"text\": \"exactly what it wants and so let's take\", \"start\": 222.12, \"duration\": 5.199}, {\"text\": \"a quick look at the sec's proposed\", \"start\": 223.519, \"duration\": 6.881}, {\"text\": \"judgment there it is okay so as you can\", \"start\": 227.319, \"duration\": 4.601}, {\"text\": \"see and we're going to quote here from\", \"start\": 230.4, \"duration\": 4.039}, {\"text\": \"it uh and this is a proposed judgment\", \"start\": 231.92, \"duration\": 3.92}, {\"text\": \"the judge isn't signing off on this is\", \"start\": 234.439, \"duration\": 4.241}, {\"text\": \"just the SEC saying what it wants it\", \"start\": 235.84, \"duration\": 4.92}, {\"text\": \"says that it wants for do it to section\", \"start\": 238.68, \"duration\": 6.199}, {\"text\": \"21 he want he wants the\", \"start\": 240.76, \"duration\": 6.64}, {\"text\": \"um defendant to be permanently\", \"start\": 244.879, \"duration\": 5.401}, {\"text\": \"restrained and enjoined from directly or\", \"start\": 247.4, \"duration\": 5.44}, {\"text\": \"indirectly conducting an unregistered\", \"start\": 250.28, \"duration\": 6.0}, {\"text\": \"offering of institutional\", \"start\": 252.84, \"duration\": 5.959}, {\"text\": \"sales and then later down in its order\", \"start\": 256.28, \"duration\": 6.959}, {\"text\": \"it says that it wants this would be part\", \"start\": 258.799, \"duration\": 4.44}, {\"text\": \"two it wants it to be ordered that\", \"start\": 263.52, \"duration\": 4.04}, {\"text\": \"defendant is liable for discouragement\", \"start\": 265.72, \"duration\": 5.52}, {\"text\": \"of $ 876 million and change representing\", \"start\": 267.56, \"duration\": 5.56}, {\"text\": \"net profits gained as a result of its\", \"start\": 271.24, \"duration\": 3.56}, {\"text\": \"violations of section five of the\", \"start\": 273.12, \"duration\": 3.44}, {\"text\": \"Securities act as found in the Court's\", \"start\": 274.8, \"duration\": 3.76}, {\"text\": \"summary judgment order together with\", \"start\": 276.56, \"duration\": 3.76}, {\"text\": \"prejudgment interest thereon in the\", \"start\": 278.56, \"duration\": 5.52}, {\"text\": \"amount of $198 million and change and a\", \"start\": 280.32, \"duration\": 5.84}, {\"text\": \"civil penalty in the amount of\", \"start\": 284.08, \"duration\": 5.72}, {\"text\": \"876 million pursuant to section 20D blah\", \"start\": 286.16, \"duration\": 6.4}, {\"text\": \"blah blah defendant shall sh shall\", \"start\": 289.8, \"duration\": 6.36}, {\"text\": \"satisfy this obligation by paying $1\", \"start\": 292.56, \"duration\": 7.919}, {\"text\": \"b950 million to the SEC Within 30 days\", \"start\": 296.16, \"duration\": 6.879}, {\"text\": \"after entry of this final\", \"start\": 300.479, \"duration\": 5.361}, {\"text\": \"judgment wow that's it that's everything\", \"start\": 303.039, \"duration\": 5.041}, {\"text\": \"that the SEC wants it wants an order\", \"start\": 305.84, \"duration\": 4.079}, {\"text\": \"from the court that Ripple can't break\", \"start\": 308.08, \"duration\": 3.76}, {\"text\": \"the law by selling to institutions and\", \"start\": 309.919, \"duration\": 3.881}, {\"text\": \"it wants money it wants a lot of money\", \"start\": 311.84, \"duration\": 2.84}, {\"text\": \"about\", \"start\": 313.8, \"duration\": 4.839}, {\"text\": \"1.95 billion dollars with a beat now as\", \"start\": 314.68, \"duration\": 6.359}, {\"text\": \"far as the injunction to me it's kind of\", \"start\": 318.639, \"duration\": 3.961}, {\"text\": \"meaningless to get an order from a court\", \"start\": 321.039, \"duration\": 3.6}, {\"text\": \"saying you can't break the law again\", \"start\": 322.6, \"duration\": 4.52}, {\"text\": \"it's kind of redundant and pointless but\", \"start\": 324.639, \"duration\": 4.761}, {\"text\": \"for ripple this is actually a big\", \"start\": 327.12, \"duration\": 3.32}, {\"text\": \"problem\", \"start\": 329.4, \"duration\": 2.56}, {\"text\": \"and so when you look at its brief it\", \"start\": 330.44, \"duration\": 3.84}, {\"text\": \"takes a lot of a time it takes a lot of\", \"start\": 331.96, \"duration\": 4.92}, {\"text\": \"time to address this and that problem\", \"start\": 334.28, \"duration\": 5.8}, {\"text\": \"has to do with odl cells of xrp now the\", \"start\": 336.88, \"duration\": 4.8}, {\"text\": \"legal issue being addressed is whether\", \"start\": 340.08, \"duration\": 3.6}, {\"text\": \"Ripple is likely to continue violating\", \"start\": 341.68, \"duration\": 4.32}, {\"text\": \"the law if there's no injunction issue\", \"start\": 343.68, \"duration\": 4.48}, {\"text\": \"that's why the SEC in its initial brief\", \"start\": 346.0, \"duration\": 3.88}, {\"text\": \"spent so much time talking about how\", \"start\": 348.16, \"duration\": 4.36}, {\"text\": \"Ripple celebrated the win and acted as\", \"start\": 349.88, \"duration\": 4.12}, {\"text\": \"though it was going to act and disregard\", \"start\": 352.52, \"duration\": 3.76}, {\"text\": \"of the law I think the SEC attached\", \"start\": 354.0, \"duration\": 4.6}, {\"text\": \"something like 30 pages of Twitter posts\", \"start\": 356.28, \"duration\": 3.88}, {\"text\": \"talking about the ruling\", \"start\": 358.6, \"duration\": 3.56}, {\"text\": \"and it included that as evidence to the\", \"start\": 360.16, \"duration\": 4.4}, {\"text\": \"court uh there was one picture in there\", \"start\": 362.16, \"duration\": 4.439}, {\"text\": \"though that they forgot to put in and\", \"start\": 364.56, \"duration\": 4.12}, {\"text\": \"that was Brad Garling House's picture\", \"start\": 366.599, \"duration\": 4.961}, {\"text\": \"with the two biggest wild crazy party\", \"start\": 368.68, \"duration\": 5.48}, {\"text\": \"animals ever and here is that picture\", \"start\": 371.56, \"duration\": 5.639}, {\"text\": \"which they forgot to put in that was at\", \"start\": 374.16, \"duration\": 5.479}, {\"text\": \"the Ripple proper party and we had just\", \"start\": 377.199, \"duration\": 4.12}, {\"text\": \"done like 10 lines of coke and talked\", \"start\": 379.639, \"duration\": 3.161}, {\"text\": \"about how Ripple was going to continue\", \"start\": 381.319, \"duration\": 5.0}, {\"text\": \"violating Securities laws just kidding\", \"start\": 382.8, \"duration\": 5.88}, {\"text\": \"about the violations of law in any case\", \"start\": 386.319, \"duration\": 4.761}, {\"text\": \"from a legal St Point there's not much\", \"start\": 388.68, \"duration\": 5.2}, {\"text\": \"to discuss about the injunction uh and\", \"start\": 391.08, \"duration\": 4.2}, {\"text\": \"that's because a lot of the injunction\", \"start\": 393.88, \"duration\": 3.159}, {\"text\": \"stuff is left left up to the discretion\", \"start\": 395.28, \"duration\": 4.039}, {\"text\": \"of the judge but it's very important for\", \"start\": 397.039, \"duration\": 4.6}, {\"text\": \"ripple because it doesn't want its sales\", \"start\": 399.319, \"duration\": 5.28}, {\"text\": \"of xrp for its OnDemand liquidity\", \"start\": 401.639, \"duration\": 5.201}, {\"text\": \"product to kind of be lumped into the\", \"start\": 404.599, \"duration\": 4.121}, {\"text\": \"injunction that would be a big problem\", \"start\": 406.84, \"duration\": 4.479}, {\"text\": \"for it so Ripple focuses on trying to\", \"start\": 408.72, \"duration\": 4.96}, {\"text\": \"get the judge to kind of carve out those\", \"start\": 411.319, \"duration\": 5.44}, {\"text\": \"sales from any potential injunction by\", \"start\": 413.68, \"duration\": 5.16}, {\"text\": \"arguing that those sales cannot be sales\", \"start\": 416.759, \"duration\": 4.28}, {\"text\": \"of securities and shouldn't have been\", \"start\": 418.84, \"duration\": 4.32}, {\"text\": \"included in the institutional sales from\", \"start\": 421.039, \"duration\": 4.0}, {\"text\": \"the beginning let's take a look at that\", \"start\": 423.16, \"duration\": 5.0}, {\"text\": \"on page seven of its\", \"start\": 425.039, \"duration\": 6.28}, {\"text\": \"brief quote odl buyers hold purchased\", \"start\": 428.16, \"duration\": 6.319}, {\"text\": \"xrp for mere seconds Ripple's odl\", \"start\": 431.319, \"duration\": 5.921}, {\"text\": \"contracts protect buyers from losses and\", \"start\": 434.479, \"duration\": 4.881}, {\"text\": \"prevent them from earning profits due to\", \"start\": 437.24, \"duration\": 4.679}, {\"text\": \"even M momentary volatility in the price\", \"start\": 439.36, \"duration\": 6.119}, {\"text\": \"of xrp they buy xrp solely for to use\", \"start\": 441.919, \"duration\": 6.761}, {\"text\": \"for odl transactions odl contracts do\", \"start\": 445.479, \"duration\": 4.881}, {\"text\": \"not contain provision visions that this\", \"start\": 448.68, \"duration\": 3.76}, {\"text\": \"court has found to show an intent to\", \"start\": 450.36, \"duration\": 4.6}, {\"text\": \"invest such as such as lockup periods\", \"start\": 452.44, \"duration\": 4.72}, {\"text\": \"resale restrictions and\", \"start\": 454.96, \"duration\": 4.12}, {\"text\": \"discounts now reading that I think\", \"start\": 457.16, \"duration\": 4.479}, {\"text\": \"Ripple has a very strong argument here\", \"start\": 459.08, \"duration\": 4.6}, {\"text\": \"but the problem is that the judge\", \"start\": 461.639, \"duration\": 4.721}, {\"text\": \"apparently lumped odl cells in with the\", \"start\": 463.68, \"duration\": 4.12}, {\"text\": \"institutional sales in her summary\", \"start\": 466.36, \"duration\": 3.76}, {\"text\": \"judgment order and sometimes it's hard\", \"start\": 467.8, \"duration\": 4.239}, {\"text\": \"at the remedy stage to kind of get it\", \"start\": 470.12, \"duration\": 4.56}, {\"text\": \"unlocked so the SEC will be filing one\", \"start\": 472.039, \"duration\": 4.88}, {\"text\": \"more brief in a couple of weeks and I\", \"start\": 474.68, \"duration\": 3.56}, {\"text\": \"think that would be the issue to watch\", \"start\": 476.919, \"duration\": 4.0}, {\"text\": \"out for how and how strongly does the\", \"start\": 478.24, \"duration\": 5.359}, {\"text\": \"SEC fight to keep odl cells in the\", \"start\": 480.919, \"duration\": 4.881}, {\"text\": \"injunction an injunction against using\", \"start\": 483.599, \"duration\": 4.04}, {\"text\": \"xrp as a bridge currency obviously\", \"start\": 485.8, \"duration\": 3.959}, {\"text\": \"affects Ripple's business and would be\", \"start\": 487.639, \"duration\": 4.96}, {\"text\": \"bad in business terms uh but enough of\", \"start\": 489.759, \"duration\": 4.521}, {\"text\": \"that let's talk about I think where the\", \"start\": 492.599, \"duration\": 3.56}, {\"text\": \"heart of this issue is and that's about\", \"start\": 494.28, \"duration\": 4.44}, {\"text\": \"money okay and in that case it's called\", \"start\": 496.159, \"duration\": 5.0}, {\"text\": \"disgorgement and I think the sec's main\", \"start\": 498.72, \"duration\": 4.4}, {\"text\": \"ask here is for over a billion dollars\", \"start\": 501.159, \"duration\": 3.76}, {\"text\": \"of discouragement meaning it wants\", \"start\": 503.12, \"duration\": 4.44}, {\"text\": \"Ripple to pay back all the money it made\", \"start\": 504.919, \"duration\": 5.641}, {\"text\": \"from its institutional sales of RP plus\", \"start\": 507.56, \"duration\": 5.359}, {\"text\": \"interest that's over a billion dollars\", \"start\": 510.56, \"duration\": 4.8}, {\"text\": \"and that ask would have been an easy\", \"start\": 512.919, \"duration\": 5.321}, {\"text\": \"reach up until October of last year and\", \"start\": 515.36, \"duration\": 5.52}, {\"text\": \"the birth of the gaval case or goal case\", \"start\": 518.24, \"duration\": 4.279}, {\"text\": \"I don't know how you say it and here's\", \"start\": 520.88, \"duration\": 4.44}, {\"text\": \"what the goal case says per Ripple let's\", \"start\": 522.519, \"duration\": 5.201}, {\"text\": \"look at its brief uh on page 18 I\", \"start\": 525.32, \"duration\": 5.959}, {\"text\": \"believe there it is quote the SEC has\", \"start\": 527.72, \"duration\": 5.88}, {\"text\": \"failed to show that it should obtain the\", \"start\": 531.279, \"duration\": 4.641}, {\"text\": \"Equitable monetary remedy of\", \"start\": 533.6, \"duration\": 5.28}, {\"text\": \"disgorgement under Lou V SEC and secv\", \"start\": 535.92, \"duration\": 4.159}, {\"text\": \"goal\", \"start\": 538.88, \"duration\": 3.44}, {\"text\": \"Lou held that sec's discouragement\", \"start\": 540.079, \"duration\": 4.481}, {\"text\": \"remedy is subject to the restrictions of\", \"start\": 542.32, \"duration\": 3.759}, {\"text\": \"equity jurist\", \"start\": 544.56, \"duration\": 4.08}, {\"text\": \"Prudence among other restrictions one\", \"start\": 546.079, \"duration\": 5.681}, {\"text\": \"disorg must be among other restrictions\", \"start\": 548.64, \"duration\": 5.8}, {\"text\": \"disc scorg M must be awarded for victims\", \"start\": 551.76, \"duration\": 5.319}, {\"text\": \"and the SEC can obtain discouragement\", \"start\": 554.44, \"duration\": 5.48}, {\"text\": \"only of a defendant's net profits after\", \"start\": 557.079, \"duration\": 6.041}, {\"text\": \"deducting legitimate legitimate expenses\", \"start\": 559.92, \"duration\": 5.32}, {\"text\": \"goil further further held that an\", \"start\": 563.12, \"duration\": 4.959}, {\"text\": \"investor is not a victim for Equitable\", \"start\": 565.24, \"duration\": 5.88}, {\"text\": \"purposes if he suffers no if he suffered\", \"start\": 568.079, \"duration\": 6.681}, {\"text\": \"no Peary harm accordingly the SEC must\", \"start\": 571.12, \"duration\": 6.959}, {\"text\": \"show that investors suffered pecuniary\", \"start\": 574.76, \"duration\": 6.639}, {\"text\": \"harm as a predicate for a discouragement\", \"start\": 578.079, \"duration\": 5.681}, {\"text\": \"remedy now let's think let's think about\", \"start\": 581.399, \"duration\": 4.801}, {\"text\": \"that again now under gille which is\", \"start\": 583.76, \"duration\": 5.24}, {\"text\": \"binding second DCA case Authority the\", \"start\": 586.2, \"duration\": 4.879}, {\"text\": \"New York Court is under the second DCA\", \"start\": 589.0, \"duration\": 4.76}, {\"text\": \"so whatever it says they have to follow\", \"start\": 591.079, \"duration\": 7.161}, {\"text\": \"the SEC must show that institutional xrp\", \"start\": 593.76, \"duration\": 7.48}, {\"text\": \"purchasers lost money on their Pur\", \"start\": 598.24, \"duration\": 6.039}, {\"text\": \"purchases of xrp in order for ripple to\", \"start\": 601.24, \"duration\": 5.92}, {\"text\": \"even have to pay one penny back and\", \"start\": 604.279, \"duration\": 4.521}, {\"text\": \"that's a case that came out last year in\", \"start\": 607.16, \"duration\": 3.799}, {\"text\": \"October and that's a humongous problem\", \"start\": 608.8, \"duration\": 4.64}, {\"text\": \"for the SEC because in general the price\", \"start\": 610.959, \"duration\": 4.601}, {\"text\": \"of xrp has gone up over time you know if\", \"start\": 613.44, \"duration\": 3.639}, {\"text\": \"someone bought a million xrp for two\", \"start\": 615.56, \"duration\": 4.36}, {\"text\": \"cents back in 27 back in let's say 2016\", \"start\": 617.079, \"duration\": 5.281}, {\"text\": \"or 2017 or whenever it was that price\", \"start\": 619.92, \"duration\": 5.479}, {\"text\": \"and they sold it for 10 cents in 2019 no\", \"start\": 622.36, \"duration\": 4.8}, {\"text\": \"one lost any money they actually made\", \"start\": 625.399, \"duration\": 4.841}, {\"text\": \"money so to try and count counter gville\", \"start\": 627.16, \"duration\": 6.48}, {\"text\": \"the SEC is therefore left with kind of a\", \"start\": 630.24, \"duration\": 5.48}, {\"text\": \"strained analysis as to how purchasers\", \"start\": 633.64, \"duration\": 4.72}, {\"text\": \"lost money and let's take a look at page\", \"start\": 635.72, \"duration\": 4.44}, {\"text\": \"20 of Ripple's brief because that's\", \"start\": 638.36, \"duration\": 4.76}, {\"text\": \"where it describes uh that part of the\", \"start\": 640.16, \"duration\": 4.4}, {\"text\": \"sec's\", \"start\": 643.12, \"duration\": 4.48}, {\"text\": \"argument and here's what it says quote\", \"start\": 644.56, \"duration\": 5.719}, {\"text\": \"the SEC asserts that some institutional\", \"start\": 647.6, \"duration\": 5.359}, {\"text\": \"buyers suffered pecuniary harm because\", \"start\": 650.279, \"duration\": 4.441}, {\"text\": \"they did not receive undisclosed\", \"start\": 652.959, \"duration\": 4.361}, {\"text\": \"discounts Ripple offer to other buyers\", \"start\": 654.72, \"duration\": 4.16}, {\"text\": \"to be clear there is no argument that\", \"start\": 657.32, \"duration\": 2.959}, {\"text\": \"the discount accounts themselves were\", \"start\": 658.88, \"duration\": 4.199}, {\"text\": \"unlawful instead the SEC contends that\", \"start\": 660.279, \"duration\": 5.12}, {\"text\": \"if Ripple had disclosed the discounts it\", \"start\": 663.079, \"duration\": 4.721}, {\"text\": \"had offered some buyers other buyers\", \"start\": 665.399, \"duration\": 4.24}, {\"text\": \"could have demanded and potentially paid\", \"start\": 667.8, \"duration\": 4.159}, {\"text\": \"lower prices that argument is\", \"start\": 669.639, \"duration\": 4.521}, {\"text\": \"speculative on its face both as to the\", \"start\": 671.959, \"duration\": 3.68}, {\"text\": \"disclosures that have been that would\", \"start\": 674.16, \"duration\": 3.479}, {\"text\": \"have been required and the effect of\", \"start\": 675.639, \"duration\": 3.921}, {\"text\": \"those disclosures have made that is why\", \"start\": 677.639, \"duration\": 4.961}, {\"text\": \"the SEC must say potentially it's Al\", \"start\": 679.56, \"duration\": 4.399}, {\"text\": \"also the same argue that the second\", \"start\": 682.6, \"duration\": 4.239}, {\"text\": \"circuit rejected in gille that the loss\", \"start\": 683.959, \"duration\": 5.44}, {\"text\": \"of a right to make informed decisions\", \"start\": 686.839, \"duration\": 5.201}, {\"text\": \"equates to pecuniary harm after all the\", \"start\": 689.399, \"duration\": 4.24}, {\"text\": \"investors whom goil defrauded certainly\", \"start\": 692.04, \"duration\": 4.16}, {\"text\": \"would have paid less and might well not\", \"start\": 693.639, \"duration\": 4.401}, {\"text\": \"have invested at all had they known he\", \"start\": 696.2, \"duration\": 4.319}, {\"text\": \"was misappropriating their funds but the\", \"start\": 698.04, \"duration\": 4.76}, {\"text\": \"second circuit has squarely held that\", \"start\": 700.519, \"duration\": 4.601}, {\"text\": \"such an injury does not disport support\", \"start\": 702.8, \"duration\": 3.8}, {\"text\": \"discouragement where an investor has\", \"start\": 705.12, \"duration\": 4.24}, {\"text\": \"just has received the return that was\", \"start\": 706.6, \"duration\": 5.479}, {\"text\": \"contemplated the institutional buyers\", \"start\": 709.36, \"duration\": 6.0}, {\"text\": \"received just\", \"start\": 712.079, \"duration\": 3.281}, {\"text\": \"that oh boy all right well that my\", \"start\": 715.92, \"duration\": 5.919}, {\"text\": \"friend friends is a very strong argument\", \"start\": 719.04, \"duration\": 5.08}, {\"text\": \"which was born from a lucky star last\", \"start\": 721.839, \"duration\": 5.721}, {\"text\": \"year on October 31st and which allows\", \"start\": 724.12, \"duration\": 6.399}, {\"text\": \"Ripple to summarize in its brief as\", \"start\": 727.56, \"duration\": 7.24}, {\"text\": \"follows let's take a look at page 30 I\", \"start\": 730.519, \"duration\": 4.281}, {\"text\": \"think quote taking both discretionary\", \"start\": 735.36, \"duration\": 5.52}, {\"text\": \"and comparative factors into account an\", \"start\": 738.32, \"duration\": 4.12}, {\"text\": \"appropriate civil penalty would be no\", \"start\": 740.88, \"duration\": 4.639}, {\"text\": \"more than1 million that would reflect\", \"start\": 742.44, \"duration\": 5.16}, {\"text\": \"about I think I left some that would\", \"start\": 745.519, \"duration\": 4.32}, {\"text\": \"reflect about blank because uh it's\", \"start\": 747.6, \"duration\": 4.64}, {\"text\": \"redacted of Ripple's actual gross\", \"start\": 749.839, \"duration\": 4.401}, {\"text\": \"revenues from pre- complaint\", \"start\": 752.24, \"duration\": 3.839}, {\"text\": \"institutional sales and would be\", \"start\": 754.24, \"duration\": 3.64}, {\"text\": \"proportionate in both percentage and\", \"start\": 756.079, \"duration\": 4.44}, {\"text\": \"dollar amount to comparable digital\", \"start\": 757.88, \"duration\": 5.04}, {\"text\": \"asset cases where there was no culpable\", \"start\": 760.519, \"duration\": 4.961}, {\"text\": \"mental state and no substantial risk of\", \"start\": 762.92, \"duration\": 6.0}, {\"text\": \"harm or risk of harm to\", \"start\": 765.48, \"duration\": 3.44}, {\"text\": \"others so there you have it under goal\", \"start\": 769.0, \"duration\": 6.6}, {\"text\": \"well before goal the SECU is requesting\", \"start\": 772.32, \"duration\": 7.04}, {\"text\": \"$1.95 billion dollar and ripple says not\", \"start\": 775.6, \"duration\": 5.64}, {\"text\": \"only should there be no injunction it\", \"start\": 779.36, \"duration\": 3.8}, {\"text\": \"should only have to pay $10 million in\", \"start\": 781.24, \"duration\": 4.599}, {\"text\": \"total because no one was harmed they\", \"start\": 783.16, \"duration\": 4.88}, {\"text\": \"can't prove any harm to the investors or\", \"start\": 785.839, \"duration\": 5.041}, {\"text\": \"to the purchasers and also $10 million\", \"start\": 788.04, \"duration\": 5.799}, {\"text\": \"would be a reasonable penalty based upon\", \"start\": 790.88, \"duration\": 6.92}, {\"text\": \"past penalties so and that brings us to\", \"start\": 793.839, \"duration\": 6.521}, {\"text\": \"my favorite part which is speculation\", \"start\": 797.8, \"duration\": 5.56}, {\"text\": \"and conclusion and this is uh where I\", \"start\": 800.36, \"duration\": 4.52}, {\"text\": \"get to talk about what I think is going\", \"start\": 803.36, \"duration\": 4.68}, {\"text\": \"to happen and let's give it a shot H I\", \"start\": 804.88, \"duration\": 4.36}, {\"text\": \"don't know what's gonna happen but you\", \"start\": 808.04, \"duration\": 2.599}, {\"text\": \"never know sometimes I get these things\", \"start\": 809.24, \"duration\": 4.36}, {\"text\": \"right so as far as the injunction I\", \"start\": 810.639, \"duration\": 4.56}, {\"text\": \"think the Judge grants and gives an\", \"start\": 813.6, \"duration\": 3.52}, {\"text\": \"injunction against future institutional\", \"start\": 815.199, \"duration\": 5.041}, {\"text\": \"sales of xrp against Ripple um I do\", \"start\": 817.12, \"duration\": 4.839}, {\"text\": \"think she will carve out an exception\", \"start\": 820.24, \"duration\": 4.599}, {\"text\": \"for odl Sals unless the SEC can really\", \"start\": 821.959, \"duration\": 4.161}, {\"text\": \"knock it out of the park on that issue\", \"start\": 824.839, \"duration\": 3.081}, {\"text\": \"when it replies in May I think that's on\", \"start\": 826.12, \"duration\": 4.36}, {\"text\": \"May 6 so I think on this issue I'm going\", \"start\": 827.92, \"duration\": 4.599}, {\"text\": \"to call it a draw I think SEC is going\", \"start\": 830.48, \"duration\": 3.64}, {\"text\": \"to get some of what they want but\", \"start\": 832.519, \"duration\": 4.361}, {\"text\": \"Ripple's going to get What It Wants I\", \"start\": 834.12, \"duration\": 5.0}, {\"text\": \"think that we're going to see uh judge\", \"start\": 836.88, \"duration\": 4.6}, {\"text\": \"Tes\", \"start\": 839.12, \"duration\": 5.12}, {\"text\": \"um probably try to split the baby if I\", \"start\": 841.48, \"duration\": 4.2}, {\"text\": \"had to be honest because this is what\", \"start\": 844.24, \"duration\": 3.519}, {\"text\": \"we've seen her do in the past and I\", \"start\": 845.68, \"duration\": 3.399}, {\"text\": \"think that was a smart move on the part\", \"start\": 847.759, \"duration\": 3.801}, {\"text\": \"of the SEC to ask for $2 billion because\", \"start\": 849.079, \"duration\": 4.401}, {\"text\": \"if you're dealing with a judge that\", \"start\": 851.56, \"duration\": 4.44}, {\"text\": \"likes to split the baby the the natural\", \"start\": 853.48, \"duration\": 4.159}, {\"text\": \"thing the logical thing to do is ask for\", \"start\": 856.0, \"duration\": 3.32}, {\"text\": \"a lot of money or to ask for very little\", \"start\": 857.639, \"duration\": 3.841}, {\"text\": \"money because you're generally thinking\", \"start\": 859.32, \"duration\": 4.079}, {\"text\": \"okay well if we ask for two billion\", \"start\": 861.48, \"duration\": 4.799}, {\"text\": \"maybe we'll get1 billion doll now the\", \"start\": 863.399, \"duration\": 4.921}, {\"text\": \"problem I have is that the sec's\", \"start\": 866.279, \"duration\": 4.401}, {\"text\": \"argument in light of the goal case is\", \"start\": 868.32, \"duration\": 4.6}, {\"text\": \"very speculative and maybe most\", \"start\": 870.68, \"duration\": 4.32}, {\"text\": \"importantly you know the SEC just can't\", \"start\": 872.92, \"duration\": 5.719}, {\"text\": \"show actual losses to the purchasers it\", \"start\": 875.0, \"duration\": 5.36}, {\"text\": \"can say and show that purchasers could\", \"start\": 878.639, \"duration\": 3.921}, {\"text\": \"have lost money but it doesn't look like\", \"start\": 880.36, \"duration\": 4.399}, {\"text\": \"it could produce facts that show actual\", \"start\": 882.56, \"duration\": 5.519}, {\"text\": \"losses of money and you know as kids say\", \"start\": 884.759, \"duration\": 4.921}, {\"text\": \"goes with the courts could have should\", \"start\": 888.079, \"duration\": 3.88}, {\"text\": \"have would have right so we need facts\", \"start\": 889.68, \"duration\": 4.599}, {\"text\": \"in court and I don't see any facts yet\", \"start\": 891.959, \"duration\": 5.081}, {\"text\": \"about actual losses of money so based on\", \"start\": 894.279, \"duration\": 4.36}, {\"text\": \"that it's going to be very difficult for\", \"start\": 897.04, \"duration\": 4.32}, {\"text\": \"the judge to craft any sort of ruling\", \"start\": 898.639, \"duration\": 5.32}, {\"text\": \"that would hold up to an an appeal so I\", \"start\": 901.36, \"duration\": 3.599}, {\"text\": \"guess what I'm saying is I just don't\", \"start\": 903.959, \"duration\": 3.041}, {\"text\": \"see how the judge is going to draft an\", \"start\": 904.959, \"duration\": 4.8}, {\"text\": \"order with any discouragement in it\", \"start\": 907.0, \"duration\": 4.6}, {\"text\": \"unless the SEC can kind of pull off a\", \"start\": 909.759, \"duration\": 4.401}, {\"text\": \"little minor minor miracle in its final\", \"start\": 911.6, \"duration\": 5.479}, {\"text\": \"brief and therefore if you know absent\", \"start\": 914.16, \"duration\": 4.599}, {\"text\": \"that I am saying that the judge will\", \"start\": 917.079, \"duration\": 5.0}, {\"text\": \"order zero discouragement but throws the\", \"start\": 918.759, \"duration\": 6.161}, {\"text\": \"SEC a bone and orders Ripple to pay $100\", \"start\": 922.079, \"duration\": 6.161}, {\"text\": \"million penalty because why not just a\", \"start\": 924.92, \"duration\": 4.68}, {\"text\": \"nice round number\", \"start\": 928.24, \"duration\": 3.2}, {\"text\": \"so I would say that based on what we've\", \"start\": 929.6, \"duration\": 4.039}, {\"text\": \"seen so far in the case that the final\", \"start\": 931.44, \"duration\": 4.24}, {\"text\": \"judgment will come out this summer I'm\", \"start\": 933.639, \"duration\": 4.281}, {\"text\": \"guessing July maybe August and then\", \"start\": 935.68, \"duration\": 3.959}, {\"text\": \"whatever the ruling I think both sides\", \"start\": 937.92, \"duration\": 4.0}, {\"text\": \"file the notices of appeal and the case\", \"start\": 939.639, \"duration\": 4.76}, {\"text\": \"heads up to the DCA appeals court and is\", \"start\": 941.92, \"duration\": 5.159}, {\"text\": \"ruled on next year now I wouldn't appeal\", \"start\": 944.399, \"duration\": 5.281}, {\"text\": \"it if I was the SEC because bad facts\", \"start\": 947.079, \"duration\": 5.32}, {\"text\": \"make bad law but that's just me now I\", \"start\": 949.68, \"duration\": 4.32}, {\"text\": \"don't know if the SCC can just let this\", \"start\": 952.399, \"duration\": 4.12}, {\"text\": \"go everything seems very personal to\", \"start\": 954.0, \"duration\": 5.6}, {\"text\": \"them in anyway that's my call $100\", \"start\": 956.519, \"duration\": 5.401}, {\"text\": \"million and an injunction as to the\", \"start\": 959.6, \"duration\": 4.679}, {\"text\": \"institutional sales we'll see if I hit\", \"start\": 961.92, \"duration\": 5.64}, {\"text\": \"the uh Bullseye or if I'm way off Target\", \"start\": 964.279, \"duration\": 5.881}, {\"text\": \"and finally allow me to take a personal\", \"start\": 967.56, \"duration\": 5.519}, {\"text\": \"moment to say happy birthday to my wife\", \"start\": 970.16, \"duration\": 5.119}, {\"text\": \"who I think we have a picture of\", \"start\": 973.079, \"duration\": 4.32}, {\"text\": \"somewhere she would be the one in the\", \"start\": 975.279, \"duration\": 4.36}, {\"text\": \"middle if we got the right\", \"start\": 977.399, \"duration\": 6.56}, {\"text\": \"picture no picture there she is okay all\", \"start\": 979.639, \"duration\": 6.68}, {\"text\": \"right no not Marilyn Monroe not Charlie\", \"start\": 983.959, \"duration\": 4.401}, {\"text\": \"Chapman my wife is in the middle and I'm\", \"start\": 986.319, \"duration\": 3.401}, {\"text\": \"not going to tell tell you how old she\", \"start\": 988.36, \"duration\": 3.479}, {\"text\": \"is but let me just say that I met her\", \"start\": 989.72, \"duration\": 4.44}, {\"text\": \"when she was 23 and I've now known her\", \"start\": 991.839, \"duration\": 5.48}, {\"text\": \"for more than half of her life she's my\", \"start\": 994.16, \"duration\": 5.52}, {\"text\": \"wife law partner mother of my children\", \"start\": 997.319, \"duration\": 4.841}, {\"text\": \"the most intensely family focused person\", \"start\": 999.68, \"duration\": 5.76}, {\"text\": \"I've ever met and she's an amazing woman\", \"start\": 1002.16, \"duration\": 4.64}, {\"text\": \"happy birthday\", \"start\": 1005.44, \"duration\": 4.12}, {\"text\": \"love and that's it that's it we're\", \"start\": 1006.8, \"duration\": 4.88}, {\"text\": \"almost done uh sometime this summer\", \"start\": 1009.56, \"duration\": 3.6}, {\"text\": \"we're going to get a final judgment and\", \"start\": 1011.68, \"duration\": 3.44}, {\"text\": \"we'll go from there I'd like to thank\", \"start\": 1013.16, \"duration\": 4.039}, {\"text\": \"you for watching I'd also like to thank\", \"start\": 1015.12, \"duration\": 3.88}, {\"text\": \"the amazing crypto law staff for for\", \"start\": 1017.199, \"duration\": 3.88}, {\"text\": \"helping me do this they have some\", \"start\": 1019.0, \"duration\": 4.399}, {\"text\": \"amazing stuff coming up about the SEC\", \"start\": 1021.079, \"duration\": 4.921}, {\"text\": \"and enforcement in general next week so\", \"start\": 1023.399, \"duration\": 4.28}, {\"text\": \"keep an eye out for those and and\", \"start\": 1026.0, \"duration\": 3.88}, {\"text\": \"keeping out and watch them and I want to\", \"start\": 1027.679, \"duration\": 4.081}, {\"text\": \"thank you from the bottom of my heart\", \"start\": 1029.88, \"duration\": 5.12}, {\"text\": \"peace out\", \"start\": 1031.76, \"duration\": 3.24}]\n"
     ]
    }
   ],
   "source": [
    "print(json_formatted)"
   ]
  },
  {
   "cell_type": "code",
   "execution_count": 83,
   "metadata": {},
   "outputs": [],
   "source": [
    "prompt = \"\"\"\n",
    "As a professional summarizer, create a concise and comprehensive summary of the provided text:\n",
    "\n",
    "- Extract all key and pertinent information.\n",
    "- Craft a summary that is detailed, thorough, in-depth, and complex, while maintaining clarity and conciseness.\n",
    "- Incorporate main ideas and essential information, eliminating extraneous language and focusing on critical aspects.\n",
    "- Rely strictly on the provided text, without including external information.\n",
    "- Format the summary in markdown with bullet points, signposting and any other tools for accessible reading.\n",
    "- Writing in the style of Raymond Carver: simple, clear and direct.\n",
    "- Ensure you give me a TL;DR upfront.\n",
    "\"\"\""
   ]
  },
  {
   "cell_type": "code",
   "execution_count": 70,
   "metadata": {},
   "outputs": [],
   "source": [
    "initial_summary = \"\"\"\n",
    "Write an initial summary which should be long ( 4-5 sentences, ~80 words) yet highly non-specific, containing little information beyond the entities marked as missing. \n",
    "Use overly verbose languages and fillers (Eg. This article discusses) to reach ~80 words.\n",
    "\"\"\"\n",
    "\n",
    "denser_summary = \"\"\"\n",
    "You are going to generate an increasingly concise, entity-dense summary..\n",
    "\n",
    "Perform the following two tasks\n",
    "- Identify 1-3 informative entities from the original text which is missing from the previous summary\n",
    "- Write a new denser summary of identical length which covers every entity and detail from the previous summary plus the Missing Entities\n",
    "\n",
    "Guidelines\n",
    "- Make every word count: re-write the previous summary to improve flow and make space for additional entities\n",
    "- Make space with fusion, compression, and removal of uninformative phrases like \"the article discusses\".\n",
    "- The summaries should become highly dense and concise yet self-contained, e.g., easily understood without the Article.\n",
    "- Missing entities can appear anywhere in the new summary\n",
    "- Never drop entities from the previous summary. If space cannot be made, add fewer new entities.\n",
    "\n",
    "An Entity is a real-world object that's assigned a name - for example, a person, country a product or a book title.\n",
    "\"\"\""
   ]
  },
  {
   "cell_type": "code",
   "execution_count": 84,
   "metadata": {},
   "outputs": [
    {
     "name": "stdout",
     "output_type": "stream",
     "text": [
      "**Summary of Ripple's Ongoing Legal Battle with the SEC**\n",
      "\n",
      "- **Introduction and Context:**\n",
      "  - Jeremy Hogan, an attorney specializing in crypto law, discusses the ongoing legal case between Ripple and the U.S. Securities and Exchange Commission (SEC).\n",
      "  - The SEC previously held a perfect record in crypto-related cases until facing Ripple and experienced unexpected challenges during the proceedings.\n",
      "\n",
      "- **Judge Assignment and Initial Developments:**\n",
      "  - Ripple was seen as fortunate to have Judge Torres assigned to their case. Under other judges, results might have differed significantly.\n",
      "\n",
      "- **The 'Goil' Case and its Impact:**\n",
      "  - A pivotal case, referred to as the 'Goil' case, emerged from the second DCA Court, which significantly favored Ripple's stance. This case played a decisive role in shaping the legal arguments and strategies for Ripple.\n",
      "\n",
      "- **SEC’s Demands:**\n",
      "  - The SEC seeks an injunction preventing further violations, a disgorgement (return of illicit gains) of approximately $876 million, a civil penalty of the same amount, and an additional $198 million in interest—totaling roughly $1.95 billion.\n",
      "\n",
      "- **Ripple's Defense:**\n",
      "  - Ripple differentiates sales to institutional buyers from their On-Demand Liquidity (ODL) product sales, arguing these should not be classified as securities transactions. They contend that ODL transactions are brief and do not offer opportunities for profit or loss through market movements.\n",
      "\n",
      "- **Legal Arguments and Current Status:**\n",
      "  - Ripple faces significant hurdles due to the inclusion of their ODL sales in the broader category of institutional sales.\n",
      "  - The SEC needs to demonstrate that investors suffered financial harm from Ripple's actions for disgorgement to apply. Following the 'Goil' case precedent, proving pecuniary loss has become challenging for the SEC.\n",
      "\n",
      "- **Speculation on Outcomes:**\n",
      "  - Possible outcomes include a partial victory for both sides. The injunction may apply only to certain types of sales. Financial penalties might be significantly reduced from billions to potentially $10 million, reflecting the proportionate amount to similar cases without proven financial harm to investors.\n",
      "  - Both the SEC and Ripple may file appeals, prolonging the legal dispute.\n",
      "\n",
      "- **Personal Note:**\n",
      "  - The episode concludes with a personal birthday greeting to Hogan’s wife, showcasing a blend of professional analysis with personal moments.\n",
      "\n",
      "**TL;DR (Too Long; Didn't Read):**\n",
      "Ripple's ongoing legal battle with the SEC could potentially end with reduced financial penalties and restricted sales injunctions, influenced majorly by the outcome of the 'Goil' case that challenges the SEC’s traditional approach to disgorgement based on investor harm. Appeals from both parties could extend the case timeline.\n"
     ]
    }
   ],
   "source": [
    "response = wrapper(prompt=prompt, data=json_formatted)\n",
    "response_content = response.choices[0].message.content\n",
    "print(response_content)"
   ]
  },
  {
   "cell_type": "markdown",
   "metadata": {},
   "source": [
    "Notification of Video from Google"
   ]
  },
  {
   "cell_type": "code",
   "execution_count": 93,
   "metadata": {},
   "outputs": [
    {
     "name": "stdout",
     "output_type": "stream",
     "text": [
      "API Response: {'kind': 'youtube#searchListResponse', 'etag': 'PLk22xd7gUSOrZbmKdslywO3xBQ', 'regionCode': 'AU', 'pageInfo': {'totalResults': 0, 'resultsPerPage': 0}, 'items': []}\n",
      "No new videos found.\n"
     ]
    }
   ],
   "source": [
    "from googleapiclient.discovery import build\n",
    "\n",
    "def get_latest_videos(api_key, channel_id):\n",
    "    youtube = build('youtube', 'v3', developerKey=api_key)\n",
    "    request = youtube.search().list(\n",
    "        part=\"id,snippet\",\n",
    "        channelId=channel_id,\n",
    "        maxResults=5,\n",
    "        order=\"date\"\n",
    "    )\n",
    "    response = request.execute()\n",
    "    \n",
    "    # Debugging: Print the raw response\n",
    "    print(\"API Response:\", response)\n",
    "\n",
    "    videos = []  # List to store video information\n",
    "    for item in response.get('items', []):\n",
    "        if item['id']['kind'] == \"youtube#video\":\n",
    "            video_info = {\n",
    "                'video_id': item['id']['videoId'],\n",
    "                'title': item['snippet']['title'],\n",
    "                'description': item['snippet']['description'],\n",
    "                'thumbnail_url': item['snippet']['thumbnails']['high']['url']\n",
    "            }\n",
    "            videos.append(video_info)\n",
    "        else:\n",
    "            # Debugging: Print out non-video items\n",
    "            print(\"Non-video item found:\", item)\n",
    "\n",
    "    return videos\n",
    "\n",
    "# Example usage:\n",
    "api_key = GOOGLE_API_KEY\n",
    "channel_id = ''\n",
    "video_data = get_latest_videos(api_key, channel_id)\n",
    "\n",
    "# Debugging: Check if video_data is empty\n",
    "if not video_data:\n",
    "    print(\"No new videos found.\")\n",
    "else:\n",
    "    for video in video_data:\n",
    "        print(f\"Video ID: {video['video_id']}, Title: {video['title']}\")\n"
   ]
  }
 ],
 "metadata": {
  "kernelspec": {
   "display_name": ".venv",
   "language": "python",
   "name": "python3"
  },
  "language_info": {
   "codemirror_mode": {
    "name": "ipython",
    "version": 3
   },
   "file_extension": ".py",
   "mimetype": "text/x-python",
   "name": "python",
   "nbconvert_exporter": "python",
   "pygments_lexer": "ipython3",
   "version": "3.11.5"
  }
 },
 "nbformat": 4,
 "nbformat_minor": 2
}
