{
 "cells": [
  {
   "cell_type": "code",
   "execution_count": 1,
   "metadata": {},
   "outputs": [],
   "source": [
    "from dotenv import load_dotenv\n",
    "import enum\n",
    "import instructor\n",
    "from openai import OpenAI\n",
    "import os\n",
    "from pathlib import Path\n",
    "from pprint import pprint as pp\n",
    "from pydantic import BaseModel, Field, StringConstraints, conlist, field_validator\n",
    "from typing import List\n",
    "from typing_extensions import Annotated"
   ]
  },
  {
   "cell_type": "code",
   "execution_count": 2,
   "metadata": {},
   "outputs": [],
   "source": [
    "# load API key\n",
    "\n",
    "dotenv_path = Path(r\"C:\\Storage\\python_projects\\ashvin\\.env\")\n",
    "speech_file_path = Path(r\"C:\\Storage\\python_projects\\ashvin\\sandbox\\pydantic\\speech.mp3\")\n",
    "load_dotenv(dotenv_path=dotenv_path)\n",
    "OPENAI_API_KEY = os.getenv(\"OPENAI_API_KEY\")\n",
    "\n",
    "# main constants\n",
    "\n",
    "GPT_MODEL = \"gpt-4-turbo-2024-04-09\" # points to latest GPT model\n",
    "TTS_MODEL = \"tts-1-hd\"\n",
    "TRANSLATE_MODEL = \"whisper-1\"\n",
    "\n",
    "#instantiate client\n",
    "client = OpenAI()"
   ]
  },
  {
   "cell_type": "code",
   "execution_count": null,
   "metadata": {},
   "outputs": [],
   "source": [
    "aganaga = \"\"\"\n",
    "உண்மையில் வேதாளம் என்பது தேவர்கள் உலகத்தில் வாழ்ந்து கொண்டிருந்த புட்பதத்தன்தான். புட்பதத்தனும் அவனது மனைவி தேவதத்தையும் தேவர்களுக்கு ஆடை தைத்து கொடுக்கும் பணியை செய்து கொண்டிருந்தனர். இந்நிலையில் புட்பதத்தனுக்கு ஒரு விபரீத ஆசை தோன்றியது. அதுதான் ஈசனுக்கும், பார்வதி தேவிக்கும் அழகிய உடை ஒன்றை தைத்து கொடுக்க வேண்டும் என்று. இன்னைக்கு இந்த பொருட்களை தானம் பண்ணுனா.. உங்கள் விருப்பங்கள் அனைத்தும் நிறைவேறுமாம்…\n",
    "\n",
    "புட்பதத்தன் தான் நினைத்தது போலவே அழகிய ஆடைகளை தயாரித்து அதனை ஈசனுக்கு வழங்க கைலாயத்திற்கு சென்றான். அங்கு சென்று ஈசனை பார்த்த மகிழ்ச்சியில் வந்த வேலையை மறந்து விட்டு ஈசனை வணங்கியே நேரத்தை கழித்தி விட்டான். ஈசனிடம் விடை பெற்றுக்கொண்டு அவன் திரும்பிய போது இருள் சூழ்ந்துவிட்டது. பிறகுதான் அவனுக்கு ஆடையை ஈசனுக்கும், பார்வதிக்கும் தராமல் வந்துவிட்டது நியாபகம் வந்தது. இருட்டியும் விட்டதால் கைலாயத்தின் வாசலிலேயே படுக்க முடிவெடுத்தான்.\n",
    "\n",
    "அன்று இரவு சிவபெருமான் பார்வதி தேவியிடம் ஒரு முக்கியமான தேவ ரகசியம் பற்றி கூறிக்கொண்டிருந்தார். அது கைலாயத்தின் வாசலில் படுத்திருந்த புட்பதத்தன் காதுகளில் விழுந்துவிட்டது. மறுநாள் ஈசனிடம் சென்று தான் கொண்டுவந்த ஆடைகளை கொடுத்துவிட்டு ஆசிபெற்ற புட்பதத்தன், நேற்று இரவு தான் கைலாய வாசலில் படுத்திருந்ததையும், சிவன் கூறிய தேவ ரகசியத்தை கேட்டு விட்டதையும், அப்போதிருந்தே தன் மனம் படாதபாடு படுவதையும் கூறினான். தேவ ரகசியத்தை கேட்டு விட்டதால் கோபமுற்றார் சிவபெருமான், இருப்பினும் அவன் உண்மையை கூறியதால் அதனை எக்காரணத்தை கொண்டும் யாரிடமும் கூறக்கூடாது என்று அவனை எச்சரித்து அனுப்பினார். சனி பகவானின் அருளைப் பெற சொல்ல வேண்டிய சனி மந்திரங்கள்! சிவனின் சாபம் கைலாயத்திலிருந்து திரும்பி வந்த புட்பதத்தன் பல நாட்கள் நிம்மதியின்றி தவித்து வந்தான். அவன் மனைவி பல முறை கேட்டும் காரணம் என்னவென்று சொல்லாத புட்பதத்தன் ஒருநாள் அழுத்தம் தாங்காமல் அந்த தேவ ரகசியத்தை தன் மனைவியிடம் கூறிவிட்டான். இது உடனே ஈசனுக்கு தெரிந்துவிட்டது. தன் பேச்சை மதிக்காத புட்பதத்தனை வேதாளமாக மாறி பூமியில் முருங்கை மரத்தில் தொங்கும்படியும், ரகசியத்தை காக்க முடியாத நீ இனி கேள்விகள் கேட்டுக்கொண்டே உன் வாழ்நாளை கழிப்பாய் என்றும், ரகசியத்தை கேட்ட தேவதத்தை வனத்தில் இரவு முழுவதும் வீணை வாசித்து மற்றவர் உறக்கத்தை கெடுத்து கொண்டே இருப்பாய் என்றும் சாபமளித்தார்.\n",
    "\"\"\""
   ]
  },
  {
   "cell_type": "code",
   "execution_count": null,
   "metadata": {},
   "outputs": [],
   "source": [
    "# TTS\n",
    "\n",
    "response = client.audio.speech.create(\n",
    "  model=AUDIO_MODEL,\n",
    "  voice=\"onyx\",\n",
    "  input=aganaga,\n",
    "  speed = 0.75\n",
    ")\n",
    "response.stream_to_file(speech_file_path)\n"
   ]
  },
  {
   "cell_type": "code",
   "execution_count": 10,
   "metadata": {},
   "outputs": [],
   "source": [
    "# STT - translations\n",
    "\n",
    "audio_file = open(\"notes.mp3\", \"rb\")\n",
    "transcript = client.audio.transcriptions.create(\n",
    "  model=\"whisper-1\",\n",
    "  language=\"ta\",\n",
    "  file=audio_file,\n",
    "  response_format=\"text\",\n",
    "  \n",
    ")"
   ]
  },
  {
   "cell_type": "code",
   "execution_count": 12,
   "metadata": {},
   "outputs": [],
   "source": [
    "# STT - transcriptions\n",
    "\n",
    "audio_file = open(\"notes.mp3\", \"rb\")\n",
    "translation = client.audio.translations.create(\n",
    "  model=\"whisper-1\",\n",
    "  file=audio_file,\n",
    "  response_format=\"text\",\n",
    "  \n",
    ")"
   ]
  },
  {
   "cell_type": "code",
   "execution_count": 13,
   "metadata": {},
   "outputs": [
    {
     "name": "stdout",
     "output_type": "stream",
     "text": [
      "(\"Okay here's my daily notes for the 5th of May 2024. A couple of things I \"\n",
      " \"want to say. Number one, let's make a prototype of chat PRT. Claire Vo has \"\n",
      " \"released multiple examples on Twitter. Number two, there's a critic \"\n",
      " 'framework for overall agent reasoning which I think I linked yesterday on '\n",
      " \"ArcSiff. Let's think about that. Number three, there's a Koala framework. \"\n",
      " \"Actually I think I'm wrong. Critic is for reflection, also on ArcSiff, and \"\n",
      " 'Koala is for agent framework. Then Hamal Hussain has a function written by '\n",
      " 'Jeremy Howard which is basically doing the JSON stuff for a function like '\n",
      " 'Pytantic. I need to think about that. Lastly I thought about Stripe as an '\n",
      " 'opportunity to make some sales. Then in general I was also thinking maybe I '\n",
      " \"could register 1hourstartup.com and go from there. Okay, let's make that \"\n",
      " 'work.\\n')\n"
     ]
    }
   ],
   "source": [
    "pp(translation)"
   ]
  }
 ],
 "metadata": {
  "kernelspec": {
   "display_name": ".venv",
   "language": "python",
   "name": "python3"
  },
  "language_info": {
   "codemirror_mode": {
    "name": "ipython",
    "version": 3
   },
   "file_extension": ".py",
   "mimetype": "text/x-python",
   "name": "python",
   "nbconvert_exporter": "python",
   "pygments_lexer": "ipython3",
   "version": "3.11.5"
  }
 },
 "nbformat": 4,
 "nbformat_minor": 2
}
