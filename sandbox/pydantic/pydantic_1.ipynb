{
 "cells": [
  {
   "cell_type": "code",
   "execution_count": 9,
   "metadata": {},
   "outputs": [],
   "source": [
    "from datetime import datetime\n",
    "from typing import Tuple, Optional, List\n",
    "from pydantic import BaseModel, PositiveInt, Field"
   ]
  },
  {
   "cell_type": "code",
   "execution_count": 2,
   "metadata": {},
   "outputs": [],
   "source": [
    "class Delivery(BaseModel):\n",
    "    timestamp: datetime\n",
    "    dimensions: Tuple[int, int]"
   ]
  },
  {
   "cell_type": "code",
   "execution_count": 3,
   "metadata": {},
   "outputs": [
    {
     "name": "stdout",
     "output_type": "stream",
     "text": [
      "datetime.datetime(2020, 1, 2, 3, 4, 5, tzinfo=TzInfo(UTC))\n",
      "(10, 20)\n"
     ]
    }
   ],
   "source": [
    "m = Delivery(timestamp='2020-01-02T03:04:05Z', dimensions=['10', '20'])\n",
    "print(repr(m.timestamp))\n",
    "#> datetime.datetime(2020, 1, 2, 3, 4, 5, tzinfo=TzInfo(UTC))\n",
    "print(m.dimensions)\n",
    "#> (10, 20)"
   ]
  },
  {
   "cell_type": "code",
   "execution_count": 4,
   "metadata": {},
   "outputs": [],
   "source": [
    "class User(BaseModel):\n",
    "    id: int  \n",
    "    name: str = 'John Doe'  \n",
    "    signup_ts: datetime | None  \n",
    "    tastes: dict[str, PositiveInt]  \n",
    "\n",
    "\n",
    "external_data = {\n",
    "    'id': 123,\n",
    "    'signup_ts': '2019-06-01 12:22',  \n",
    "    'tastes': {\n",
    "        'wine': 9,\n",
    "        b'cheese': 7,  \n",
    "        'cabbage': '1',  \n",
    "    },\n",
    "}\n",
    "\n",
    "user = User(**external_data)  \n",
    "\n"
   ]
  },
  {
   "cell_type": "code",
   "execution_count": 9,
   "metadata": {},
   "outputs": [
    {
     "data": {
      "text/plain": [
       "{'id': 123,\n",
       " 'name': 'John Doe',\n",
       " 'signup_ts': datetime.datetime(2019, 6, 1, 12, 22),\n",
       " 'tastes': {'wine': 9, 'cheese': 7, 'cabbage': 1}}"
      ]
     },
     "execution_count": 9,
     "metadata": {},
     "output_type": "execute_result"
    }
   ],
   "source": [
    "user.model_dump()"
   ]
  },
  {
   "cell_type": "code",
   "execution_count": 12,
   "metadata": {},
   "outputs": [
    {
     "data": {
      "text/plain": [
       "'{\"id\":123,\"name\":\"John Doe\",\"signup_ts\":\"2019-06-01T12:22:00\",\"tastes\":{\"wine\":9,\"cheese\":7,\"cabbage\":1}}'"
      ]
     },
     "execution_count": 12,
     "metadata": {},
     "output_type": "execute_result"
    }
   ],
   "source": [
    "user.model_dump_json()\n"
   ]
  },
  {
   "cell_type": "code",
   "execution_count": 13,
   "metadata": {},
   "outputs": [
    {
     "data": {
      "text/plain": [
       "{'properties': {'id': {'title': 'Id', 'type': 'integer'},\n",
       "  'name': {'default': 'John Doe', 'title': 'Name', 'type': 'string'},\n",
       "  'signup_ts': {'anyOf': [{'format': 'date-time', 'type': 'string'},\n",
       "    {'type': 'null'}],\n",
       "   'title': 'Signup Ts'},\n",
       "  'tastes': {'additionalProperties': {'exclusiveMinimum': 0,\n",
       "    'type': 'integer'},\n",
       "   'title': 'Tastes',\n",
       "   'type': 'object'}},\n",
       " 'required': ['id', 'signup_ts', 'tastes'],\n",
       " 'title': 'User',\n",
       " 'type': 'object'}"
      ]
     },
     "execution_count": 13,
     "metadata": {},
     "output_type": "execute_result"
    }
   ],
   "source": [
    "user.model_json_schema()"
   ]
  },
  {
   "cell_type": "code",
   "execution_count": 14,
   "metadata": {},
   "outputs": [
    {
     "data": {
      "text/plain": [
       "{'id': FieldInfo(annotation=int, required=True),\n",
       " 'name': FieldInfo(annotation=str, required=False, default='John Doe'),\n",
       " 'signup_ts': FieldInfo(annotation=Union[datetime, NoneType], required=True),\n",
       " 'tastes': FieldInfo(annotation=dict[str, Annotated[int, Gt]], required=True)}"
      ]
     },
     "execution_count": 14,
     "metadata": {},
     "output_type": "execute_result"
    }
   ],
   "source": [
    "user.model_fields_\n"
   ]
  },
  {
   "cell_type": "code",
   "execution_count": 19,
   "metadata": {},
   "outputs": [],
   "source": [
    "class PMGoal(BaseModel):\n",
    "    verb: str = Field(..., description=\"a clear, singular action\")\n",
    "    metric: str = Field(..., description=\"a measurable, specific quantitative target\")\n",
    "    focus: str = Field(..., description=\"a concise, well-defined area of impact\")\n",
    "    timeframe: Optional[str] = Field(None, description=\"a specific, achievable deadline\")\n",
    "    sentence: str = Field(..., description=\"Craft a succinct sentence that seamlessly integrates the verb, metric, focus, and timeframe\")\n"
   ]
  },
  {
   "cell_type": "code",
   "execution_count": 20,
   "metadata": {},
   "outputs": [],
   "source": [
    "goal = PMGoal.model_json_schema()"
   ]
  },
  {
   "cell_type": "code",
   "execution_count": 21,
   "metadata": {},
   "outputs": [
    {
     "data": {
      "text/plain": [
       "{'properties': {'verb': {'description': 'a clear, singular action',\n",
       "   'title': 'Verb',\n",
       "   'type': 'string'},\n",
       "  'metric': {'description': 'a measurable, specific target',\n",
       "   'title': 'Metric',\n",
       "   'type': 'string'},\n",
       "  'focus': {'description': 'a concise, well-defined area of impact',\n",
       "   'title': 'Focus',\n",
       "   'type': 'string'},\n",
       "  'timeframe': {'anyOf': [{'type': 'string'}, {'type': 'null'}],\n",
       "   'default': None,\n",
       "   'description': 'a specific, achievable deadline',\n",
       "   'title': 'Timeframe'},\n",
       "  'sentence': {'description': 'Craft a succinct sentence that seamlessly integrates the verb, metric, focus, and timeframe',\n",
       "   'title': 'Sentence',\n",
       "   'type': 'string'}},\n",
       " 'required': ['verb', 'metric', 'focus', 'sentence'],\n",
       " 'title': 'PMGoal',\n",
       " 'type': 'object'}"
      ]
     },
     "execution_count": 21,
     "metadata": {},
     "output_type": "execute_result"
    }
   ],
   "source": [
    "goal"
   ]
  }
 ],
 "metadata": {
  "kernelspec": {
   "display_name": ".venv",
   "language": "python",
   "name": "python3"
  },
  "language_info": {
   "codemirror_mode": {
    "name": "ipython",
    "version": 3
   },
   "file_extension": ".py",
   "mimetype": "text/x-python",
   "name": "python",
   "nbconvert_exporter": "python",
   "pygments_lexer": "ipython3",
   "version": "3.11.5"
  }
 },
 "nbformat": 4,
 "nbformat_minor": 2
}
