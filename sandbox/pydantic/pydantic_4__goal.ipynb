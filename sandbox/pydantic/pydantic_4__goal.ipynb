{
 "cells": [
  {
   "cell_type": "code",
   "execution_count": 1,
   "metadata": {},
   "outputs": [],
   "source": [
    "from dotenv import load_dotenv\n",
    "import instructor\n",
    "from openai import OpenAI\n",
    "import os\n",
    "from pathlib import Path\n",
    "from pydantic import BaseModel, Field, StringConstraints, conlist, constr, field_validator\n",
    "from typing_extensions import Annotated\n"
   ]
  },
  {
   "cell_type": "code",
   "execution_count": 4,
   "metadata": {},
   "outputs": [],
   "source": [
    "# load API key\n",
    "\n",
    "dotenv_path = Path(r\"C:\\Storage\\python_projects\\ashvin\\.env\")\n",
    "load_dotenv(dotenv_path=dotenv_path)\n",
    "OPENAI_API_KEY = os.getenv(\"OPENAI_API_KEY\")\n",
    "\n",
    "# main constants\n",
    "\n",
    "GPT_MODEL = \"gpt-4o\" # points to latest GPT model\n",
    "\n",
    "#instantiate client\n",
    "client = instructor.from_openai(OpenAI(), mode=instructor.Mode.TOOLS)"
   ]
  },
  {
   "cell_type": "code",
   "execution_count": 5,
   "metadata": {},
   "outputs": [],
   "source": [
    "# simple goal\n",
    "\n",
    "class SimpleGoal(BaseModel):\n",
    "    \"\"\"Given a context, extract and generate a concise and straightforward main goal based on a specified action and target.\"\"\"\n",
    "    \n",
    "    action: str = Field(..., \n",
    "                        description=\"The decisive action to be executed, using strong and directive verbs\")\n",
    "    target: str = Field(..., \n",
    "                        description=\"The specific item or resource on which the action is to be performed, described in simple language.\")\n",
    "    goal: Annotated[str, StringConstraints(max_length=50)] = Field(..., \n",
    "                                                                   description=\"A concise, imperative sentence that combines the action and the target into a clear, understandable main goal.\")"
   ]
  },
  {
   "cell_type": "code",
   "execution_count": 6,
   "metadata": {},
   "outputs": [],
   "source": [
    "# list of simple goals\n",
    "\n",
    "class SimpleGoals(BaseModel):\n",
    "    \"\"\"Given a context, extract and infer a list of goals\"\"\"\n",
    "\n",
    "    goals: list[SimpleGoal]"
   ]
  },
  {
   "cell_type": "code",
   "execution_count": 7,
   "metadata": {},
   "outputs": [],
   "source": [
    "# n length list of simple goals \n",
    "\n",
    "class SimpleGoals(BaseModel):\n",
    "    \"\"\"Given a context, extract and infer a {min_length} list of goals\"\"\"\n",
    "\n",
    "    goals: conlist(SimpleGoal, min_length=3) # type: ignore\n",
    "\n",
    "    "
   ]
  },
  {
   "cell_type": "code",
   "execution_count": 18,
   "metadata": {},
   "outputs": [],
   "source": [
    "# product or business goal\n",
    "\n",
    "class ComplexGoal(BaseModel):\n",
    "    \"\"\"Given a context, extract and infer a specific, main product or business goal\"\"\"\n",
    "    \n",
    "    verb: str = Field(..., description=\"A clear, singular action.\")\n",
    "    quantitative_metric: str = Field(..., description=\"The numerical part of the goal, including either a number or a percentage.\",\n",
    "                                      examples=[\"20%\", \"30 minutes\", \"90%\", \"5 additional metropolitan areas\", \"3-5\"])\n",
    "    qualitative_metric: str = Field(..., description=\"A concise description of what the goal targets, without the numeric component.\",\n",
    "                                     examples=[\"increase the number of bookings\", \"reduce average wait time for pickups\",\n",
    "                                               \"achieve a customer satisfaction rate\", \"expand service\",\n",
    "                                               \"increase recycling rate of collected rubbish\"])\n",
    "    focus: str = Field(..., description=\"A concise, well-defined area of impact.\")\n",
    "    timeframe: str = Field(None, description=\"A specific, achievable deadline.\")\n",
    "    goal: str = Field(..., description=\"Craft a succinct, declarative sentence that integrates the verb, quantitative and qualitative metrics, focus, and timeframe, ensuring to include a specific number or percentage.\")"
   ]
  },
  {
   "cell_type": "code",
   "execution_count": null,
   "metadata": {},
   "outputs": [],
   "source": [
    "         \"verb\": \"decrease\",\n",
    "                    \"quantitative_metric\": \"10%\",\n",
    "                    \"qualitative_metric\": \"reduce churn rate\",\n",
    "                    \"focus\": \"subscription services\",\n",
    "                    \"timeframe\": \"by the end of Q4\",\n",
    "                    \"goal\": \"Decrease churn rate by 10% in subscription services by the end of Q4.\"\n",
    "                },\n",
    "                {\n",
    "                    \"verb\": \"raise\",\n",
    "                    \"quantitative_metric\": \"$1 million\",\n",
    "                    \"qualitative_metric\": \"raise capital# revised product or business goal with Anotated constraints ???\n",
    "\n",
    "from pydantic import BaseModel, Field\n",
    "from pydantic.config import ConfigDict\n",
    "\n",
    "class ComplexGoal(BaseModel):\n",
    "    \"\"\"Given a context, extract and infer a specific, main product or business goal\"\"\"\n",
    "    \n",
    "    verb: str = Field(..., description=\"A clear, singular action.\")\n",
    "    quantitative_metric: str = Field(..., description=\"The numerical part of the goal, including either a number or a percentage.\",\n",
    "                                      examples=[\"20%\", \"30 minutes\", \"90%\", \"5 additional metropolitan areas\", \"3-5\"])\n",
    "    qualitative_metric: str = Field(..., description=\"A concise description of what the goal targets, without the numeric component.\",\n",
    "                                     examples=[\"increase the number of bookings\", \"reduce average wait time for pickups\",\n",
    "                                               \"achieve a customer satisfaction rate\", \"expand service\",\n",
    "                                               \"increase recycling rate of collected rubbish\"])\n",
    "    focus: str = Field(..., description=\"A concise, well-defined area of impact.\")\n",
    "    timeframe: str = Field(None, description=\"A specific, achievable deadline.\")\n",
    "    goal: str = Field(..., description=\"Craft a succinct, declarative sentence that integrates the verb, quantitative and qualitative metrics, focus, and timeframe, ensuring to include a specific number or percentage.\")\n",
    "\n",
    "    model_config = ConfigDict(\n",
    "        json_schema_extra={\n",
    "            \"examples\": [\n",
    "                {\n",
    "                    \"verb\": \"boost\",\n",
    "                    \"quantitative_metric\": \"15%\",\n",
    "                    \"qualitative_metric\": \"enhance user engagement\",\n",
    "                    \"focus\": \"mobile app usage\",\n",
    "                    \"timeframe\": \"in the next quarter\",\n",
    "                    \"goal\": \"Boost user engagement by 15% in mobile app usage in the next quarter.\"\n",
    "                },\n",
    "                {\n",
    "           \",\n",
    "                    \"focus\": \"investment funding\",\n",
    "                    \"timeframe\": \"within 12 months\",\n",
    "                    \"goal\": \"Raise $1 million in investment funding within 12 months.\"\n",
    "                },\n",
    "                {\n",
    "                    \"verb\": \"improve\",\n",
    "                    \"quantitative_metric\": \"50%\",\n",
    "                    \"qualitative_metric\": \"improve response rate\",\n",
    "                    \"focus\": \"customer support\",\n",
    "                    \"timeframe\": \"by mid-year\",\n",
    "                    \"goal\": \"Improve response rate by 50% in customer support by mid-year.\"\n",
    "                },\n",
    "                {\n",
    "                    \"verb\": \"expand\",\n",
    "                    \"quantitative_metric\": \"10 new cities\",\n",
    "                    \"qualitative_metric\": \"expand market presence\",\n",
    "                    \"focus\": \"urban areas\",\n",
    "                    \"timeframe\": \"over the next 18 months\",\n",
    "                    \"goal\": \"Expand market presence to 10 new cities in urban areas over the next 18 months.\"\n",
    "                }\n",
    "            ]\n",
    "        }\n",
    "    )\n"
   ]
  },
  {
   "cell_type": "code",
   "execution_count": 19,
   "metadata": {},
   "outputs": [],
   "source": [
    "class ComplexGoals(BaseModel):\n",
    "    \"\"\"Given a context, extract and infer a list of goals\"\"\"\n",
    "\n",
    "    goals: list[ComplexGoal]"
   ]
  },
  {
   "cell_type": "code",
   "execution_count": 26,
   "metadata": {},
   "outputs": [],
   "source": [
    "class ComplexGoals(BaseModel):\n",
    "    \"\"\"Given a context, extract and infer a {min_length} list of goals\"\"\"\n",
    "\n",
    "    goals: conlist(ComplexGoal, min_length=5) # type: ignore"
   ]
  },
  {
   "cell_type": "code",
   "execution_count": 28,
   "metadata": {},
   "outputs": [],
   "source": [
    "# wrapper\n",
    "\n",
    "def wrapper(system_prompt: str | None = None, user_context: str | list = None, response_model: BaseModel | None = None, max_retries: int = 3):\n",
    "    \"\"\"Wrapper function to generate LLM completion\"\"\"\n",
    "    messages = []\n",
    "    if system_prompt is not None:\n",
    "        messages.append({\"role\": \"system\", \"content\": system_prompt})\n",
    "    if user_context is not None:\n",
    "        messages.append({\"role\": \"user\", \"content\": user_context})\n",
    "\n",
    "    completion = client.chat.completions.create(\n",
    "        model=GPT_MODEL,\n",
    "        response_model=response_model,\n",
    "        max_retries=max_retries,\n",
    "        messages=messages\n",
    "    )\n",
    "    return completion\n",
    "\n"
   ]
  },
  {
   "cell_type": "code",
   "execution_count": 17,
   "metadata": {},
   "outputs": [],
   "source": [
    "context = \"\"\"\n",
    "I have lots of youtube podcasts I want to watch. But I don't have the time to do so. \n",
    "Would be great if I can just put in a url or video id and get back a summary with all the main points.\n",
    "Saves me so much time.\n",
    "\"\"\""
   ]
  },
  {
   "cell_type": "code",
   "execution_count": 35,
   "metadata": {},
   "outputs": [],
   "source": [
    "context = \"\"\"\n",
    "!!! tip \"Hypothesis\"\n",
    "\n",
    "    A dedicated platform team accelerates AI value creation and capture for B2B SaaS companies\n",
    "\n",
    "Innovations are adopted quickly if they are easy to make, easy to use, fit existing patterns, and have visible results. Generative AI has abruptly changed the innovation landscape by acclerating the utility and availability of AI products and services.\n",
    "\n",
    "While the vast majority of consumers and companies do not make technology, they are actively searching for value in this space. Consequently, technology companies are trying to implement AI features that create value for their customers as fast as possible.\n",
    "\n",
    "The long tail of B2B SaaS companies have a unique set of challenges. They have enterprise client traction and skilled development teams but lack extra capital and in-house AI/ML resources, making it hard to bootstrap production grade AI capabilities and features.\n",
    "\n",
    "A dedicated platform team helps B2B SaaS companies stay competitive by quickly matching competitors advances and meeting client expectations for new experiences.\n",
    "\n",
    "This team drives innovation, positioning the company as a leader in AI, and reduces risk by providing systemic infrastructure and resources to prevent project failures.\n",
    "\n",
    "It specifically helps:\n",
    "\n",
    "1. Product teams launch AI features\n",
    "2. Business teams automate workflows\n",
    "3. Leaders unify AI strategy, standards and voice\n",
    "4. Clients adopt third-party AI products\n",
    "5. Staff upskill AI knowledge and skills\n",
    "\n",
    "Ultimately, platform teams shape organisational culture, ensuring that responsibility and enthusiasm for AI are shared by everyone, not just a small group of evangelists.\n",
    "\n",
    "Good platform teams function as skunkworks, rapid execution engines, and guardrails, ensuring the company quickly and safely integrates AI across all operations in order to benefit clients and establish AI leadership amongst competitors.\n",
    "\n",
    "## Ideas\n",
    "\n",
    "When bootstrapping platform teams, only speed and outcomes matter. Fast, cheap value creation determines whether platforms continue or are killed off because resources are limited, track records nonexistent and executive patience is thin.\n",
    "\n",
    "Additionally, platform teams must act for all functions and departments. Specifically, they should tackle cross disciplinary needs - at least product, design and engineering to start with - and champion fairness - equitable platform access to all products - as foundational principles for success.\n",
    "\n",
    "In this environment, prioritisation is king and selecting the correct set of valuable and feasible initiatives to iterate on and build company confidence is crucial.\n",
    "\n",
    "The list below sequences and categorises a core set of ideas for new platform teams to tackle.\n",
    "\"\"\""
   ]
  },
  {
   "cell_type": "code",
   "execution_count": 36,
   "metadata": {},
   "outputs": [
    {
     "data": {
      "text/plain": [
       "SimpleGoal(action='Establish', target='dedicated platform team for B2B SaaS companies', goal='Establish a dedicated platform team')"
      ]
     },
     "execution_count": 36,
     "metadata": {},
     "output_type": "execute_result"
    }
   ],
   "source": [
    "response = wrapper(user_context=context, response_model=SimpleGoal)\n",
    "response"
   ]
  },
  {
   "cell_type": "code",
   "execution_count": 37,
   "metadata": {},
   "outputs": [
    {
     "name": "stdout",
     "output_type": "stream",
     "text": [
      "No. of goals is : 5\n"
     ]
    },
    {
     "data": {
      "text/plain": [
       "[SimpleGoal(action='Launch', target='AI features', goal='Launch AI features quickly'),\n",
       " SimpleGoal(action='Automate', target='workflows', goal='Automate workflows efficiently'),\n",
       " SimpleGoal(action='Unify', target='AI strategy', goal='Unify AI strategy effectively'),\n",
       " SimpleGoal(action='Adopt', target='third-party AI products', goal='Adopt third-party AI products'),\n",
       " SimpleGoal(action='Upskill', target='staff', goal='Upskill staff in AI')]"
      ]
     },
     "execution_count": 37,
     "metadata": {},
     "output_type": "execute_result"
    }
   ],
   "source": [
    "response = wrapper(user_context=context, response_model=SimpleGoals)\n",
    "print(f\"No. of goals is : {len(response.goals)}\")\n",
    "response.goals"
   ]
  },
  {
   "cell_type": "code",
   "execution_count": 38,
   "metadata": {},
   "outputs": [
    {
     "data": {
      "text/plain": [
       "'Launch 5 AI features for the product teams of B2B SaaS companies within 6 months.'"
      ]
     },
     "execution_count": 38,
     "metadata": {},
     "output_type": "execute_result"
    }
   ],
   "source": [
    "response = wrapper(user_context=context, response_model=ComplexGoal)\n",
    "response.goal"
   ]
  },
  {
   "cell_type": "code",
   "execution_count": 39,
   "metadata": {},
   "outputs": [
    {
     "name": "stdout",
     "output_type": "stream",
     "text": [
      "Launch 5 new AI features for product teams within the next 6 months.\n",
      "Automate 50% of business workflows for business teams within 1 year.\n",
      "Unify 100% of AI strategy, standards, and voice for leadership within 2 years.\n",
      "Facilitate 30% adoption of third-party AI products by clients within 1 year.\n",
      "Improve 75% of staff AI knowledge and skills within 18 months.\n"
     ]
    }
   ],
   "source": [
    "response = wrapper(user_context=context, response_model=ComplexGoals)\n",
    "for goal in response.goals:\n",
    "    print(goal.goal)"
   ]
  }
 ],
 "metadata": {
  "kernelspec": {
   "display_name": ".venv",
   "language": "python",
   "name": "python3"
  },
  "language_info": {
   "codemirror_mode": {
    "name": "ipython",
    "version": 3
   },
   "file_extension": ".py",
   "mimetype": "text/x-python",
   "name": "python",
   "nbconvert_exporter": "python",
   "pygments_lexer": "ipython3",
   "version": "3.11.5"
  }
 },
 "nbformat": 4,
 "nbformat_minor": 2
}
