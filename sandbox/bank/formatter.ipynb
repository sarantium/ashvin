{
 "cells": [
  {
   "cell_type": "code",
   "execution_count": 1,
   "metadata": {},
   "outputs": [],
   "source": [
    "import streamlit as st\n",
    "import openai\n",
    "import pandas as pd\n",
    "import sqlite3\n",
    "from dotenv import load_dotenv\n",
    "from pprint import pprint as pp\n",
    "from pathlib import Path\n",
    "import os"
   ]
  },
  {
   "cell_type": "code",
   "execution_count": 2,
   "metadata": {},
   "outputs": [],
   "source": [
    "# Load API keys\n",
    "dotenv_path = Path(r\"C:\\Storage\\python_projects\\ashvin\\.env\")\n",
    "load_dotenv(dotenv_path=dotenv_path)\n",
    "\n",
    "OPENAI_API_KEY = os.getenv(\"OPENAI_API_KEY\")\n",
    "openai.api_key = OPENAI_API_KEY\n",
    "GPT_MODEL = \"gpt-4-1106-preview\" \n",
    "\n",
    "# \"gpt-3.5-turbo\""
   ]
  },
  {
   "cell_type": "code",
   "execution_count": 3,
   "metadata": {},
   "outputs": [],
   "source": [
    "def format_idea(idea):\n",
    "    instruction = \"\"\"\n",
    "    take the input and convert it exactly to the format of the prompt that follows. \n",
    "    Do do not add any additional explanation. \n",
    "    Be precise and concise and compress the output to 25 words or less : \"\"\"\n",
    "\n",
    "    format_prompts = [\n",
    "        \"As a [specific user type], I want to [an action], so that [benefit/value]\",\n",
    "        \"How might we [achieve a particular outcome or improvement] for [user/persona] so that [benefit/value]\",\n",
    "        \"When [situation] I want to [motivation] so I can [expected outcome].\",\n",
    "        \"We believe [hypothesis] results in [outcome/value] because of [single specific reason].\",\n",
    "    ]\n",
    "\n",
    "    formatted_ideas = []\n",
    "\n",
    "    for prompt in format_prompts:\n",
    "        try:\n",
    "            response = openai.chat.completions.create(\n",
    "                model=GPT_MODEL,\n",
    "                messages=[\n",
    "                    {\"role\": \"system\", \"content\": instruction},\n",
    "                    {\"role\": \"system\", \"content\": prompt},\n",
    "                    {\"role\": \"user\", \"content\": idea},\n",
    "                ],\n",
    "            )\n",
    "            assistant_response = response.choices[0].message.content\n",
    "            formatted_ideas.append(assistant_response)\n",
    "        except Exception as e:\n",
    "            st.error(f\"An error occurred: {e}\")\n",
    "            return None\n",
    "\n",
    "    return formatted_ideas"
   ]
  },
  {
   "cell_type": "code",
   "execution_count": 4,
   "metadata": {},
   "outputs": [],
   "source": [
    "output = format_idea"
   ]
  },
  {
   "cell_type": "code",
   "execution_count": 5,
   "metadata": {},
   "outputs": [],
   "source": [
    "idea_1 = \"customisable microitinerary that can take a set of social media photos as source and help plan the social experience, including things like matching outfits to places and going to trending cafes and other activities\""
   ]
  },
  {
   "cell_type": "code",
   "execution_count": 6,
   "metadata": {},
   "outputs": [
    {
     "data": {
      "text/plain": [
       "['As a fashion-forward traveler, I want a microitinerary based on social media photos for planning visits and outfits, to enhance my social experience.',\n",
       " 'How might we create a customizable micro-itinerary for social media enthusiasts that uses their photos to enhance their social outings with trending spots and fashion advice?',\n",
       " 'When planning a social outing, I want a customisable microitinerary based on social media photos so I can experience trendy places with matched outfits.',\n",
       " 'We believe a customizable microitinerary based on social media photos results in personalized social experiences because it aligns activities with current online trends.']"
      ]
     },
     "execution_count": 6,
     "metadata": {},
     "output_type": "execute_result"
    }
   ],
   "source": [
    "output(idea_1)"
   ]
  },
  {
   "cell_type": "code",
   "execution_count": 7,
   "metadata": {},
   "outputs": [],
   "source": [
    "idea_2 = \"a rimworld type simulation for business scenarios so that clients can gather slice of life data about pain points, opportunities and solutions\""
   ]
  },
  {
   "cell_type": "code",
   "execution_count": 8,
   "metadata": {},
   "outputs": [
    {
     "data": {
      "text/plain": [
       "['As a business analyst, I want a RimWorld-style simulation tool, so that clients can explore pain points, opportunities, and solutions in a lifelike environment.',\n",
       " 'How might we create a RimWorld-type simulation for business clients so that they can gather data about pain points, opportunities, and solutions?',\n",
       " 'When simulating business scenarios, I want a RimWorld-type simulation so I can gather data on pain points, opportunities, and solutions for clients.',\n",
       " 'We believe a RimWorld-type simulation for business scenarios results in valuable slice-of-life data because it illuminates client pain points, opportunities, and solutions.']"
      ]
     },
     "execution_count": 8,
     "metadata": {},
     "output_type": "execute_result"
    }
   ],
   "source": [
    "output(idea_2)"
   ]
  }
 ],
 "metadata": {
  "kernelspec": {
   "display_name": ".venv",
   "language": "python",
   "name": "python3"
  },
  "language_info": {
   "codemirror_mode": {
    "name": "ipython",
    "version": 3
   },
   "file_extension": ".py",
   "mimetype": "text/x-python",
   "name": "python",
   "nbconvert_exporter": "python",
   "pygments_lexer": "ipython3",
   "version": "3.11.5"
  }
 },
 "nbformat": 4,
 "nbformat_minor": 2
}
