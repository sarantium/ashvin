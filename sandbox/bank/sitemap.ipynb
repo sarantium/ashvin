{
 "cells": [
  {
   "cell_type": "code",
   "execution_count": null,
   "metadata": {},
   "outputs": [],
   "source": [
    "import requests\n",
    "from bs4 import BeautifulSoup\n",
    "import pandas as pd\n",
    "\n",
    "def extract_urls_from_sitemap(sitemap_url):\n",
    "    \"\"\"\n",
    "    Extracts and cleans URLs from a sitemap or a sitemap index.\n",
    "    \"\"\"\n",
    "    try:\n",
    "        response = requests.get(sitemap_url)\n",
    "        response.raise_for_status()\n",
    "    except requests.RequestException as e:\n",
    "        print(f\"Error fetching URL {sitemap_url}: {e}\")\n",
    "        return []\n",
    "\n",
    "    if 'xml' not in response.headers.get('Content-Type', ''):\n",
    "        print(f\"Unsupported content type for URL {sitemap_url}\")\n",
    "        return []\n",
    "\n",
    "    soup = BeautifulSoup(response.content, 'lxml-xml')\n",
    "    urls = []\n",
    "\n",
    "    if soup.find('sitemapindex'):\n",
    "        sitemaps = soup.find_all('sitemap')\n",
    "        for sitemap in sitemaps:\n",
    "            sitemap_url = sitemap.find('loc').text.strip()  # Clean the URL\n",
    "            print(f'Found sitemap index: {sitemap_url}. Adding URLs to list')\n",
    "            urls.extend(extract_urls_from_sitemap(sitemap_url))\n",
    "    elif soup.find('urlset'):\n",
    "        print(f'No nested indexes found. Adding URLs to list')\n",
    "        locs = soup.find_all('loc')\n",
    "        urls = [loc.text.strip() for loc in locs]  # Clean each URL\n",
    "\n",
    "    return urls\n",
    "\n",
    "\n",
    "def create_dataframe(urls):\n",
    "    \"\"\"\n",
    "    Creates a DataFrame from a list of URLs.\n",
    "    \"\"\"\n",
    "    df = pd.DataFrame(urls, columns=['URL'])\n",
    "    return df\n",
    "\n",
    "def get_urls_from_robots_or_sitemap(url):\n",
    "    \"\"\"\n",
    "    Determines whether the given URL is a robots.txt or a sitemap, and acts accordingly.\n",
    "    \"\"\"\n",
    "    if url.endswith('robots.txt'):\n",
    "        # Handling robots.txt\n",
    "        try:\n",
    "            response = requests.get(url)\n",
    "            response.raise_for_status()\n",
    "        except requests.RequestException as e:\n",
    "            print(f\"Error fetching URL {url}: {e}\")\n",
    "            return pd.DataFrame(columns=['URL'])\n",
    "\n",
    "        # Extract all lines containing 'Sitemap:'\n",
    "        sitemap_urls = [line.split(': ')[1].strip() for line in response.text.split('\\n') if line.startswith('Sitemap:')]\n",
    "\n",
    "        all_urls = []\n",
    "        for sitemap_url in sitemap_urls:\n",
    "            all_urls.extend(extract_urls_from_sitemap(sitemap_url))\n",
    "\n",
    "    else:\n",
    "        # Handling sitemap URL\n",
    "        all_urls = extract_urls_from_sitemap(url)\n",
    "\n",
    "    df = create_dataframe(all_urls)\n",
    "    return df\n",
    "\n",
    "# Example usage\n",
    "url = 'https://www.askviable.com/robots.txt'  # Replace with either a robots.txt or a sitemap URL\n",
    "urls_df = get_urls_from_robots_or_sitemap(url)\n",
    "\n",
    "# Display the dataframe\n",
    "print(urls_df.head())\n"
   ]
  },
  {
   "cell_type": "code",
   "execution_count": null,
   "metadata": {},
   "outputs": [],
   "source": [
    "list_of_urls = urls_df['URL'].tolist()\n"
   ]
  },
  {
   "cell_type": "code",
   "execution_count": null,
   "metadata": {},
   "outputs": [],
   "source": [
    "list_of_urls"
   ]
  },
  {
   "cell_type": "code",
   "execution_count": null,
   "metadata": {},
   "outputs": [],
   "source": [
    "from pathlib import Path\n",
    "import openai\n",
    "from dotenv import load_dotenv\n",
    "import os"
   ]
  },
  {
   "cell_type": "code",
   "execution_count": null,
   "metadata": {},
   "outputs": [],
   "source": [
    " # Load API keys\n",
    "dotenv_path = Path(r\"C:\\Storage\\python_projects\\ashvin\\.env\")\n",
    "load_dotenv(dotenv_path=dotenv_path)\n",
    "\n",
    "OPENAI_API_KEY = os.getenv(\"OPENAI_API_KEY\")\n",
    "openai.api_key = OPENAI_API_KEY\n",
    "GPT_MODEL = \"gpt-4-1106-preview\""
   ]
  },
  {
   "cell_type": "code",
   "execution_count": null,
   "metadata": {},
   "outputs": [],
   "source": [
    "# making it work just for a rando url\n",
    "\n",
    "list_of_urls = [\"https://www.askviable.com/about-viable\"]"
   ]
  },
  {
   "cell_type": "code",
   "execution_count": null,
   "metadata": {},
   "outputs": [],
   "source": [
    "list_of_urls"
   ]
  },
  {
   "cell_type": "code",
   "execution_count": null,
   "metadata": {},
   "outputs": [],
   "source": [
    "# SimpleWebPageReader\n",
    "\n",
    "from llama_index import VectorStoreIndex, download_loader\n",
    "\n",
    "SimpleWebPageReader = download_loader(\"SimpleWebPageReader\")\n",
    "\n",
    "loader = SimpleWebPageReader()\n",
    "documents = loader.load_data(urls=list_of_urls)\n",
    "index = VectorStoreIndex.from_documents(documents, show_progress=True)"
   ]
  },
  {
   "cell_type": "code",
   "execution_count": null,
   "metadata": {},
   "outputs": [],
   "source": [
    "query_engine = index.as_query_engine()"
   ]
  },
  {
   "cell_type": "code",
   "execution_count": null,
   "metadata": {},
   "outputs": [],
   "source": [
    "response = query_engine.query(\"what is the single most burning pain point viable addresses? An elevator pitch\")\n",
    "response.response"
   ]
  }
 ],
 "metadata": {
  "kernelspec": {
   "display_name": ".venv",
   "language": "python",
   "name": "python3"
  },
  "language_info": {
   "codemirror_mode": {
    "name": "ipython",
    "version": 3
   },
   "file_extension": ".py",
   "mimetype": "text/x-python",
   "name": "python",
   "nbconvert_exporter": "python",
   "pygments_lexer": "ipython3",
   "version": "3.11.5"
  }
 },
 "nbformat": 4,
 "nbformat_minor": 2
}
