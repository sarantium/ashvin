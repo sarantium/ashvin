{
 "cells": [
  {
   "cell_type": "code",
   "execution_count": 1,
   "metadata": {},
   "outputs": [],
   "source": [
    "from sqlalchemy import create_engine, Column, Integer, String\n",
    "from sqlalchemy.ext.declarative import declarative_base\n",
    "from sqlalchemy.orm import sessionmaker"
   ]
  },
  {
   "cell_type": "code",
   "execution_count": 2,
   "metadata": {},
   "outputs": [
    {
     "name": "stderr",
     "output_type": "stream",
     "text": [
      "C:\\Users\\ashvi\\AppData\\Local\\Temp\\ipykernel_21264\\1540353415.py:5: MovedIn20Warning: Deprecated API features detected! These feature(s) are not compatible with SQLAlchemy 2.0. To prevent incompatible upgrades prior to updating applications, ensure requirements files are pinned to \"sqlalchemy<2.0\". Set environment variable SQLALCHEMY_WARN_20=1 to show all deprecation warnings.  Set environment variable SQLALCHEMY_SILENCE_UBER_WARNING=1 to silence this message. (Background on SQLAlchemy 2.0 at: https://sqlalche.me/e/b8d9)\n",
      "  Base = declarative_base()\n"
     ]
    }
   ],
   "source": [
    "# create/connect to db\n",
    "engine = create_engine('sqlite:///ideas.db', echo=True)\n",
    "\n",
    "# declare the base\n",
    "Base = declarative_base()\n",
    "\n",
    "# define the idea table model\n",
    "class Idea(Base):\n",
    "    __tablename__ = 'ideas'\n",
    "\n",
    "    id = Column(Integer, primary_key=True)\n",
    "    title = Column(String, nullable=False)\n",
    "    notes = Column(String)\n",
    "    impact = Column(Integer)\n",
    "    confidence = Column(Integer)\n",
    "    ease = Column(Integer)\n",
    "\n",
    "    @property\n",
    "    def ice_score(self):\n",
    "        return (self.impact or 0) * (self.confidence or 0) * (self.ease or 0)\n"
   ]
  },
  {
   "cell_type": "code",
   "execution_count": 3,
   "metadata": {},
   "outputs": [
    {
     "name": "stdout",
     "output_type": "stream",
     "text": [
      "2023-12-19 16:42:58,166 INFO sqlalchemy.engine.Engine BEGIN (implicit)\n",
      "2023-12-19 16:42:58,167 INFO sqlalchemy.engine.Engine PRAGMA main.table_info(\"ideas\")\n",
      "2023-12-19 16:42:58,168 INFO sqlalchemy.engine.Engine [raw sql] ()\n",
      "2023-12-19 16:42:58,169 INFO sqlalchemy.engine.Engine PRAGMA temp.table_info(\"ideas\")\n",
      "2023-12-19 16:42:58,170 INFO sqlalchemy.engine.Engine [raw sql] ()\n",
      "2023-12-19 16:42:58,173 INFO sqlalchemy.engine.Engine \n",
      "CREATE TABLE ideas (\n",
      "\tid INTEGER NOT NULL, \n",
      "\ttitle VARCHAR NOT NULL, \n",
      "\tnotes VARCHAR, \n",
      "\timpact INTEGER, \n",
      "\tconfidence INTEGER, \n",
      "\tease INTEGER, \n",
      "\tPRIMARY KEY (id)\n",
      ")\n",
      "\n",
      "\n",
      "2023-12-19 16:42:58,173 INFO sqlalchemy.engine.Engine [no key 0.00081s] ()\n",
      "2023-12-19 16:42:58,191 INFO sqlalchemy.engine.Engine COMMIT\n"
     ]
    }
   ],
   "source": [
    "# Create table if needed\n",
    "Base.metadata.create_all(engine)\n",
    "\n",
    "# Set up sessionmaker\n",
    "Session = sessionmaker(bind=engine)\n"
   ]
  },
  {
   "cell_type": "code",
   "execution_count": 4,
   "metadata": {},
   "outputs": [],
   "source": [
    "# CRUD functions\n",
    "\n",
    "def add_idea(title: str, notes: str, impact: int, confidence: int, ease: int) -> Idea:\n",
    "    session = Session()\n",
    "    new_idea = Idea(title=title, notes=notes, impact=impact, confidence=confidence, ease=ease)\n",
    "    session.add(new_idea)\n",
    "    session.commit()\n",
    "    return new_idea\n",
    "\n",
    "def get_idea(idea_id: int) -> Idea:\n",
    "    session = Session()\n",
    "    idea = session.query(Idea).filter(Idea.id == idea_id).first()\n",
    "    return idea\n",
    "\n",
    "def update_idea(idea_id: int, title: str = None, notes: str = None, impact: int = None, confidence: int = None, ease: int = None) -> Idea:\n",
    "    session = Session()\n",
    "    idea = session.query(Idea).filter(Idea.id == idea_id).first()\n",
    "    if idea:\n",
    "        if title is not None:\n",
    "            idea.title = title\n",
    "        if notes is not None:\n",
    "            idea.notes = notes\n",
    "        if impact is not None:\n",
    "            idea.impact = impact\n",
    "        if confidence is not None:\n",
    "            idea.confidence = confidence\n",
    "        if ease is not None:\n",
    "            idea.ease = ease\n",
    "        session.commit()\n",
    "    return idea\n",
    "\n",
    "def delete_idea(idea_id: int) -> bool:\n",
    "    session = Session()\n",
    "    idea = session.query(Idea).filter(Idea.id == idea_id).first()\n",
    "    if idea:\n",
    "        session.delete(idea)\n",
    "        session.commit()\n",
    "        return True\n",
    "    return False\n",
    "\n"
   ]
  },
  {
   "cell_type": "code",
   "execution_count": 5,
   "metadata": {},
   "outputs": [
    {
     "name": "stdout",
     "output_type": "stream",
     "text": [
      "2023-12-19 16:43:11,016 INFO sqlalchemy.engine.Engine BEGIN (implicit)\n",
      "2023-12-19 16:43:11,016 INFO sqlalchemy.engine.Engine INSERT INTO ideas (title, notes, impact, confidence, ease) VALUES (?, ?, ?, ?, ?)\n",
      "2023-12-19 16:43:11,016 INFO sqlalchemy.engine.Engine [generated in 0.00059s] ('Innovative Idea', 'A note on the innovative idea', 8, 7, 9)\n",
      "2023-12-19 16:43:11,016 INFO sqlalchemy.engine.Engine COMMIT\n"
     ]
    },
    {
     "ename": "DetachedInstanceError",
     "evalue": "Instance <Idea at 0x14a087d5190> is not bound to a Session; attribute refresh operation cannot proceed (Background on this error at: https://sqlalche.me/e/14/bhk3)",
     "output_type": "error",
     "traceback": [
      "\u001b[1;31m---------------------------------------------------------------------------\u001b[0m",
      "\u001b[1;31mDetachedInstanceError\u001b[0m                     Traceback (most recent call last)",
      "Cell \u001b[1;32mIn[5], line 3\u001b[0m\n\u001b[0;32m      1\u001b[0m \u001b[38;5;66;03m# 1. Create (Add) a new idea\u001b[39;00m\n\u001b[0;32m      2\u001b[0m new_idea \u001b[38;5;241m=\u001b[39m add_idea(title\u001b[38;5;241m=\u001b[39m\u001b[38;5;124m\"\u001b[39m\u001b[38;5;124mInnovative Idea\u001b[39m\u001b[38;5;124m\"\u001b[39m, notes\u001b[38;5;241m=\u001b[39m\u001b[38;5;124m\"\u001b[39m\u001b[38;5;124mA note on the innovative idea\u001b[39m\u001b[38;5;124m\"\u001b[39m, impact\u001b[38;5;241m=\u001b[39m\u001b[38;5;241m8\u001b[39m, confidence\u001b[38;5;241m=\u001b[39m\u001b[38;5;241m7\u001b[39m, ease\u001b[38;5;241m=\u001b[39m\u001b[38;5;241m9\u001b[39m)\n\u001b[1;32m----> 3\u001b[0m \u001b[38;5;28mprint\u001b[39m(\u001b[38;5;124mf\u001b[39m\u001b[38;5;124m\"\u001b[39m\u001b[38;5;124mAdded Idea: \u001b[39m\u001b[38;5;132;01m{\u001b[39;00m\u001b[43mnew_idea\u001b[49m\u001b[38;5;241;43m.\u001b[39;49m\u001b[43mtitle\u001b[49m\u001b[38;5;132;01m}\u001b[39;00m\u001b[38;5;124m, ICE Score: \u001b[39m\u001b[38;5;132;01m{\u001b[39;00mnew_idea\u001b[38;5;241m.\u001b[39mice_score\u001b[38;5;132;01m}\u001b[39;00m\u001b[38;5;124m\"\u001b[39m)\n",
      "File \u001b[1;32mc:\\Storage\\python_projects\\ashvin\\.venv\\Lib\\site-packages\\sqlalchemy\\orm\\attributes.py:487\u001b[0m, in \u001b[0;36mInstrumentedAttribute.__get__\u001b[1;34m(self, instance, owner)\u001b[0m\n\u001b[0;32m    482\u001b[0m \u001b[38;5;28;01mexcept\u001b[39;00m \u001b[38;5;167;01mAttributeError\u001b[39;00m \u001b[38;5;28;01mas\u001b[39;00m err:\n\u001b[0;32m    483\u001b[0m     util\u001b[38;5;241m.\u001b[39mraise_(\n\u001b[0;32m    484\u001b[0m         orm_exc\u001b[38;5;241m.\u001b[39mUnmappedInstanceError(instance),\n\u001b[0;32m    485\u001b[0m         replace_context\u001b[38;5;241m=\u001b[39merr,\n\u001b[0;32m    486\u001b[0m     )\n\u001b[1;32m--> 487\u001b[0m \u001b[38;5;28;01mreturn\u001b[39;00m \u001b[38;5;28;43mself\u001b[39;49m\u001b[38;5;241;43m.\u001b[39;49m\u001b[43mimpl\u001b[49m\u001b[38;5;241;43m.\u001b[39;49m\u001b[43mget\u001b[49m\u001b[43m(\u001b[49m\u001b[43mstate\u001b[49m\u001b[43m,\u001b[49m\u001b[43m \u001b[49m\u001b[43mdict_\u001b[49m\u001b[43m)\u001b[49m\n",
      "File \u001b[1;32mc:\\Storage\\python_projects\\ashvin\\.venv\\Lib\\site-packages\\sqlalchemy\\orm\\attributes.py:959\u001b[0m, in \u001b[0;36mAttributeImpl.get\u001b[1;34m(self, state, dict_, passive)\u001b[0m\n\u001b[0;32m    956\u001b[0m \u001b[38;5;28;01mif\u001b[39;00m \u001b[38;5;129;01mnot\u001b[39;00m passive \u001b[38;5;241m&\u001b[39m CALLABLES_OK:\n\u001b[0;32m    957\u001b[0m     \u001b[38;5;28;01mreturn\u001b[39;00m PASSIVE_NO_RESULT\n\u001b[1;32m--> 959\u001b[0m value \u001b[38;5;241m=\u001b[39m \u001b[38;5;28;43mself\u001b[39;49m\u001b[38;5;241;43m.\u001b[39;49m\u001b[43m_fire_loader_callables\u001b[49m\u001b[43m(\u001b[49m\u001b[43mstate\u001b[49m\u001b[43m,\u001b[49m\u001b[43m \u001b[49m\u001b[43mkey\u001b[49m\u001b[43m,\u001b[49m\u001b[43m \u001b[49m\u001b[43mpassive\u001b[49m\u001b[43m)\u001b[49m\n\u001b[0;32m    961\u001b[0m \u001b[38;5;28;01mif\u001b[39;00m value \u001b[38;5;129;01mis\u001b[39;00m PASSIVE_NO_RESULT \u001b[38;5;129;01mor\u001b[39;00m value \u001b[38;5;129;01mis\u001b[39;00m NO_VALUE:\n\u001b[0;32m    962\u001b[0m     \u001b[38;5;28;01mreturn\u001b[39;00m value\n",
      "File \u001b[1;32mc:\\Storage\\python_projects\\ashvin\\.venv\\Lib\\site-packages\\sqlalchemy\\orm\\attributes.py:990\u001b[0m, in \u001b[0;36mAttributeImpl._fire_loader_callables\u001b[1;34m(self, state, key, passive)\u001b[0m\n\u001b[0;32m    984\u001b[0m \u001b[38;5;28;01mdef\u001b[39;00m \u001b[38;5;21m_fire_loader_callables\u001b[39m(\u001b[38;5;28mself\u001b[39m, state, key, passive):\n\u001b[0;32m    985\u001b[0m     \u001b[38;5;28;01mif\u001b[39;00m (\n\u001b[0;32m    986\u001b[0m         \u001b[38;5;28mself\u001b[39m\u001b[38;5;241m.\u001b[39maccepts_scalar_loader\n\u001b[0;32m    987\u001b[0m         \u001b[38;5;129;01mand\u001b[39;00m \u001b[38;5;28mself\u001b[39m\u001b[38;5;241m.\u001b[39mload_on_unexpire\n\u001b[0;32m    988\u001b[0m         \u001b[38;5;129;01mand\u001b[39;00m key \u001b[38;5;129;01min\u001b[39;00m state\u001b[38;5;241m.\u001b[39mexpired_attributes\n\u001b[0;32m    989\u001b[0m     ):\n\u001b[1;32m--> 990\u001b[0m         \u001b[38;5;28;01mreturn\u001b[39;00m \u001b[43mstate\u001b[49m\u001b[38;5;241;43m.\u001b[39;49m\u001b[43m_load_expired\u001b[49m\u001b[43m(\u001b[49m\u001b[43mstate\u001b[49m\u001b[43m,\u001b[49m\u001b[43m \u001b[49m\u001b[43mpassive\u001b[49m\u001b[43m)\u001b[49m\n\u001b[0;32m    991\u001b[0m     \u001b[38;5;28;01melif\u001b[39;00m key \u001b[38;5;129;01min\u001b[39;00m state\u001b[38;5;241m.\u001b[39mcallables:\n\u001b[0;32m    992\u001b[0m         callable_ \u001b[38;5;241m=\u001b[39m state\u001b[38;5;241m.\u001b[39mcallables[key]\n",
      "File \u001b[1;32mc:\\Storage\\python_projects\\ashvin\\.venv\\Lib\\site-packages\\sqlalchemy\\orm\\state.py:712\u001b[0m, in \u001b[0;36mInstanceState._load_expired\u001b[1;34m(self, state, passive)\u001b[0m\n\u001b[0;32m    705\u001b[0m toload \u001b[38;5;241m=\u001b[39m \u001b[38;5;28mself\u001b[39m\u001b[38;5;241m.\u001b[39mexpired_attributes\u001b[38;5;241m.\u001b[39mintersection(\u001b[38;5;28mself\u001b[39m\u001b[38;5;241m.\u001b[39munmodified)\n\u001b[0;32m    706\u001b[0m toload \u001b[38;5;241m=\u001b[39m toload\u001b[38;5;241m.\u001b[39mdifference(\n\u001b[0;32m    707\u001b[0m     attr\n\u001b[0;32m    708\u001b[0m     \u001b[38;5;28;01mfor\u001b[39;00m attr \u001b[38;5;129;01min\u001b[39;00m toload\n\u001b[0;32m    709\u001b[0m     \u001b[38;5;28;01mif\u001b[39;00m \u001b[38;5;129;01mnot\u001b[39;00m \u001b[38;5;28mself\u001b[39m\u001b[38;5;241m.\u001b[39mmanager[attr]\u001b[38;5;241m.\u001b[39mimpl\u001b[38;5;241m.\u001b[39mload_on_unexpire\n\u001b[0;32m    710\u001b[0m )\n\u001b[1;32m--> 712\u001b[0m \u001b[38;5;28;43mself\u001b[39;49m\u001b[38;5;241;43m.\u001b[39;49m\u001b[43mmanager\u001b[49m\u001b[38;5;241;43m.\u001b[39;49m\u001b[43mexpired_attribute_loader\u001b[49m\u001b[43m(\u001b[49m\u001b[38;5;28;43mself\u001b[39;49m\u001b[43m,\u001b[49m\u001b[43m \u001b[49m\u001b[43mtoload\u001b[49m\u001b[43m,\u001b[49m\u001b[43m \u001b[49m\u001b[43mpassive\u001b[49m\u001b[43m)\u001b[49m\n\u001b[0;32m    714\u001b[0m \u001b[38;5;66;03m# if the loader failed, or this\u001b[39;00m\n\u001b[0;32m    715\u001b[0m \u001b[38;5;66;03m# instance state didn't have an identity,\u001b[39;00m\n\u001b[0;32m    716\u001b[0m \u001b[38;5;66;03m# the attributes still might be in the callables\u001b[39;00m\n\u001b[0;32m    717\u001b[0m \u001b[38;5;66;03m# dict.  ensure they are removed.\u001b[39;00m\n\u001b[0;32m    718\u001b[0m \u001b[38;5;28mself\u001b[39m\u001b[38;5;241m.\u001b[39mexpired_attributes\u001b[38;5;241m.\u001b[39mclear()\n",
      "File \u001b[1;32mc:\\Storage\\python_projects\\ashvin\\.venv\\Lib\\site-packages\\sqlalchemy\\orm\\loading.py:1369\u001b[0m, in \u001b[0;36mload_scalar_attributes\u001b[1;34m(mapper, state, attribute_names, passive)\u001b[0m\n\u001b[0;32m   1367\u001b[0m session \u001b[38;5;241m=\u001b[39m state\u001b[38;5;241m.\u001b[39msession\n\u001b[0;32m   1368\u001b[0m \u001b[38;5;28;01mif\u001b[39;00m \u001b[38;5;129;01mnot\u001b[39;00m session:\n\u001b[1;32m-> 1369\u001b[0m     \u001b[38;5;28;01mraise\u001b[39;00m orm_exc\u001b[38;5;241m.\u001b[39mDetachedInstanceError(\n\u001b[0;32m   1370\u001b[0m         \u001b[38;5;124m\"\u001b[39m\u001b[38;5;124mInstance \u001b[39m\u001b[38;5;132;01m%s\u001b[39;00m\u001b[38;5;124m is not bound to a Session; \u001b[39m\u001b[38;5;124m\"\u001b[39m\n\u001b[0;32m   1371\u001b[0m         \u001b[38;5;124m\"\u001b[39m\u001b[38;5;124mattribute refresh operation cannot proceed\u001b[39m\u001b[38;5;124m\"\u001b[39m \u001b[38;5;241m%\u001b[39m (state_str(state))\n\u001b[0;32m   1372\u001b[0m     )\n\u001b[0;32m   1374\u001b[0m has_key \u001b[38;5;241m=\u001b[39m \u001b[38;5;28mbool\u001b[39m(state\u001b[38;5;241m.\u001b[39mkey)\n\u001b[0;32m   1376\u001b[0m result \u001b[38;5;241m=\u001b[39m \u001b[38;5;28;01mFalse\u001b[39;00m\n",
      "\u001b[1;31mDetachedInstanceError\u001b[0m: Instance <Idea at 0x14a087d5190> is not bound to a Session; attribute refresh operation cannot proceed (Background on this error at: https://sqlalche.me/e/14/bhk3)"
     ]
    }
   ],
   "source": [
    "# 1. Create (Add) a new idea\n",
    "new_idea = add_idea(title=\"Innovative Idea\", notes=\"A note on the innovative idea\", impact=8, confidence=7, ease=9)\n",
    "print(f\"Added Idea: {new_idea.title}, ICE Score: {new_idea.ice_score}\")\n",
    "\n",
    "\n"
   ]
  },
  {
   "cell_type": "code",
   "execution_count": null,
   "metadata": {},
   "outputs": [],
   "source": [
    "# Assuming the ID of the newly added idea is needed for further operations\n",
    "new_idea_id = new_idea.id\n",
    "\n",
    "# 2. Read (Retrieve) the idea by its ID\n",
    "retrieved_idea = get_idea(new_idea_id)\n",
    "if retrieved_idea:\n",
    "    print(f\"Retrieved Idea: {retrieved_idea.title}, ICE Score: {retrieved_idea.ice_score}\")\n",
    "else:\n",
    "    print(\"Idea not found.\")\n",
    "\n",
    "# 3. Update the idea - let's change the title and impact\n",
    "updated_idea = update_idea(new_idea_id, title=\"Updated Idea Title\", impact=10)\n",
    "if updated_idea:\n",
    "    print(f\"Updated Idea: {updated_idea.title}, New ICE Score: {updated_idea.ice_score}\")\n",
    "else:\n",
    "    print(\"Idea not found or update failed.\")\n",
    "\n",
    "# 4. Delete the idea\n",
    "if delete_idea(new_idea_id):\n",
    "    print(f\"Idea with ID {new_idea_id} deleted successfully.\")\n",
    "else:\n",
    "    print(f\"Failed to delete the idea with ID {new_idea_id}.\")\n"
   ]
  }
 ],
 "metadata": {
  "kernelspec": {
   "display_name": ".venv",
   "language": "python",
   "name": "python3"
  },
  "language_info": {
   "codemirror_mode": {
    "name": "ipython",
    "version": 3
   },
   "file_extension": ".py",
   "mimetype": "text/x-python",
   "name": "python",
   "nbconvert_exporter": "python",
   "pygments_lexer": "ipython3",
   "version": "3.11.5"
  }
 },
 "nbformat": 4,
 "nbformat_minor": 2
}
