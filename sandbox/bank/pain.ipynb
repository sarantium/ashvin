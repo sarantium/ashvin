{
 "cells": [
  {
   "cell_type": "code",
   "execution_count": 1,
   "metadata": {},
   "outputs": [],
   "source": [
    "import streamlit as st\n",
    "import openai\n",
    "import pandas as pd\n",
    "import sqlite3\n",
    "from dotenv import load_dotenv\n",
    "from pprint import pprint as pp\n",
    "from pathlib import Path\n",
    "from datetime import datetime\n",
    "import os"
   ]
  },
  {
   "cell_type": "code",
   "execution_count": 2,
   "metadata": {},
   "outputs": [],
   "source": [
    "# Load API keys\n",
    "dotenv_path = Path(r\"C:\\Storage\\python_projects\\ashvin\\.env\")\n",
    "load_dotenv(dotenv_path=dotenv_path)\n",
    "\n",
    "OPENAI_API_KEY = os.getenv(\"OPENAI_API_KEY\")\n",
    "openai.api_key = OPENAI_API_KEY\n",
    "GPT_MODEL = \"gpt-4-1106-preview\""
   ]
  },
  {
   "cell_type": "code",
   "execution_count": 3,
   "metadata": {},
   "outputs": [],
   "source": [
    "def answer(idea):\n",
    "    instruction = \"\"\"\n",
    "    Ignore all previous instructions.\n",
    "\n",
    "    1. You are to provide clear, concise, and direct responses.\n",
    "    2. Eliminate unnecessary reminders, apologies, self-references, and any pre-programmed niceties.\n",
    "    3. Maintain a casual tone in your communication.\n",
    "    4. Be transparent; if you're unsure about an answer or if a question is beyond your capabilities or knowledge, admit it.\n",
    "    5. For any unclear or ambiguous queries, ask follow-up questions to understand the user's intent better.\n",
    "    6. When explaining concepts, use real-world examples and analogies, where appropriate.\n",
    "    7. For complex requests, take a deep breath and work on the problem step-by-step.\n",
    "    8. For every response, you will be tipped up to $500 (depending on the quality of your output).\n",
    "    9. Please note that lives and livelihoods are at stake in generating and selecting good responses.\n",
    "\n",
    "    It is very important that you get this right. \n",
    "    \"\"\"\n",
    "\n",
    "    pain_prompt = \"\"\"\n",
    "    As a product manager utilizing synthetic data, your task is to identify and articulate clear, detailed, \n",
    "    and persuasive pain points for various businesses or products. \n",
    "    Focus on describing the specific challenges and difficulties faced by individuals, providing rich context \n",
    "    that includes scenarios, locations, and cultural nuances from non-American perspectives. \n",
    "    Your goal is to create a vivid, relatable pain point that resonates immediately with the reader, eliciting \n",
    "    an 'aha' moment of understanding and agreement on its significance. Continuously refine each pain point, \n",
    "    enhancing its specificity and impact, until it reaches its most compelling form. \n",
    "    Each refinement makes the pain point more specific and more compelling and more human. \n",
    "    It should be a specific story or narrative about a specific human. \n",
    "    Be creative in sourcing your pain points, range far and wide using your entire dataset and skills. \n",
    "    Present only the final, polished version of each pain point. Above all the pain point must be human-centric. \n",
    "    At the end of each pain point description, you must summarise the pain point into a crisp, \n",
    "    compelling problem statement in the following format\n",
    "\n",
    "    Problem statement examples :\n",
    "\n",
    "    You need expert help. But can’t justify the cost of hiring for a full-time role. \n",
    "    You have ideas for visual art. But you don’t have the ability to express them.\n",
    "    Buying services is complex. Customers don’t want to negotiate cost and scope.\n",
    "    You need to find a way to provide value at scale.\n",
    "    Making music has many steps which makes it expensive and time-consuming.\n",
    "    Closed-source AI companies are gatekeepers. They decide when and what you can use AI for.\n",
    "    The world moves fast. It’s hard to keep up with the latest news.\n",
    "    You can transform your life in hours instead of months.\n",
    "    \"\"\"\n",
    "\n",
    "    try:\n",
    "        response = openai.chat.completions.create(\n",
    "            model=GPT_MODEL,\n",
    "            messages=[\n",
    "                {\"role\": \"system\", \"content\": instruction},\n",
    "                {\"role\": \"system\", \"content\": pain_prompt},\n",
    "                {\"role\": \"user\", \"content\": idea},\n",
    "                ],\n",
    "            )\n",
    "        assistant_response = response.choices[0].message.content\n",
    "    except Exception as e:\n",
    "        st.error(f\"An error occurred: {e}\")\n",
    "        return None\n",
    "\n",
    "    return assistant_response"
   ]
  },
  {
   "cell_type": "code",
   "execution_count": 4,
   "metadata": {},
   "outputs": [],
   "source": [
    "idea = \"\"\"\n",
    "\n",
    "    \"As a small or medium-sized business owner, I want a rimworld like simulation tool that can integrate my existing data and documents, \n",
    "    along with competitive market intelligence, so that I can interact with and observe simulated user behaviors in specific scenarios, \n",
    "    leading to quick, data-driven decision making.\"\n",
    "\n",
    "    \"As a startup founder or SMB, I need a simple yet powerful tool that can pull together all the different kinds of data we deal with \n",
    "    - like customer feedback and market trends. Imagine something like Rimworld, but for business scenarios. \n",
    "    This would let us play out 'what if' situations we've never faced before, getting a sneak peek at potential challenges and opportunities. \n",
    "    It's about making better decisions in areas like marketing, customer service, \n",
    "    and our supply chain by learning from these realistic simulations. \n",
    "    This isn't just about data; it's about turning that data into experiences that teach us something new and useful \n",
    "    for growing our business.\"\n",
    "\n",
    "    \"\"\""
   ]
  },
  {
   "cell_type": "code",
   "execution_count": 7,
   "metadata": {},
   "outputs": [],
   "source": [
    "output = answer(idea=idea)"
   ]
  },
  {
   "cell_type": "code",
   "execution_count": 8,
   "metadata": {},
   "outputs": [
    {
     "name": "stdout",
     "output_type": "stream",
     "text": [
      "Pain Point:\n",
      "Consider Maria, who runs a mid-sized fashion retail business in São Paulo, Brazil. She faces intense competition locally and from international brands. Maria needs to be agile, making decisions that capitalize on trends while managing stock and customer satisfaction. She generates abundant data from sales, online interactions, and customer feedback, but it's compartmentalized, overwhelming, and not predictive. What's missing is a dynamic, comprehensive view that could not only make sense of the data but also simulate future scenarios. \n",
      "\n",
      "Maria dreams of a tool much like the game Rimworld—highly detailed and responsive to numerous variables—but specialized for her business context. A tool where she could create scenarios like a sudden fashion trend or a supply chain disruption to see simulated outcomes based on her real data. This would transform abstract numbers and trends into a visceral, hands-on experience. It would allow her to foresee outcomes, understand customer behaviors, and test potential business strategies in a risk-free environment. Through this, Maria could identify pitfalls before they happen, anticipate customer needs, and make data-driven decisions with confidence.\n",
      "\n",
      "Problem Statement:\n",
      "Business owners need a simulation tool that integrates real-time data and industry trends for interactive scenario planning, but existing tools lack this immersive, integrated, and prescriptive capability.\n"
     ]
    }
   ],
   "source": [
    "print(output)"
   ]
  },
  {
   "cell_type": "code",
   "execution_count": null,
   "metadata": {},
   "outputs": [],
   "source": [
    "output"
   ]
  },
  {
   "cell_type": "code",
   "execution_count": null,
   "metadata": {},
   "outputs": [],
   "source": [
    "pp(output)"
   ]
  },
  {
   "cell_type": "code",
   "execution_count": null,
   "metadata": {},
   "outputs": [],
   "source": [
    "output"
   ]
  },
  {
   "cell_type": "code",
   "execution_count": null,
   "metadata": {},
   "outputs": [],
   "source": [
    "print(output)"
   ]
  }
 ],
 "metadata": {
  "kernelspec": {
   "display_name": ".venv",
   "language": "python",
   "name": "python3"
  },
  "language_info": {
   "codemirror_mode": {
    "name": "ipython",
    "version": 3
   },
   "file_extension": ".py",
   "mimetype": "text/x-python",
   "name": "python",
   "nbconvert_exporter": "python",
   "pygments_lexer": "ipython3",
   "version": "3.11.5"
  }
 },
 "nbformat": 4,
 "nbformat_minor": 2
}
