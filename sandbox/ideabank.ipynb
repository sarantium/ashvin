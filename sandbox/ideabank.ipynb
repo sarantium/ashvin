{
 "cells": [
  {
   "cell_type": "code",
   "execution_count": 1,
   "metadata": {},
   "outputs": [],
   "source": [
    "import sqlite3"
   ]
  },
  {
   "cell_type": "code",
   "execution_count": 2,
   "metadata": {},
   "outputs": [
    {
     "name": "stdout",
     "output_type": "stream",
     "text": [
      "Ideas table created successfully with simplified ICE score calculation.\n"
     ]
    }
   ],
   "source": [
    "# Connect to the SQLite database\n",
    "conn = sqlite3.connect('ideas.db')\n",
    "\n",
    "# Create a cursor object\n",
    "cursor = conn.cursor()\n",
    "\n",
    "# SQL command to create the 'ideas' table with simplified ICE score calculation\n",
    "create_ideas_table_query = '''\n",
    "CREATE TABLE IF NOT EXISTS ideas (\n",
    "    id INTEGER PRIMARY KEY AUTOINCREMENT,\n",
    "    title TEXT NOT NULL,\n",
    "    notes TEXT,\n",
    "    impact INTEGER,\n",
    "    confidence INTEGER,\n",
    "    ease INTEGER,\n",
    "    ice_score AS (impact * confidence * ease) STORED\n",
    ");\n",
    "'''\n",
    "\n",
    "try:\n",
    "    # Execute the SQL command\n",
    "    cursor.execute(create_ideas_table_query)\n",
    "\n",
    "    # Commit the changes\n",
    "    conn.commit()\n",
    "    print(\"Ideas table created successfully with simplified ICE score calculation.\")\n",
    "\n",
    "except Exception as e:\n",
    "    print(f\"An error occurred: {e}\")\n",
    "\n",
    "finally:\n",
    "    # Close the database connection\n",
    "    conn.close()\n"
   ]
  }
 ],
 "metadata": {
  "kernelspec": {
   "display_name": ".venv",
   "language": "python",
   "name": "python3"
  },
  "language_info": {
   "codemirror_mode": {
    "name": "ipython",
    "version": 3
   },
   "file_extension": ".py",
   "mimetype": "text/x-python",
   "name": "python",
   "nbconvert_exporter": "python",
   "pygments_lexer": "ipython3",
   "version": "3.11.5"
  }
 },
 "nbformat": 4,
 "nbformat_minor": 2
}
