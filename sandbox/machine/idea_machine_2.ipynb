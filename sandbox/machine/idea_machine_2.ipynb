{
 "cells": [
  {
   "cell_type": "code",
   "execution_count": 1,
   "metadata": {},
   "outputs": [],
   "source": [
    "import sqlite3\n",
    "import openai\n",
    "import pandas as pd\n",
    "import os\n",
    "from dotenv import load_dotenv\n",
    "from pathlib import Path"
   ]
  },
  {
   "cell_type": "code",
   "execution_count": 2,
   "metadata": {},
   "outputs": [],
   "source": [
    "# Load API keys\n",
    "dotenv_path = Path(r\"C:\\Storage\\python_projects\\ashvin\\.env\")\n",
    "load_dotenv(dotenv_path=dotenv_path)\n",
    "\n",
    "OPENAI_API_KEY = os.getenv(\"OPENAI_API_KEY\")\n",
    "openai.api_key = OPENAI_API_KEY\n",
    "GPT_MODEL = \"gpt-4-1106-preview\"\n",
    "client = openai.OpenAI()"
   ]
  },
  {
   "cell_type": "code",
   "execution_count": 3,
   "metadata": {},
   "outputs": [],
   "source": [
    "SYSTEM_PROMPT_2 = \"You are an experienced business, product and feature idea generator\""
   ]
  },
  {
   "cell_type": "code",
   "execution_count": 4,
   "metadata": {},
   "outputs": [],
   "source": [
    "def generate_and_store_ideas(num_ideas, category, creativity_level, max_length):\n",
    "    ideas_list = []\n",
    "    prompt = input(\"Enter your prompt: \")\n",
    "\n",
    "    for i in range(num_ideas):\n",
    "        response = client.chat.completions.create(\n",
    "            model=GPT_MODEL,\n",
    "            messages=[\n",
    "                {\"role\": \"system\", \"content\": SYSTEM_PROMPT_2},\n",
    "                {\"role\": \"user\", \"content\": prompt},\n",
    "            ],\n",
    "            max_tokens=max_length,\n",
    "            temperature=creativity_level\n",
    "        )\n",
    "\n",
    "        idea = response.choices[0].message.content.strip()\n",
    "        ideas_list.append((i+1, category, prompt, idea, len(idea.split()), creativity_level))\n",
    "    \n",
    "    ideas_df = pd.DataFrame(ideas_list, columns=['id', 'category', 'prompt', 'idea', 'length', 'creativity_level'])\n",
    "    return ideas_df\n"
   ]
  },
  {
   "cell_type": "code",
   "execution_count": 5,
   "metadata": {},
   "outputs": [],
   "source": [
    "def user_interface():\n",
    "    category = input(\"Enter idea category: \")\n",
    "    creativity_level = float(input(\"Enter creativity level (0-1): \"))\n",
    "    max_length = int(input(\"Enter max word length: \"))\n",
    "    num_ideas = int(input(\"How many ideas? \"))\n",
    "\n",
    "    # Store the DataFrame in a global variable or return it\n",
    "    global ideas_df\n",
    "    ideas_df = generate_and_store_ideas(num_ideas, category, creativity_level, max_length)\n"
   ]
  },
  {
   "cell_type": "code",
   "execution_count": 6,
   "metadata": {},
   "outputs": [],
   "source": [
    "def display_specific_columns(df, columns):\n",
    "    pd.set_option('display.max_colwidth', None)\n",
    "    if all(col in df.columns for col in columns):\n",
    "        print(df[columns])\n",
    "    else:\n",
    "        print(\"One or more specified columns do not exist in the DataFrame.\")\n"
   ]
  },
  {
   "cell_type": "code",
   "execution_count": 7,
   "metadata": {},
   "outputs": [],
   "source": [
    "# Run the user interface\n",
    "user_interface()\n",
    "\n",
    "\n"
   ]
  },
  {
   "cell_type": "code",
   "execution_count": null,
   "metadata": {},
   "outputs": [],
   "source": [
    "# Display only 'id' and 'idea' columns\n",
    "display_specific_columns(ideas_df, ['id', 'idea'])"
   ]
  },
  {
   "cell_type": "code",
   "execution_count": 8,
   "metadata": {},
   "outputs": [
    {
     "name": "stdout",
     "output_type": "stream",
     "text": [
      "Idea 1: Feature Idea: Personalized Multicultural Story Weaver\n",
      "\n",
      "Overview: \n",
      "The Personalized Multicultural Story Weaver is a feature that generates bespoke stories for Third Culture Kids (TCK), Cross-Culture Kids (CCK), and multilingual children by integrating elements from various cultures, languages, and personal experiences. This feature aims to provide an inclusive storytelling experience that resonates with the diverse backgrounds of children in the diaspora, helping them to connect with their multifaceted identities and to feel represented in the stories\n",
      "\n",
      "Idea 2: Feature Idea: Personalized Multilingual Story Generator with Cultural Heritage Exploration\n",
      "\n",
      "Name: Heritage Tales\n",
      "\n",
      "Description: The Heritage Tales feature within the AI-powered children's storybook app is specifically designed for Third Culture Kids (TCK), Cross-Culture Kids (CCK), and multilingual children living in the diaspora. It leverages AI to generate personalized stories that connect young readers with their cultural backgrounds and promote multilingual literacy.\n",
      "\n",
      "Key Features:\n",
      "\n",
      "1. **Cultural Profile Customization**:\n",
      "   -\n",
      "\n",
      "Idea 3: Feature Idea: *\"Cultural Tapestry Tales\"*\n",
      "\n",
      "**Description:**\n",
      "The \"Cultural Tapestry Tales\" feature is designed for an AI-powered children's storybook app focused on serving the unique needs of third culture kids (TCK), cross culture kids (CCK), and multilingual children in the diaspora. This feature offers personalized story experiences that weave together elements from the child's own cultural background(s) with those of the country they live in.\n",
      "\n",
      "**Key Components:**\n",
      "\n",
      "1.\n",
      "\n"
     ]
    }
   ],
   "source": [
    "def print_ideas(df):\n",
    "    if 'idea' in df.columns:\n",
    "        for index, row in df.iterrows():\n",
    "            print(f\"Idea {index + 1}: {row['idea']}\\n\")\n",
    "    else:\n",
    "        print(\"The column 'idea' does not exist in the DataFrame.\")\n",
    "\n",
    "# Example usage\n",
    "print_ideas(ideas_df)\n"
   ]
  }
 ],
 "metadata": {
  "kernelspec": {
   "display_name": ".venv",
   "language": "python",
   "name": "python3"
  },
  "language_info": {
   "codemirror_mode": {
    "name": "ipython",
    "version": 3
   },
   "file_extension": ".py",
   "mimetype": "text/x-python",
   "name": "python",
   "nbconvert_exporter": "python",
   "pygments_lexer": "ipython3",
   "version": "3.11.5"
  }
 },
 "nbformat": 4,
 "nbformat_minor": 2
}
