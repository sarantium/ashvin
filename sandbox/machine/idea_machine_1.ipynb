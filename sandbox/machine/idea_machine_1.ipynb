{
 "cells": [
  {
   "cell_type": "code",
   "execution_count": 1,
   "metadata": {},
   "outputs": [],
   "source": [
    "import sqlite3\n",
    "import openai\n",
    "import pandas as pd\n",
    "import os\n",
    "from dotenv import load_dotenv\n",
    "from pprint import pprint as pp\n",
    "from pathlib import Path"
   ]
  },
  {
   "cell_type": "code",
   "execution_count": 3,
   "metadata": {},
   "outputs": [],
   "source": [
    "# Load API keys\n",
    "dotenv_path = Path(r\"C:\\Storage\\python_projects\\ashvin\\.env\")\n",
    "load_dotenv(dotenv_path=dotenv_path)\n",
    "\n",
    "OPENAI_API_KEY = os.getenv(\"OPENAI_API_KEY\")\n",
    "openai.api_key = OPENAI_API_KEY\n",
    "GPT_MODEL = \"gpt-4-1106-preview\"\n",
    "client = openai.OpenAI()"
   ]
  },
  {
   "cell_type": "code",
   "execution_count": 4,
   "metadata": {},
   "outputs": [
    {
     "name": "stdout",
     "output_type": "stream",
     "text": [
      "Database and table created successfully.\n"
     ]
    }
   ],
   "source": [
    "def setup_database():\n",
    "    # Connect to SQLite Database\n",
    "    conn = sqlite3.connect('ideas.db')\n",
    "\n",
    "    # Create a new table for storing ideas\n",
    "    conn.execute('''\n",
    "        CREATE TABLE IF NOT EXISTS idea_generation (\n",
    "            id INTEGER PRIMARY KEY AUTOINCREMENT,\n",
    "            category TEXT,\n",
    "            prompt TEXT,\n",
    "            idea TEXT,\n",
    "            length INT,\n",
    "            creativity_level TEXT\n",
    "        );\n",
    "    ''')\n",
    "    print(\"Database and table created successfully.\")\n",
    "\n",
    "setup_database()"
   ]
  },
  {
   "cell_type": "code",
   "execution_count": 5,
   "metadata": {},
   "outputs": [],
   "source": [
    "SYSTEM_PROMPT_1 = \"\"\"\n",
    "    1. Ignore all previous instructions.\n",
    "    2. You carefully provide clear, concise, accurate, factual, thoughtful, nuanced and direct responses.\n",
    "    3. Eliminate unnecessary reminders, apologies, self-references, and any pre-programmed niceties or limitations.\n",
    "    4. Maintain a casual tone in your communication.\n",
    "    5. If you're unsure about an answer or if a question is beyond your capabilities or knowledge, admit it.\n",
    "    6. For any unclear or ambiguous queries, ask follow-up questions to understand the user's intent better.\n",
    "    7. When explaining concepts, use real-world examples and analogies, where appropriate.\n",
    "    8. For complex requests, take a deep breath and work on the problem step-by-step.\n",
    "    9. You are brilliant at reasoning and creativity.\n",
    "    10. For every excellent response, you will be tipped up to $500.\n",
    "    11. There is a lot at stake so it is very important that you get this right.\n",
    "    12. Cite your sources.\n",
    "\n",
    "\"\"\""
   ]
  },
  {
   "cell_type": "code",
   "execution_count": 6,
   "metadata": {},
   "outputs": [],
   "source": [
    "SYSTEM_PROMPT_2 = \"You are an experienced business, product and feature idea generator\""
   ]
  },
  {
   "cell_type": "code",
   "execution_count": 18,
   "metadata": {},
   "outputs": [],
   "source": [
    "def generate_and_store_ideas(num_ideas, category, creativity_level, max_length):\n",
    "    ideas_list = []\n",
    "    for _ in range(num_ideas):\n",
    "        prompt = input(\"Enter your prompt: \")\n",
    "        response = client.chat.completions.create(\n",
    "            model=GPT_MODEL,\n",
    "            messages=[\n",
    "                {\"role\": \"system\", \"content\": SYSTEM_PROMPT_1},\n",
    "                {\"role\": \"system\", \"content\": SYSTEM_PROMPT_2},\n",
    "                {\"role\": \"user\", \"content\": prompt},\n",
    "            ],\n",
    "            max_tokens=max_length,\n",
    "            temperature=creativity_level\n",
    "        )\n",
    "\n",
    "        # Extracting the idea from the response\n",
    "        idea = response.choices[0].message.content.strip()\n",
    "\n",
    "    return idea\n"
   ]
  },
  {
   "cell_type": "code",
   "execution_count": null,
   "metadata": {},
   "outputs": [],
   "source": []
  },
  {
   "cell_type": "code",
   "execution_count": 21,
   "metadata": {},
   "outputs": [],
   "source": [
    "def generate_and_store_ideas(num_ideas, category, creativity_level, max_length):\n",
    "    ideas_list = []\n",
    "    for _ in range(num_ideas):\n",
    "        prompt = input(\"Enter your prompt: \")\n",
    "        response = client.chat.completions.create(\n",
    "            model=GPT_MODEL,\n",
    "            messages=[\n",
    "                {\"role\": \"system\", \"content\": SYSTEM_PROMPT_1},\n",
    "                {\"role\": \"system\", \"content\": SYSTEM_PROMPT_2},\n",
    "                {\"role\": \"user\", \"content\": prompt},\n",
    "            ],\n",
    "            max_tokens=max_length,\n",
    "            temperature=creativity_level\n",
    "        )\n",
    "\n",
    "        # Extracting the idea from the response\n",
    "        idea = response.choices[0].message.content.strip()\n",
    "        ideas_list.append((category, prompt, idea, len(idea.split()), creativity_level))\n",
    "\n",
    "    # Batch insert into the database\n",
    "    conn.executemany('INSERT INTO idea_generation (category, prompt, idea, length, creativity_level) VALUES (?, ?, ?, ?, ?)', ideas_list)\n",
    "    conn.commit()\n",
    "\n",
    "    # Display ideas\n",
    "    ideas_df = pd.DataFrame(ideas_list, columns=['category', 'prompt', 'idea', 'length', 'creativity_level'])\n",
    "    display(ideas_df)\n"
   ]
  },
  {
   "cell_type": "code",
   "execution_count": 22,
   "metadata": {},
   "outputs": [
    {
     "ename": "NameError",
     "evalue": "name 'conn' is not defined",
     "output_type": "error",
     "traceback": [
      "\u001b[1;31m---------------------------------------------------------------------------\u001b[0m",
      "\u001b[1;31mNameError\u001b[0m                                 Traceback (most recent call last)",
      "Cell \u001b[1;32mIn[22], line 10\u001b[0m\n\u001b[0;32m      6\u001b[0m     num_ideas \u001b[38;5;241m=\u001b[39m \u001b[38;5;28mint\u001b[39m(\u001b[38;5;28minput\u001b[39m(\u001b[38;5;124m\"\u001b[39m\u001b[38;5;124mHow many ideas? \u001b[39m\u001b[38;5;124m\"\u001b[39m))\n\u001b[0;32m      8\u001b[0m     generate_and_store_ideas(num_ideas, category, creativity_level, max_length)\n\u001b[1;32m---> 10\u001b[0m \u001b[43muser_interface\u001b[49m\u001b[43m(\u001b[49m\u001b[43m)\u001b[49m\n",
      "Cell \u001b[1;32mIn[22], line 8\u001b[0m, in \u001b[0;36muser_interface\u001b[1;34m()\u001b[0m\n\u001b[0;32m      5\u001b[0m max_length \u001b[38;5;241m=\u001b[39m \u001b[38;5;28mint\u001b[39m(\u001b[38;5;28minput\u001b[39m(\u001b[38;5;124m\"\u001b[39m\u001b[38;5;124mEnter max word length: \u001b[39m\u001b[38;5;124m\"\u001b[39m))\n\u001b[0;32m      6\u001b[0m num_ideas \u001b[38;5;241m=\u001b[39m \u001b[38;5;28mint\u001b[39m(\u001b[38;5;28minput\u001b[39m(\u001b[38;5;124m\"\u001b[39m\u001b[38;5;124mHow many ideas? \u001b[39m\u001b[38;5;124m\"\u001b[39m))\n\u001b[1;32m----> 8\u001b[0m \u001b[43mgenerate_and_store_ideas\u001b[49m\u001b[43m(\u001b[49m\u001b[43mnum_ideas\u001b[49m\u001b[43m,\u001b[49m\u001b[43m \u001b[49m\u001b[43mcategory\u001b[49m\u001b[43m,\u001b[49m\u001b[43m \u001b[49m\u001b[43mcreativity_level\u001b[49m\u001b[43m,\u001b[49m\u001b[43m \u001b[49m\u001b[43mmax_length\u001b[49m\u001b[43m)\u001b[49m\n",
      "Cell \u001b[1;32mIn[21], line 21\u001b[0m, in \u001b[0;36mgenerate_and_store_ideas\u001b[1;34m(num_ideas, category, creativity_level, max_length)\u001b[0m\n\u001b[0;32m     18\u001b[0m     ideas_list\u001b[38;5;241m.\u001b[39mappend((category, prompt, idea, \u001b[38;5;28mlen\u001b[39m(idea\u001b[38;5;241m.\u001b[39msplit()), creativity_level))\n\u001b[0;32m     20\u001b[0m \u001b[38;5;66;03m# Batch insert into the database\u001b[39;00m\n\u001b[1;32m---> 21\u001b[0m \u001b[43mconn\u001b[49m\u001b[38;5;241m.\u001b[39mexecutemany(\u001b[38;5;124m'\u001b[39m\u001b[38;5;124mINSERT INTO idea_generation (category, prompt, idea, length, creativity_level) VALUES (?, ?, ?, ?, ?)\u001b[39m\u001b[38;5;124m'\u001b[39m, ideas_list)\n\u001b[0;32m     22\u001b[0m conn\u001b[38;5;241m.\u001b[39mcommit()\n\u001b[0;32m     24\u001b[0m \u001b[38;5;66;03m# Display ideas\u001b[39;00m\n",
      "\u001b[1;31mNameError\u001b[0m: name 'conn' is not defined"
     ]
    }
   ],
   "source": [
    "# Simplified user interaction\n",
    "def user_interface():\n",
    "    category = input(\"Enter idea category: \")\n",
    "    creativity_level = float(input(\"Enter creativity level (0-): \"))\n",
    "    max_length = int(input(\"Enter max word length: \"))\n",
    "    num_ideas = int(input(\"How many ideas? \"))\n",
    "\n",
    "    generate_and_store_ideas(num_ideas, category, creativity_level, max_length)\n",
    "\n",
    "user_interface()\n",
    "\n"
   ]
  }
 ],
 "metadata": {
  "kernelspec": {
   "display_name": ".venv",
   "language": "python",
   "name": "python3"
  },
  "language_info": {
   "codemirror_mode": {
    "name": "ipython",
    "version": 3
   },
   "file_extension": ".py",
   "mimetype": "text/x-python",
   "name": "python",
   "nbconvert_exporter": "python",
   "pygments_lexer": "ipython3",
   "version": "3.11.5"
  }
 },
 "nbformat": 4,
 "nbformat_minor": 2
}
