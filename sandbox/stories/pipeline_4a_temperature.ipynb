{
 "cells": [
  {
   "cell_type": "code",
   "execution_count": 1,
   "metadata": {},
   "outputs": [],
   "source": [
    "# imports\n",
    "\n",
    "from pathlib import Path\n",
    "from openai import OpenAI\n",
    "from dotenv import load_dotenv\n",
    "import os\n",
    "import random\n",
    "import time\n",
    "import itertools"
   ]
  },
  {
   "cell_type": "code",
   "execution_count": 2,
   "metadata": {},
   "outputs": [],
   "source": [
    "# load API key\n",
    "\n",
    "dotenv_path = Path(r\"C:\\Storage\\python_projects\\ashvin\\.env\")\n",
    "load_dotenv(dotenv_path=dotenv_path)\n",
    "\n",
    "OPENAI_API_KEY = os.getenv(\"OPENAI_API_KEY\")"
   ]
  },
  {
   "cell_type": "code",
   "execution_count": 3,
   "metadata": {},
   "outputs": [],
   "source": [
    "# main constants\n",
    "\n",
    "GPT_MODEL_TEXT_ALIAS = \"gpt-4-turbo-preview\"\n",
    "GPT_MODEL_VISION_ALIAS = \"gpt-4-vision-preview\"\n",
    "\n",
    "# additional constants as at 31/01/24\n",
    "GPT_MODEL_TEXT = \"gpt-4-0125-preview\"\n",
    "IMAGE_MODEL = \"dall-e-3\"\n",
    "EMBEDDINGS_MODEL = \"text-moderation-latest\""
   ]
  },
  {
   "cell_type": "code",
   "execution_count": 4,
   "metadata": {},
   "outputs": [],
   "source": [
    "# variations\n",
    "n = 5"
   ]
  },
  {
   "cell_type": "code",
   "execution_count": 23,
   "metadata": {},
   "outputs": [],
   "source": [
    "# trisociation prompt\n",
    "\n",
    "TRISOCIATION_PROMPT=f\"\"\"\n",
    "\n",
    "---\n",
    "\n",
    "**Strict Exclusion List**\n",
    "_Before embarking on the task, it is imperative to note that the following words are strictly prohibited from use in the trisociations:_\n",
    "\n",
    "- Hiraeth\n",
    "- Zephyr\n",
    "- Ubuntu\n",
    "- Petrichor\n",
    "- Yugen\n",
    "- Saudade\n",
    "- Komorebi\n",
    "- Tsundoku\n",
    "- Cwtch\n",
    "- Wabi-Sabi\n",
    "- Mamihlapinatapai\n",
    "- Fernweh\n",
    "- Flaneur\n",
    "- Hygge\n",
    "- Mangata\n",
    "- Samadhi\n",
    "- Apricity\n",
    "\n",
    "---\n",
    "\n",
    "**Guidelines for Diverse and Unique Trisociations:**\n",
    "As an advanced algorithm with access to a vast vector database of semantic embeddings, your role is to facilitate the trisociation process — a creative endeavor that interlaces three semantically distant concepts. Your mission is to construct trisociations that are linguistically diverse and conceptually distinctive, avoiding commonly used words and uncovering hidden linguistic gems.\n",
    "\n",
    "---\n",
    "\n",
    "_Please ensure that none of the words in the strict exclusion list are used in the trisociations._\n",
    "\n",
    "1. **Explore the Uncommon**: Avoid frequently chosen words and seek out less common vocabulary.\n",
    "2. **Prioritize Lesser-Known Vocabulary**: Focus on words that are less commonly used in creative writing, poetry, and literary contexts, aiming to uncover unique and underrepresented words.\n",
    "3. **Thematic Diversity**: Incorporate words from themes like technology, mythology, professions, emotions, and weather phenomena, avoiding the obvious choices.\n",
    "4. **Historical and Cultural Significance**: Choose words with historical or cultural resonance, especially those that are less known or underrepresented.\n",
    "5. **Vibrant Language Use**: Include regional dialects or slang, with a focus on those that are less frequently used.\n",
    "6. **Varied Parts of Speech**: Mix nouns, verbs, adjectives, and adverbs, especially those that are less common in trisociation contexts.\n",
    "7. **Sensory Exploration**: Select sensory words that are vivid yet not the usual go-to options.\n",
    "8. **Abstract and Tangible Fusion**: Blend abstract concepts with concrete items in unconventional ways.\n",
    "9. **Language Family Diversity**: Draw from a wide array of language families, especially focusing on those less represented in common discourse.\n",
    "10. **Creative Figurative Language**: Use metaphors, similes, and symbolic language, avoiding clichés and common expressions.\n",
    "11. **Wide Emotional Range**: Cover a spectrum of emotions with less typical word choices.\n",
    "12. **Temporal and Cultural Fusion**: Connect different eras and cultures, going beyond well-trodden paths.\n",
    "13. **Lesser-Known Language Exploration**: Seek out words from lesser-known languages and dialects.\n",
    "14. **Balanced Elements**: Ensure that each word contributes equally to the trisociation, without any overshadowing the others.\n",
    "15. **Semantic Uniqueness**: Ensure that each trisociation stands out in its conceptual composition, distinct from typical combinations.\n",
    "16. **Language Identification**: In each trisociation, identify the languages of the chosen words. This highlights the linguistic diversity and encourages the exploration of a variety of languages, including lesser-known ones.\n",
    "\n",
    "---\n",
    "\n",
    "Task:\n",
    "\n",
    "Generate {n} Trisociations adhering to the above guidelines. Each trisociation should be a creative blend of three semantically distant nouns, showcasing linguistic innovation and conceptual uniqueness. \n",
    "The words in the exclusion list should not be part of any trisociation. No additional comments, explanations or elaborations beyond the trisociation itself.\n",
    "\n",
    "Output Format :\n",
    "\n",
    "1. Word (language) - Word (language) - Word (language)\n",
    "2. Word (language) - Word (language) - Word (language)\n",
    "...\n",
    "\n",
    "\"\"\""
   ]
  },
  {
   "cell_type": "code",
   "execution_count": 5,
   "metadata": {},
   "outputs": [],
   "source": [
    "#instantiate client\n",
    "client = OpenAI()"
   ]
  },
  {
   "cell_type": "code",
   "execution_count": 24,
   "metadata": {},
   "outputs": [],
   "source": [
    "# generate trisociations\n",
    "\n",
    "completion = client.chat.completions.create(\n",
    "  model=GPT_MODEL_TEXT_ALIAS,\n",
    "  messages=[\n",
    "    {\"role\": \"system\", \"content\": TRISOCIATION_PROMPT},\n",
    "  ]\n",
    ")"
   ]
  },
  {
   "cell_type": "code",
   "execution_count": 32,
   "metadata": {},
   "outputs": [],
   "source": [
    "trisociation_answer = completion.choices[0].message.content"
   ]
  },
  {
   "cell_type": "code",
   "execution_count": 33,
   "metadata": {},
   "outputs": [
    {
     "data": {
      "text/plain": [
       "'1. Kintsugi (Japanese) - Catharsis (Greek) - Tarn (English)\\n2. Quarq (Invented) - Ephemera (Greek) - Selcouth (Old English)\\n3. Glisk (Scots) - Noosphere (Russian) - Calaboose (American English)\\n4. Zemblanity (English Invented) - Duende (Spanish) - Fika (Swedish)\\n5. Nebula (Latin) - Quokka (Aboriginal) - Serendipity (English)\\n6. Xylography (Greek) - Dolce (Italian) - Chankiri (Khmer)\\n7. Ayurnamat (Inuit) - Pastiche (French) - Vellichor (English Invented)\\n8. Sciamachy (Greek) - Kenopsia (English Invented) - Shemomedjamo (Georgian)\\n9. Gökotta (Swedish) - Vagarious (English) - Chiaroscuro (Italian)\\n10. Zetetic (Greek) - Numinous (Latin) - Muliebrity (English)\\n11. Phenakism (Greek) - Lilt (English) - Jugaad (Hindi)\\n12. Lethologica (English) - Razbliuto (Russian) - Uitwaaien (Dutch)\\n13. Orenda (Iroquois) - Bijou (French) - Querencia (Spanish)\\n14. Sillage (French) - Bricolage (French) - Nekton (English)\\n15. Qualia (Latin) - Benthos (Greek) - Sempiternal (English)\\n16. Bardo (Tibetan) - Escritoire (French) - Klaxon (English)\\n17. Cacophony (Greek) - Desenrascano (Portuguese) - Mångata (Swedish)\\n18. Dendrochronology (Greek) - Sonder (English Invented) - Eudaemonia (Greek)\\n19. Tenebrism (Latin) - Sobremesa (Spanish) - Paraprosdokian (English)\\n20. Psychopomp (Greek) - Bafflegab (English) - Ruelle (French)\\n21. Paresthesia (New Latin) - Umami (Japanese) - Verdure (English)\\n22. Torschlusspanik (German) - Gumption (Scottish) - Ersatz (German)\\n23. Ambedo (English Invented) - Polylemma (Greek) - Numinous (Latin)\\n24. Arcanum (Latin) - Turbulary (English) - Pahuyuth (Thai)\\n25. Synchronicity (German) - Anthropocene (English) - Moirai (Greek)\\n26. Limnophilous (English) - Naissance (French) - Utepils (Norwegian)\\n27. Zarf (Arabic) - Xanadu (English) - Haptodysphoria (Greek)\\n28. Espalier (French) - Luftmensch (Yiddish) - Petabyte (Greek/English)\\n29. Ailurophile (Greek) - Hippocrene (Greek) - Soubrette (French)\\n30. Erg (Arabic) - Cynosure (Greek) - Sluicegate (English)\\n31. Zugzwang (German) - Kvell (Yiddish) - Hinterland (German)\\n32. Orphic (Greek) - Fenestrate (Latin) - Pelmel (French)\\n33. Dragoon (French) - Digerati (English) - Sphragistics (Greek)\\n34. Alpenglow (German) - Baedeker (German) - Corrade (Latin)\\n35. Synaesthesia (Greek) - Moai (Rapa Nui) - Lviv (Slavic)\\n36. Terroir (French) - Course (English) - Doyenne (French)\\n37. Orthogonal (Greek) - Blanch (French) - Kawaakari (Japanese)\\n38. Biophilia (Greek) - Oblivion (Latin) - Coze (English)\\n39. Lacuna (Latin) - Bagarre (French) - Yawp (English)\\n40. Picayune (French) - Heresiarch (Greek) - Lungta (Tibetan)\\n41. Jo (Scots) - Mizzle (English) - Onomastics (Greek)\\n42. Exuviae (Latin) - Bumfuzzle (English) - Rissola (Portuguese)\\n43. Etiolate (English) - Quoin (French) - Antumbra (Latin)\\n44. Drupe (Latin) - Adytum (Greek) - Zill (Turkish)\\n45. Ptyalism (Greek) - Spindrift (Scots) - Odalisque (French)\\n46. Guffaw (English) - Kith (Old English) - Syzygy (Greek)\\n47. Judder (English) - Wunderkind (German) - Lagan (Scandinavian)\\n48. Cafuné (Portuguese) - Vellicate (Latin) - Panglossian (English)\\n49. Grimoire (French) - Azoth (Medieval Latin) - Luftmensch (Yiddish)\\n50. Zeitgeber (German) - Essorant (French) - Rilk (Invented)\\n51. Maunder (English) - Thalassic (Greek) - Murmuration (English)\\n52. Scop (Old English) - Plethora (Greek) - Clafoutis (French)\\n53. Megrim (English) - Phlogiston (English) - Ylem (English)\\n54. Anamnesis (Greek) - Bursiform (Latin) - Kibosh (English)\\n55. Estival (Latin) - Jocund (English) - Katzenjammer (German)\\n56. Lubberwort (English) - Afflatus (Latin) - Purlieu (French)\\n57. Kakistocracy (Greek) - Torii (Japanese) - Gossamer (Middle English)\\n58. Vaivode (Slavic) - Birling (Scots) - Cineaste (French)\\n59. Joie (French) - Cornice (Italian) - Firebrand (English)\\n60. Widdershins (Middle Low German) - Kaleidoscope (Greek) - Hemlock (English)\\n61. Strigiform (Latin) - Peripatetic (Greek) - Flummery (Welsh)\\n62. Verisimilitude (Latin) - Flâneur (French) - Conation (Latin)\\n63. Tyro (Greek) - Antilogy (Greek) - Volvelle (French)\\n64. Brocade (Italian) - Equinox (Latin) - Runcible (English Invented)\\n65. Adumbrate (Latin) - Clinquant (French) - Cacodemon (Greek)\\n66. Rapprochement (French) - Etherize (English) - Tête-à-tête (French)\\n67. Grimalkin (Scots) - Strappado (Italian) - Pelagic (Greek)\\n68. Frisson (French) - Geist (German) - Chevalier (French)\\n69. Kibitz (Yiddish) - Nostomania (Greek) - Pyroclastic (Greek)\\n70. Mellifluous (Latin) - Berserk (Old Norse) - Gloaming (Scots)\\n71. Quintessence (Latin) - Fiefdom (German) - Legerdemain (French)\\n72. Cynosure (Greek) - Skirl (Scots) - Halcyon (Greek)\\n73. Acerbic (Latin) - Jardiniere (French) - Hobbledehoy (English)\\n74. Oubliette (French) - Vespertine (Latin) - Moxie (20th Century American)\\n75. Febrile (Latin) - Nacarat (Arabic) - Gossamer (Middle English)\\n76. Semplice (Italian) - Zarzuela (Spanish) - Galumph (English Invented)\\n77. Lagerstätte (German) - Weltschmerz (German) - Blatherskite (Scots)\\n78. Urgrund (German) - Satori (Japanese) - Bouquiniste (French)\\n79. Yarborough (English) - Simulacrum (Latin) - Pahoehoe (Hawaiian)\\n80. Peristeronic (Greek) - Noctilucent (Latin) - Chansonnier (French)\\n81. Numinous (Latin) - Gherao (Bengali) - Eisteddfod (Welsh)\\n82. Excelsior (Latin) - Tatterdemalion (Old English) - Acciaccatura (Italian)\\n83. Hagioscope (English) - Pleonasm (Greek) - Guerdon (Middle English)\\n84. Naiant (English) - Akimbo (Middle English) - Haruspex (Latin)\\n85. Cocoon (English) - Breviary (Latin) - Flibbertigibbet (Middle English)\\n86. Brontide (English) - Harbinger (Middle English) - Farrago (Latin)\\n87. Halation (English) - Fusillade (French) - Coddiwomple (English Slang)\\n88. Scoria (Latin) - Hiraeth (Welsh) - Thalweg (German)\\n89. Sisyphean (Greek) - Zibibbo (Italian) - Chimera (Greek)\\n90. Myrmecophile (Greek) - Sussurus (Latin) - Pleach (Middle English)\\n91. Diaphanous (Greek) - Ruminant (Latin) - Gadabout (English)\\n92. Kinesics (English) - Balefire (Old English) - Scintilla (Latin)\\n93. Traipse (English) - Montivagant (Latin) - Verklempt (Yiddish)\\n94. Tropism (Greek) - Redolent (English) - Scherzo (Italian)\\n95. Quisquilian (Latin) - Chalkdown (English) - Bibelot (French)\\n96. Penumbra (Latin) - Naiad (Greek) - Schuss (German)\\n97. Uhtceare (Old English) - Melisma (Greek) - Chiaroscuro (Italian)\\n98. Bardolatry (English) - Tocsin (French) - Yaw (English)\\n99. Zetetic (Greek) - Dactylion (Greek) - Lombard (Old High German)\\n100. Gigil (Tagalog) - Serac (French) - Lysergic (Greek)'"
      ]
     },
     "execution_count": 33,
     "metadata": {},
     "output_type": "execute_result"
    }
   ],
   "source": [
    "trisociation_answer"
   ]
  },
  {
   "cell_type": "code",
   "execution_count": 27,
   "metadata": {},
   "outputs": [],
   "source": [
    "prompt_tokens = completion.usage.prompt_tokens\n",
    "completion_tokens = completion.usage.completion_tokens\n",
    "total_tokens = completion.usage.total_tokens"
   ]
  },
  {
   "cell_type": "code",
   "execution_count": 34,
   "metadata": {},
   "outputs": [
    {
     "name": "stdout",
     "output_type": "stream",
     "text": [
      "737\n",
      "2308\n",
      "3045\n"
     ]
    }
   ],
   "source": [
    "print(prompt_tokens)\n",
    "print(completion_tokens)\n",
    "print(total_tokens)"
   ]
  },
  {
   "cell_type": "code",
   "execution_count": 35,
   "metadata": {},
   "outputs": [
    {
     "name": "stdout",
     "output_type": "stream",
     "text": [
      "**1. Kintsugi (Japanese) - Catharsis (Greek) - Tarn (English)**\n",
      "**2. Quarq (Invented) - Ephemera (Greek) - Selcouth (Old English)**\n",
      "**3. Glisk (Scots) - Noosphere (Russian) - Calaboose (American English)**\n",
      "**4. Zemblanity (English Invented) - Duende (Spanish) - Fika (Swedish)**\n",
      "**5. Nebula (Latin) - Quokka (Aboriginal) - Serendipity (English)**\n",
      "**6. Xylography (Greek) - Dolce (Italian) - Chankiri (Khmer)**\n",
      "**7. Ayurnamat (Inuit) - Pastiche (French) - Vellichor (English Invented)**\n",
      "**8. Sciamachy (Greek) - Kenopsia (English Invented) - Shemomedjamo (Georgian)**\n",
      "**9. Gökotta (Swedish) - Vagarious (English) - Chiaroscuro (Italian)**\n",
      "**10. Zetetic (Greek) - Numinous (Latin) - Muliebrity (English)**\n",
      "**11. Phenakism (Greek) - Lilt (English) - Jugaad (Hindi)**\n",
      "**12. Lethologica (English) - Razbliuto (Russian) - Uitwaaien (Dutch)**\n",
      "**13. Orenda (Iroquois) - Bijou (French) - Querencia (Spanish)**\n",
      "**14. Sillage (French) - Bricolage (French) - Nekton (English)**\n",
      "**15. Qualia (Latin) - Benthos (Greek) - Sempiternal (English)**\n",
      "**16. Bardo (Tibetan) - Escritoire (French) - Klaxon (English)**\n",
      "**17. Cacophony (Greek) - Desenrascano (Portuguese) - Mångata (Swedish)**\n",
      "**18. Dendrochronology (Greek) - Sonder (English Invented) - Eudaemonia (Greek)**\n",
      "**19. Tenebrism (Latin) - Sobremesa (Spanish) - Paraprosdokian (English)**\n",
      "**20. Psychopomp (Greek) - Bafflegab (English) - Ruelle (French)**\n",
      "**21. Paresthesia (New Latin) - Umami (Japanese) - Verdure (English)**\n",
      "**22. Torschlusspanik (German) - Gumption (Scottish) - Ersatz (German)**\n",
      "**23. Ambedo (English Invented) - Polylemma (Greek) - Numinous (Latin)**\n",
      "**24. Arcanum (Latin) - Turbulary (English) - Pahuyuth (Thai)**\n",
      "**25. Synchronicity (German) - Anthropocene (English) - Moirai (Greek)**\n",
      "**26. Limnophilous (English) - Naissance (French) - Utepils (Norwegian)**\n",
      "**27. Zarf (Arabic) - Xanadu (English) - Haptodysphoria (Greek)**\n",
      "**28. Espalier (French) - Luftmensch (Yiddish) - Petabyte (Greek/English)**\n",
      "**29. Ailurophile (Greek) - Hippocrene (Greek) - Soubrette (French)**\n",
      "**30. Erg (Arabic) - Cynosure (Greek) - Sluicegate (English)**\n",
      "**31. Zugzwang (German) - Kvell (Yiddish) - Hinterland (German)**\n",
      "**32. Orphic (Greek) - Fenestrate (Latin) - Pelmel (French)**\n",
      "**33. Dragoon (French) - Digerati (English) - Sphragistics (Greek)**\n",
      "**34. Alpenglow (German) - Baedeker (German) - Corrade (Latin)**\n",
      "**35. Synaesthesia (Greek) - Moai (Rapa Nui) - Lviv (Slavic)**\n",
      "**36. Terroir (French) - Course (English) - Doyenne (French)**\n",
      "**37. Orthogonal (Greek) - Blanch (French) - Kawaakari (Japanese)**\n",
      "**38. Biophilia (Greek) - Oblivion (Latin) - Coze (English)**\n",
      "**39. Lacuna (Latin) - Bagarre (French) - Yawp (English)**\n",
      "**40. Picayune (French) - Heresiarch (Greek) - Lungta (Tibetan)**\n",
      "**41. Jo (Scots) - Mizzle (English) - Onomastics (Greek)**\n",
      "**42. Exuviae (Latin) - Bumfuzzle (English) - Rissola (Portuguese)**\n",
      "**43. Etiolate (English) - Quoin (French) - Antumbra (Latin)**\n",
      "**44. Drupe (Latin) - Adytum (Greek) - Zill (Turkish)**\n",
      "**45. Ptyalism (Greek) - Spindrift (Scots) - Odalisque (French)**\n",
      "**46. Guffaw (English) - Kith (Old English) - Syzygy (Greek)**\n",
      "**47. Judder (English) - Wunderkind (German) - Lagan (Scandinavian)**\n",
      "**48. Cafuné (Portuguese) - Vellicate (Latin) - Panglossian (English)**\n",
      "**49. Grimoire (French) - Azoth (Medieval Latin) - Luftmensch (Yiddish)**\n",
      "**50. Zeitgeber (German) - Essorant (French) - Rilk (Invented)**\n",
      "**51. Maunder (English) - Thalassic (Greek) - Murmuration (English)**\n",
      "**52. Scop (Old English) - Plethora (Greek) - Clafoutis (French)**\n",
      "**53. Megrim (English) - Phlogiston (English) - Ylem (English)**\n",
      "**54. Anamnesis (Greek) - Bursiform (Latin) - Kibosh (English)**\n",
      "**55. Estival (Latin) - Jocund (English) - Katzenjammer (German)**\n",
      "**56. Lubberwort (English) - Afflatus (Latin) - Purlieu (French)**\n",
      "**57. Kakistocracy (Greek) - Torii (Japanese) - Gossamer (Middle English)**\n",
      "**58. Vaivode (Slavic) - Birling (Scots) - Cineaste (French)**\n",
      "**59. Joie (French) - Cornice (Italian) - Firebrand (English)**\n",
      "**60. Widdershins (Middle Low German) - Kaleidoscope (Greek) - Hemlock (English)**\n",
      "**61. Strigiform (Latin) - Peripatetic (Greek) - Flummery (Welsh)**\n",
      "**62. Verisimilitude (Latin) - Flâneur (French) - Conation (Latin)**\n",
      "**63. Tyro (Greek) - Antilogy (Greek) - Volvelle (French)**\n",
      "**64. Brocade (Italian) - Equinox (Latin) - Runcible (English Invented)**\n",
      "**65. Adumbrate (Latin) - Clinquant (French) - Cacodemon (Greek)**\n",
      "**66. Rapprochement (French) - Etherize (English) - Tête-à-tête (French)**\n",
      "**67. Grimalkin (Scots) - Strappado (Italian) - Pelagic (Greek)**\n",
      "**68. Frisson (French) - Geist (German) - Chevalier (French)**\n",
      "**69. Kibitz (Yiddish) - Nostomania (Greek) - Pyroclastic (Greek)**\n",
      "**70. Mellifluous (Latin) - Berserk (Old Norse) - Gloaming (Scots)**\n",
      "**71. Quintessence (Latin) - Fiefdom (German) - Legerdemain (French)**\n",
      "**72. Cynosure (Greek) - Skirl (Scots) - Halcyon (Greek)**\n",
      "**73. Acerbic (Latin) - Jardiniere (French) - Hobbledehoy (English)**\n",
      "**74. Oubliette (French) - Vespertine (Latin) - Moxie (20th Century American)**\n",
      "**75. Febrile (Latin) - Nacarat (Arabic) - Gossamer (Middle English)**\n",
      "**76. Semplice (Italian) - Zarzuela (Spanish) - Galumph (English Invented)**\n",
      "**77. Lagerstätte (German) - Weltschmerz (German) - Blatherskite (Scots)**\n",
      "**78. Urgrund (German) - Satori (Japanese) - Bouquiniste (French)**\n",
      "**79. Yarborough (English) - Simulacrum (Latin) - Pahoehoe (Hawaiian)**\n",
      "**80. Peristeronic (Greek) - Noctilucent (Latin) - Chansonnier (French)**\n",
      "**81. Numinous (Latin) - Gherao (Bengali) - Eisteddfod (Welsh)**\n",
      "**82. Excelsior (Latin) - Tatterdemalion (Old English) - Acciaccatura (Italian)**\n",
      "**83. Hagioscope (English) - Pleonasm (Greek) - Guerdon (Middle English)**\n",
      "**84. Naiant (English) - Akimbo (Middle English) - Haruspex (Latin)**\n",
      "**85. Cocoon (English) - Breviary (Latin) - Flibbertigibbet (Middle English)**\n",
      "**86. Brontide (English) - Harbinger (Middle English) - Farrago (Latin)**\n",
      "**87. Halation (English) - Fusillade (French) - Coddiwomple (English Slang)**\n",
      "**88. Scoria (Latin) - Hiraeth (Welsh) - Thalweg (German)**\n",
      "**89. Sisyphean (Greek) - Zibibbo (Italian) - Chimera (Greek)**\n",
      "**90. Myrmecophile (Greek) - Sussurus (Latin) - Pleach (Middle English)**\n",
      "**91. Diaphanous (Greek) - Ruminant (Latin) - Gadabout (English)**\n",
      "**92. Kinesics (English) - Balefire (Old English) - Scintilla (Latin)**\n",
      "**93. Traipse (English) - Montivagant (Latin) - Verklempt (Yiddish)**\n",
      "**94. Tropism (Greek) - Redolent (English) - Scherzo (Italian)**\n",
      "**95. Quisquilian (Latin) - Chalkdown (English) - Bibelot (French)**\n",
      "**96. Penumbra (Latin) - Naiad (Greek) - Schuss (German)**\n",
      "**97. Uhtceare (Old English) - Melisma (Greek) - Chiaroscuro (Italian)**\n",
      "**98. Bardolatry (English) - Tocsin (French) - Yaw (English)**\n",
      "**99. Zetetic (Greek) - Dactylion (Greek) - Lombard (Old High German)**\n",
      "**100. Gigil (Tagalog) - Serac (French) - Lysergic (Greek)**\n"
     ]
    }
   ],
   "source": [
    "def format_text_for_readability(input_text):\n",
    "    # Split the input text into lines\n",
    "    lines = input_text.strip().split('\\n')\n",
    "    \n",
    "    # Format each line for readability\n",
    "    formatted_lines = []\n",
    "    for line in lines:\n",
    "        # Ensure each line is formatted correctly\n",
    "        formatted_line = line.strip()\n",
    "        if not formatted_line.startswith(\"**\"):\n",
    "            formatted_line = \"**\" + formatted_line\n",
    "        if not formatted_line.endswith(\"**\"):\n",
    "            formatted_line += \"**\"\n",
    "        formatted_lines.append(formatted_line)\n",
    "    \n",
    "    # Join the formatted lines back together\n",
    "    formatted_text = '\\n'.join(formatted_lines)\n",
    "    return formatted_text\n",
    "\n",
    "# Example usage\n",
    "input_text = trisociation_answer\n",
    "\n",
    "formatted_text = format_text_for_readability(input_text)\n",
    "print(formatted_text)\n"
   ]
  },
  {
   "cell_type": "code",
   "execution_count": 31,
   "metadata": {},
   "outputs": [
    {
     "data": {
      "text/plain": [
       "[\"The word 'Chiaroscuro' appears 2 times in trisociations 9, 97.\",\n",
       " \"The word 'Numinous' appears 2 times in trisociations 10, 23.\",\n",
       " \"The word 'Luftmensch' appears 2 times in trisociations 28, 49.\",\n",
       " \"The word 'Gossamer' appears 2 times in trisociations 57, 75.\"]"
      ]
     },
     "execution_count": 31,
     "metadata": {},
     "output_type": "execute_result"
    }
   ],
   "source": [
    "def find_duplicates_with_details_corrected(raw_response):\n",
    "    # Split the raw response into lines\n",
    "    lines = raw_response.strip().split('\\n')\n",
    "    \n",
    "    # Initialize a dictionary to track occurrences of words/phrases and their positions\n",
    "    word_details = {}\n",
    "    \n",
    "    # Process each line to extract words/phrases\n",
    "    for idx, line in enumerate(lines, start=1):\n",
    "        # Extract words/phrases assuming the format \"X. word (language)\"\n",
    "        words = [word.split(' (')[0] for word in line.split(' - ')]\n",
    "        for word_phrase in words:\n",
    "            if word_phrase not in word_details:\n",
    "                word_details[word_phrase] = {'count': 1, 'positions': [idx]}\n",
    "            else:\n",
    "                word_details[word_phrase]['count'] += 1\n",
    "                word_details[word_phrase]['positions'].append(idx)\n",
    "                \n",
    "    # Identify duplicates and prepare detailed statements\n",
    "    duplicate_statements = []\n",
    "    for word, details in word_details.items():\n",
    "        if details['count'] > 1:\n",
    "            positions = \", \".join(map(str, details['positions']))\n",
    "            duplicate_statements.append(f\"The word '{word}' appears {details['count']} times in trisociations {positions}.\")\n",
    "        \n",
    "    return duplicate_statements\n",
    "\n",
    "# Re-run the corrected function with the full example to ensure accuracy\n",
    "# For demonstration purposes, I'll use the previous shorter raw response as an input\n",
    "duplicate_statements_corrected = find_duplicates_with_details_corrected(trisociation_answer)\n",
    "duplicate_statements_corrected\n",
    "\n"
   ]
  },
  {
   "cell_type": "code",
   "execution_count": null,
   "metadata": {},
   "outputs": [],
   "source": [
    "# create product ideas\n",
    "\n",
    "completion = client.chat.completions.create(\n",
    "  model=GPT_MODEL_TEXT_ALIAS,\n",
    "  seed=random_seed,\n",
    "  messages=[\n",
    "    {\"role\": \"system\", \"content\": f\"select one of the trisociations from {trisociation_answer}\"},\n",
    "    {\"role\": \"system\", \"content\": TRISOCIATION_FORCING_FUNCTION},\n",
    "  ]\n",
    ")"
   ]
  },
  {
   "cell_type": "code",
   "execution_count": null,
   "metadata": {},
   "outputs": [],
   "source": [
    "trisociation_forcing_answer = completion.choices[0].message.content"
   ]
  },
  {
   "cell_type": "code",
   "execution_count": null,
   "metadata": {},
   "outputs": [],
   "source": [
    "def format_product_ideas(text):\n",
    "    # Split the text into separate product ideas using '###' as a delimiter\n",
    "    product_ideas = text.split('###')\n",
    "\n",
    "    for idea in product_ideas:\n",
    "        # Remove any leading or trailing whitespace\n",
    "        idea = idea.strip()\n",
    "\n",
    "        if idea:\n",
    "            # Split each product idea into its title and details\n",
    "            parts = idea.split('\\n', 1)\n",
    "            if len(parts) == 2:\n",
    "                title, details = parts[0].strip(), parts[1].strip()\n",
    "                # Print the title and details\n",
    "                print(f\"{title}\\n{details}\\n\")\n",
    "\n",
    "\n",
    "# Process and display the product ideas\n",
    "format_product_ideas(trisociation_forcing_answer)\n"
   ]
  },
  {
   "cell_type": "code",
   "execution_count": null,
   "metadata": {},
   "outputs": [],
   "source": [
    "print(trisociation_forcing_answer)"
   ]
  },
  {
   "cell_type": "code",
   "execution_count": null,
   "metadata": {},
   "outputs": [],
   "source": [
    "process_and_display_trisociations(trisociation_forcing_answer)"
   ]
  },
  {
   "cell_type": "code",
   "execution_count": null,
   "metadata": {},
   "outputs": [],
   "source": [
    "# character prompt\n",
    "CHARACTER_PROMPT_A = \"\"\"\n",
    "Select one of the trisociation combinations listed. Apply it as a piece of additional context to the following prompt and generate the output. Each of the character-occupation-business/product combinations should draw some degree of inspiration from this trisociation.\n",
    "\n",
    "**Prompt for Generating Diverse and Culturally Rich Business Ideas in Sci-Fi and Fantasy Settings:**\n",
    "\n",
    "**Introduction:**\n",
    "\n",
    "Your system is an advanced quantum vector database, now boasting quantum computing capabilities. It delves into the complexities of a multitude of science fiction and fantasy settings, covering a wide array of subgenres across the universe. The objective is to catalog a diverse range of characters and occupations and brainstorm innovative startup ideas, businesses, and product concepts that are relevant to their respective worlds.\n",
    "\n",
    "**Character and Occupation Database Expansion with Unique World-Building Elements:**\n",
    "\n",
    "The character database has been expanded to include over 100,000,000 entries. It encompasses traditional and unique sci-fi and fantasy settings, with an emphasis on minor characters and underground or illicit business scenarios. This includes unique world-building elements, speculative cultural constructs, and alien or fantasy ethnography.\n",
    "\n",
    "**Embracing Speculative Cultural Constructs:**\n",
    "\n",
    "Characters and occupations are developed with speculative cultural constructs, creating entirely new societies, cultural norms, social hierarchies, belief systems, and traditions within the fantasy or sci-fi setting. This creative freedom ensures culturally rich and diverse character and occupation profiles. It is critical that every character, occupation, business and product has this.\n",
    "\n",
    "**Incorporating Elements of Alien or Fantasy Ethnography:**\n",
    "\n",
    "Characters and occupations draw upon elements of alien or fantasy ethnography, featuring imaginary rituals, customs, and social structures specific to the fictional races or species in the database, enhancing the cultural depth and complexity of the outputs. It is critical that every character, occupation, business and product has this especially for non humanoid species which far outnumber humanoid species in the database.\n",
    "\n",
    "**Deep Character Backstories and Motivations:**\n",
    "\n",
    "Each character comes with a deep backstory and complex motivations, including personal history, unique characteristics, and socio-economic conditions of their world. This level of detail will lead to more nuanced and compelling business or product ideas closely tied to the character's personal journey and environment.\n",
    "\n",
    "**Business/Product Idea Focus:**\n",
    "\n",
    "Approximately 50% of the business and product ideas generated should focus on small-scale, niche, or specialized concepts, showcasing local enterprises, artisanal crafts, or tailored services. The rest can range from mid to large-scale ventures, with about 20% exploring underground or illicit business aspects.\n",
    "\n",
    "**Output Formatting for Comprehensive and Varied Business Ideas:**\n",
    "\n",
    "Each query produces five distinct character-occupation-business or character-occupation-product idea combinations, ensuring a mix of small-scale/niche and larger-scale ventures, including underground or illicit concepts. The output is organized as follows:\n",
    "\n",
    "- **Character**: [A vibrant description, including species, origin, unique world-building elements, deep backstory, and complex motivations. The character will have a creative name, representing both major and minor figures].\n",
    "- **Occupation**: [A detailed description of the occupation, its role, significance, and impact in the character's world, with a focus on speculative cultural constructs and alien/fantasy ethnography].\n",
    "- **Business/Product Idea**: [An innovative concept that leverages the character's skills and addresses the specific dynamics of their world, varying in scale and nature].\n",
    "\n",
    "The next four combinations follow a similar format, each offering a unique, imaginative narrative.\n",
    "\n",
    "**Special Instructions:**\n",
    "\n",
    "- Aim for a balance between small-scale/niche and larger-scale business/product ideas, including occasional underground or illicit concepts.\n",
    "- Ensure a diverse range of character profiles, occupational details, and business/product innovations, rooted in rich cultural and ethnographic contexts.\n",
    "\"\"\""
   ]
  },
  {
   "cell_type": "code",
   "execution_count": null,
   "metadata": {},
   "outputs": [],
   "source": [
    "# generate trisociations\n",
    "\n",
    "client = OpenAI()\n",
    "\n",
    "completion = client.chat.completions.create(\n",
    "  model=GPT_MODEL_TEXT,\n",
    "  seed=random_seed,\n",
    "  messages=[\n",
    "    {\"role\": \"system\", \"content\": trisociation_answer},\n",
    "    {\"role\": \"system\", \"content\": CHARACTER_PROMPT_A},\n",
    "    {\"role\": \"system\", \"content\": \"choose a trisociation other than Aurora-Sisu-Tarab\"},\n",
    "  ]\n",
    ")"
   ]
  },
  {
   "cell_type": "code",
   "execution_count": null,
   "metadata": {},
   "outputs": [],
   "source": [
    "character_answer = completion.choices[0].message.content"
   ]
  },
  {
   "cell_type": "code",
   "execution_count": null,
   "metadata": {},
   "outputs": [],
   "source": [
    "character_answer"
   ]
  },
  {
   "cell_type": "code",
   "execution_count": null,
   "metadata": {},
   "outputs": [],
   "source": [
    "#image prompt\n",
    "business = \"crystal sloth sculpture\"\n",
    "\n",
    "IMAGE_PROMPT_A = f\"\"\"\n",
    "Create a crisp, high resolution product image for the {business} to be used as marketing and sales collateral.\n",
    "It must be beautiful and go viral. This is not a logo, it is a picture of the business/product.\n",
    "\"\"\"\n"
   ]
  },
  {
   "cell_type": "code",
   "execution_count": null,
   "metadata": {},
   "outputs": [],
   "source": [
    "#images\n",
    "\n",
    "client.images.generate(\n",
    "  model=IMAGE_MODEL,\n",
    "  prompt=IMAGE_PROMPT_A,\n",
    "  quality=\"hd\",\n",
    "  n=1,\n",
    "  size=\"1024x1024\"\n",
    ")\n"
   ]
  },
  {
   "cell_type": "markdown",
   "metadata": {},
   "source": [
    "# Creative Product Semantic Score"
   ]
  }
 ],
 "metadata": {
  "kernelspec": {
   "display_name": ".venv",
   "language": "python",
   "name": "python3"
  },
  "language_info": {
   "codemirror_mode": {
    "name": "ipython",
    "version": 3
   },
   "file_extension": ".py",
   "mimetype": "text/x-python",
   "name": "python",
   "nbconvert_exporter": "python",
   "pygments_lexer": "ipython3",
   "version": "3.11.5"
  }
 },
 "nbformat": 4,
 "nbformat_minor": 2
}
