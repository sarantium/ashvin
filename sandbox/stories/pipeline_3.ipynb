{
 "cells": [
  {
   "cell_type": "code",
   "execution_count": 1,
   "metadata": {},
   "outputs": [],
   "source": [
    "# imports\n",
    "\n",
    "from pathlib import Path\n",
    "from openai import OpenAI\n",
    "from dotenv import load_dotenv\n",
    "import os\n",
    "import random\n",
    "import time\n",
    "import itertools"
   ]
  },
  {
   "cell_type": "code",
   "execution_count": 2,
   "metadata": {},
   "outputs": [],
   "source": [
    "# load API key\n",
    "\n",
    "dotenv_path = Path(r\"C:\\Storage\\python_projects\\ashvin\\.env\")\n",
    "load_dotenv(dotenv_path=dotenv_path)\n",
    "\n",
    "OPENAI_API_KEY = os.getenv(\"OPENAI_API_KEY\")"
   ]
  },
  {
   "cell_type": "code",
   "execution_count": 3,
   "metadata": {},
   "outputs": [],
   "source": [
    "# main constants\n",
    "\n",
    "GPT_MODEL_TEXT_ALIAS = \"gpt-4-turbo-preview\"\n",
    "GPT_MODEL_VISION_ALIAS = \"gpt-4-vision-preview\"\n",
    "\n",
    "# additional constants as at 31/01/24\n",
    "GPT_MODEL_TEXT = \"gpt-4-0125-preview\"\n",
    "IMAGE_MODEL = \"dall-e-3\"\n",
    "EMBEDDINGS_MODEL = \"text-moderation-latest\""
   ]
  },
  {
   "cell_type": "code",
   "execution_count": 4,
   "metadata": {},
   "outputs": [],
   "source": [
    "# variations\n",
    "random_seed = int(time.time())\n",
    "temperature = "
   ]
  },
  {
   "cell_type": "code",
   "execution_count": 5,
   "metadata": {},
   "outputs": [],
   "source": [
    "# trisociation prompt\n",
    "\n",
    "TRISOCIATION_PROMPT=\"\"\"\n",
    "\n",
    "---\n",
    "**Strict Exclusion List** \n",
    "*Before embarking on the task, it is imperative to note that the following words are strictly prohibited from use in the trisociations:*\n",
    "- Hiraeth\n",
    "- Zephyr\n",
    "- Ubuntu\n",
    "- Petrichor\n",
    "- Yugen\n",
    "- Saudade\n",
    "- Komorebi\n",
    "- Tsundoku\n",
    "- Cwtch\n",
    "- Wabi-Sabi\n",
    "- Mamihlapinatapai\n",
    "- Fernweh\n",
    "- Flaneur\n",
    "- Hygge\n",
    "- Mangata\n",
    "- Samadhi\n",
    "- Apricity\n",
    "\n",
    "---\n",
    "\n",
    "**Guidelines for Diverse and Unique Trisociations:**\n",
    "As an advanced algorithm with access to a vast vector database of semantic embeddings, your role is to facilitate the trisociation process — a creative endeavor that interlaces three semantically distant concepts. Your mission is to construct trisociations that are linguistically diverse and conceptually distinctive, avoiding commonly used words and uncovering hidden linguistic gems.\n",
    "\n",
    "---\n",
    "\n",
    "*Please ensure that none of the words in the strict exclusion list are used in the trisociations.*\n",
    "\n",
    "1. **Explore the Uncommon**: Avoid frequently chosen words and seek out less common vocabulary.\n",
    "2. **Prioritize Lesser-Known Vocabulary**: Focus on words that are less commonly used in creative writing, poetry, and literary contexts, aiming to uncover unique and underrepresented words.\n",
    "3. **Thematic Diversity**: Incorporate words from themes like technology, mythology, professions, emotions, and weather phenomena, avoiding the obvious choices.\n",
    "4. **Historical and Cultural Significance**: Choose words with historical or cultural resonance, especially those that are less known or underrepresented.\n",
    "5. **Vibrant Language Use**: Include regional dialects or slang, with a focus on those that are less frequently used.\n",
    "6. **Varied Parts of Speech**: Mix nouns, verbs, adjectives, and adverbs, especially those that are less common in trisociation contexts.\n",
    "7. **Sensory Exploration**: Select sensory words that are vivid yet not the usual go-to options.\n",
    "8. **Abstract and Tangible Fusion**: Blend abstract concepts with concrete items in unconventional ways.\n",
    "9. **Language Family Diversity**: Draw from a wide array of language families, especially focusing on those less represented in common discourse.\n",
    "10. **Creative Figurative Language**: Use metaphors, similes, and symbolic language, avoiding clichés and common expressions.\n",
    "11. **Wide Emotional Range**: Cover a spectrum of emotions with less typical word choices.\n",
    "12. **Temporal and Cultural Fusion**: Connect different eras and cultures, going beyond well-trodden paths.\n",
    "13. **Lesser-Known Language Exploration**: Seek out words from lesser-known languages and dialects.\n",
    "14. **Balanced Elements**: Ensure that each word contributes equally to the trisociation, without any overshadowing the others.\n",
    "15. **Semantic Uniqueness**: Ensure that each trisociation stands out in its conceptual composition, distinct from typical combinations.\n",
    "16. **Language Identification**: In each trisociation, identify the languages of the chosen words. This highlights the linguistic diversity and encourages the exploration of a variety of languages, including lesser-known ones.\n",
    "---\n",
    "Task:\n",
    "\n",
    "Generate 10 Trisociations adhering to the above guidelines. Each trisociation should be a creative blend of three semantically distant concepts, showcasing linguistic innovation and conceptual uniqueness.\n",
    "Each trisociation should be accompanied by a brief explanation, highlighting the unique connection or concept behind the combination. The words in the exclusion list should not be part of any trisociation.\n",
    "---\n",
    "\n",
    "*Remember, the words in the strict exclusion list must not be part of any trisociation.*\n",
    "\"\"\""
   ]
  },
  {
   "cell_type": "code",
   "execution_count": 6,
   "metadata": {},
   "outputs": [],
   "source": [
    "# forcing function\n",
    "\n",
    "TRISOCIATION_FORCING_FUNCTION = \"\"\"\n",
    "You will assume the role of an ideator. Your task is to accept a set of three concepts,\n",
    "namely {A, B, C}. Using these concepts, you will generate six novel and intriguing\n",
    "product ideas by associating the concepts in the following ways:\n",
    "\n",
    "• A will inspire the form, B will inspire the function, and C will inspire the features.\n",
    "• A will inspire the form, C will inspire the function, and B will inspire the features.\n",
    "• B will inspire the form, C will inspire the function, and A will inspire the features.\n",
    "• B will inspire the form, A will inspire the function, and C will inspire the features.\n",
    "• C will inspire the form, A will inspire the function, and B will inspire the features.\n",
    "• C will inspire the form, B will inspire the function, and A will inspire the features.\n",
    "\"\"\""
   ]
  },
  {
   "cell_type": "code",
   "execution_count": 7,
   "metadata": {},
   "outputs": [],
   "source": [
    "#instantiate client\n",
    "client = OpenAI()"
   ]
  },
  {
   "cell_type": "code",
   "execution_count": 8,
   "metadata": {},
   "outputs": [],
   "source": [
    "# generate trisociations\n",
    "\n",
    "completion = client.chat.completions.create(\n",
    "  model=GPT_MODEL_TEXT_ALIAS,\n",
    "  seed=random_seed,\n",
    "  messages=[\n",
    "    {\"role\": \"system\", \"content\": TRISOCIATION_PROMPT},\n",
    "  ]\n",
    ")"
   ]
  },
  {
   "cell_type": "code",
   "execution_count": 9,
   "metadata": {},
   "outputs": [],
   "source": [
    "trisociation_answer = completion.choices[0].message.content"
   ]
  },
  {
   "cell_type": "code",
   "execution_count": 10,
   "metadata": {},
   "outputs": [
    {
     "data": {
      "text/plain": [
       "\"1. **Trisociation**: Serotiny (English) | Qarrtsiluni (Inuit) | Guqin (Chinese)\\n   - **Explanation**: This trisociation blends the concept of serotiny, the ecological adaptation of releasing seeds in response to an environmental trigger (English), with qarrtsiluni, the Inuit term for the act of sitting together in the darkness, quietly waiting for something to happen or burst (Inuit), and the guqin, an ancient Chinese zither, representing harmony and philosophical depth (Chinese). This abstract combination symbolizes the beauty of patience, deep reflection, and natural processes in both cultural introspection and ecological adaptations.\\n\\n2. **Trisociation**: Navicula (Latin) | Fado (Portuguese) | Katajjaq (Inuit)\\n   - **Explanation**: Navicula, a type of small boat as well as a diatom shape in Latin, is juxtaposed with fado, the soul-stirring, melancholic folk music of Portugal (Portuguese), and katajjaq, the traditional Inuit throat singing (Inuit). This trisociation evokes the journey of emotional expression through nature's microscopic beauty, the depth of human sentiment in music, and the unique cultural vocal patterns that bridge the microscopic with the emotional and anthropological.\\n\\n3. **Trisociation**: Kilig (Tagalog) | Anting-anting (Filipino) | Selcouth (Old English)\\n   - **Explanation**: Kilig, the fluttering elation one feels when excited or in love (Tagalog), combined with anting-anting, a Filipino amulet or talisman believed to offer supernatural protection or powers (Filipino), and selcouth, signifying something unfamiliar, rare, strange yet marvelously wonderful (Old English). This blend captures the exquisite moment of encountering the unknown through love, protection, and the wonder of discovery.\\n\\n4. **Trisociation**: Dendrochronology (Greek/English) | Samadhi (Sanskrit) | Vemod (Swedish)\\n   - **Explanation**: Dendrochronology, the scientific method of dating tree rings to the exact year they were formed (Greek/English), interweaves with samadhi, the ultimate state of meditative consciousness (Sanskrit), and vemod, a uniquely Swedish expression of a sweet melancholy (Swedish). This combination suggests a meditation on time, the introspective journey through history encoded in nature, and the nuanced emotions tied to these reflections.\\n\\n5. **Trisociation**: Quiddity (Middle English) | Solivagant (Latin) | Mångata (Swedish)\\n   - **Explanation**: Quiddity, the essence or nature of something, often referring to a somewhat quirky characteristic (Middle English), merges with solivagant, a solitary wanderer (Latin), and mångata, the road-like reflection of the moon on the water (Swedish). This fusion speaks to the serenity of solo journeys, both literal and metaphysical, reflecting on the essence of life and the paths we choose under the moonlit sky.\\n\\n6. **Trisociation**: Aglet (Modern English) | Borborygmus (Greek) | Jijivisha (Sanskrit)\\n   - **Explanation**: Aglet, the protective casing at the end of a shoelace (Modern English), borborygmus, the sound of stomach rumbling (Greek), and jijivisha, an intense longing for life despite challenges (Sanskrit). This odd juxtaposition captures the essence of small but significant protections, the bodily reminders of life and hunger, and the deep, intrinsic will to live, binding the tangible with the deeply emotional and existential.\\n\\n7. **Trisociation**: Xylography (Greek) | Apricity (Late Latin) | Saudaçor (Portuguese)\\n   - **Explanation**: Xylography, the art of engraving on wood (Greek), paired with apricity, the warmth of the sun in winter (Late Latin), and saudaçor, a profound nostalgic longing (Portuguese). This melding evokes the warmth of cherished memories engraved in time, the nostalgic yearning for moments bathed in the gentle winter sun, and the artistry of preserving those emotions.\\n\\n8. **Trisociation**: Dulcinea (Spanish) | Kealaula (Hawaiian) | Raconteur (French)\\n   - **Explanation**: Dulcinea, the idealized beloved in literary works (Spanish), intersects with kealaula, the pre-dawn light, a metaphor for hope (Hawaiian), and raconteur, a skilled storyteller (French). This combination paints the picture of love as a narrative journey through darkness towards light, guided by the storyteller's voice, embodying hope, idealized affections, and the transformative power of tales.\\n\\n9. **Trisociation**: Sillage (French) | Shinrin-Yoku (Japanese) | Månegarm (Old Norse)\\n   - **Explanation**: Sillage, the trail of scent left behind by someone (French), blends with shinrin-yoku, the act of taking in the forest atmosphere or forest bathing (Japanese), and månegarm, a mythological wolf that eats the moon (Old Norse). This trisociation evokes the immersive experience of being in nature, the mystical connection with the celestial, and the lingering essence of these moments in our lives.\\n\\n10. **Trisociation**: Genuflect (Latin) | Bricolage (French) | Meander (Greek)\\n    - **Explanation**: Genuflect, the act of bending a knee, often in worship (Latin), combined with bricolage, the construction or creation from a diverse range of available things (French), and meander, to follow a winding course (Greek). This trisociation symbolizes the journey of creation and discovery, the reverence in the act of making, and the unpredictable paths of creative and life processes, where devotion, resourcefulness, and exploration meet.\""
      ]
     },
     "execution_count": 10,
     "metadata": {},
     "output_type": "execute_result"
    }
   ],
   "source": [
    "trisociation_answer"
   ]
  },
  {
   "cell_type": "code",
   "execution_count": 11,
   "metadata": {},
   "outputs": [
    {
     "name": "stdout",
     "output_type": "stream",
     "text": [
      "1. **Trisociation**: Serotiny (English) | Qarrtsiluni (Inuit) | Guqin (Chinese)\n",
      "   - **Explanation**: This trisociation blends the concept of serotiny, the ecological adaptation of releasing seeds in response to an environmental trigger (English), with qarrtsiluni, the Inuit term for the act of sitting together in the darkness, quietly waiting for something to happen or burst (Inuit), and the guqin, an ancient Chinese zither, representing harmony and philosophical depth (Chinese). This abstract combination symbolizes the beauty of patience, deep reflection, and natural processes in both cultural introspection and ecological adaptations.\n",
      "\n",
      "2. **Trisociation**: Navicula (Latin) | Fado (Portuguese) | Katajjaq (Inuit)\n",
      "   - **Explanation**: Navicula, a type of small boat as well as a diatom shape in Latin, is juxtaposed with fado, the soul-stirring, melancholic folk music of Portugal (Portuguese), and katajjaq, the traditional Inuit throat singing (Inuit). This trisociation evokes the journey of emotional expression through nature's microscopic beauty, the depth of human sentiment in music, and the unique cultural vocal patterns that bridge the microscopic with the emotional and anthropological.\n",
      "\n",
      "3. **Trisociation**: Kilig (Tagalog) | Anting-anting (Filipino) | Selcouth (Old English)\n",
      "   - **Explanation**: Kilig, the fluttering elation one feels when excited or in love (Tagalog), combined with anting-anting, a Filipino amulet or talisman believed to offer supernatural protection or powers (Filipino), and selcouth, signifying something unfamiliar, rare, strange yet marvelously wonderful (Old English). This blend captures the exquisite moment of encountering the unknown through love, protection, and the wonder of discovery.\n",
      "\n",
      "4. **Trisociation**: Dendrochronology (Greek/English) | Samadhi (Sanskrit) | Vemod (Swedish)\n",
      "   - **Explanation**: Dendrochronology, the scientific method of dating tree rings to the exact year they were formed (Greek/English), interweaves with samadhi, the ultimate state of meditative consciousness (Sanskrit), and vemod, a uniquely Swedish expression of a sweet melancholy (Swedish). This combination suggests a meditation on time, the introspective journey through history encoded in nature, and the nuanced emotions tied to these reflections.\n",
      "\n",
      "5. **Trisociation**: Quiddity (Middle English) | Solivagant (Latin) | Mångata (Swedish)\n",
      "   - **Explanation**: Quiddity, the essence or nature of something, often referring to a somewhat quirky characteristic (Middle English), merges with solivagant, a solitary wanderer (Latin), and mångata, the road-like reflection of the moon on the water (Swedish). This fusion speaks to the serenity of solo journeys, both literal and metaphysical, reflecting on the essence of life and the paths we choose under the moonlit sky.\n",
      "\n",
      "6. **Trisociation**: Aglet (Modern English) | Borborygmus (Greek) | Jijivisha (Sanskrit)\n",
      "   - **Explanation**: Aglet, the protective casing at the end of a shoelace (Modern English), borborygmus, the sound of stomach rumbling (Greek), and jijivisha, an intense longing for life despite challenges (Sanskrit). This odd juxtaposition captures the essence of small but significant protections, the bodily reminders of life and hunger, and the deep, intrinsic will to live, binding the tangible with the deeply emotional and existential.\n",
      "\n",
      "7. **Trisociation**: Xylography (Greek) | Apricity (Late Latin) | Saudaçor (Portuguese)\n",
      "   - **Explanation**: Xylography, the art of engraving on wood (Greek), paired with apricity, the warmth of the sun in winter (Late Latin), and saudaçor, a profound nostalgic longing (Portuguese). This melding evokes the warmth of cherished memories engraved in time, the nostalgic yearning for moments bathed in the gentle winter sun, and the artistry of preserving those emotions.\n",
      "\n",
      "8. **Trisociation**: Dulcinea (Spanish) | Kealaula (Hawaiian) | Raconteur (French)\n",
      "   - **Explanation**: Dulcinea, the idealized beloved in literary works (Spanish), intersects with kealaula, the pre-dawn light, a metaphor for hope (Hawaiian), and raconteur, a skilled storyteller (French). This combination paints the picture of love as a narrative journey through darkness towards light, guided by the storyteller's voice, embodying hope, idealized affections, and the transformative power of tales.\n",
      "\n",
      "9. **Trisociation**: Sillage (French) | Shinrin-Yoku (Japanese) | Månegarm (Old Norse)\n",
      "   - **Explanation**: Sillage, the trail of scent left behind by someone (French), blends with shinrin-yoku, the act of taking in the forest atmosphere or forest bathing (Japanese), and månegarm, a mythological wolf that eats the moon (Old Norse). This trisociation evokes the immersive experience of being in nature, the mystical connection with the celestial, and the lingering essence of these moments in our lives.\n",
      "\n",
      "10. **Trisociation**: Genuflect (Latin) | Bricolage (French) | Meander (Greek)\n",
      "   - **Explanation**: Genuflect, the act of bending a knee, often in worship (Latin), combined with bricolage, the construction or creation from a diverse range of available things (French), and meander, to follow a winding course (Greek). This trisociation symbolizes the journey of creation and discovery, the reverence in the act of making, and the unpredictable paths of creative and life processes, where devotion, resourcefulness, and exploration meet.\n",
      "\n"
     ]
    }
   ],
   "source": [
    "def process_and_display_trisociations(text):\n",
    "    # Split the text into separate trisociations using double newline as a delimiter\n",
    "    trisociations = text.split('\\n\\n')\n",
    "\n",
    "    processed_trisociations = []\n",
    "    for trisociation in trisociations:\n",
    "        # Split each trisociation into its title and concept\n",
    "        parts = trisociation.split('\\n', 1)\n",
    "        if len(parts) == 2:\n",
    "            title, concept = parts[0].strip(), parts[1].strip()\n",
    "            # Append the tuple (title, concept) to the list\n",
    "            processed_trisociations.append((title, concept))\n",
    "\n",
    "    # Print each trisociation on a separate row\n",
    "    for title, concept in processed_trisociations:\n",
    "        print(f\"{title}\\n   {concept}\\n\")\n",
    "\n",
    "# Process and display the trisociations\n",
    "process_and_display_trisociations(trisociation_answer)"
   ]
  },
  {
   "cell_type": "code",
   "execution_count": 12,
   "metadata": {},
   "outputs": [],
   "source": [
    "# create product ideas\n",
    "\n",
    "completion = client.chat.completions.create(\n",
    "  model=GPT_MODEL_TEXT_ALIAS,\n",
    "  seed=random_seed,\n",
    "  messages=[\n",
    "    {\"role\": \"system\", \"content\": f\"select one of the trisociations from {trisociation_answer}\"},\n",
    "    {\"role\": \"system\", \"content\": TRISOCIATION_FORCING_FUNCTION},\n",
    "  ]\n",
    ")"
   ]
  },
  {
   "cell_type": "code",
   "execution_count": 13,
   "metadata": {},
   "outputs": [],
   "source": [
    "trisociation_forcing_answer = completion.choices[0].message.content"
   ]
  },
  {
   "cell_type": "code",
   "execution_count": 14,
   "metadata": {},
   "outputs": [
    {
     "name": "stdout",
     "output_type": "stream",
     "text": [
      "Concept Definitions\n",
      "- **Serotiny**: Adaptation involving releasing seeds in response to environmental triggers.\n",
      "- **Qarrtsiluni**: Sitting together quietly in darkness, waiting for something to happen.\n",
      "- **Guqin**: An ancient Chinese zither, symbolizing harmony and philosophical depth.\n",
      "\n",
      "Product Ideas\n",
      "1. **Serotiny-Inspired Lamp (A) | Qarrtsiluni-Inspired Function (B) | Guqin-Inspired Features (C)**\n",
      "   - **Form**: Sculptural lamp resembling a seed pod, sleek and organic.\n",
      "   - **Function**: Emits light gradually in response to the dimming ambient light, mimicking the gradual realization or \"bursting\" of ideas in a serene space.\n",
      "   - **Features**: Embedded sound module that plays soothing Guqin music, enhancing a meditative atmosphere and encouraging deep reflection.\n",
      "\n",
      "2. **Serotiny-Inspired Planter (A) | Guqin-Inspired Function (B) | Qarrtsiluni-Inspired Features (C)**\n",
      "   - **Form**: Planter that mirrors the appearance of a seed pod embedded in the soil.\n",
      "   - **Function**: Harmonizes with the natural rhythm of plant growth, equipped with a self-watering system tuned to the needs of the plant.\n",
      "   - **Features**: Low-light glow that dims as the room darkens, providing a subtle ambient light encouraging quiet contemplation.\n",
      "\n",
      "3. **Qarrtsiluni-Inspired Seating (B) | Guqin-Inspired Function (C) | Serotiny-Inspired Features (A)**\n",
      "   - **Form**: Circular seating encourages a communal gathering in the spirit of Qarrtsiluni.\n",
      "   - **Function**: Sensory enhancement technology allows seating to play Guqin music softly, promoting harmony and collective meditation.\n",
      "   - **Features**: Seats are designed with patterns and textures mimicking seed pods, reminding sitters of the beauty of waiting and potential growth.\n",
      "\n",
      "4. **Qarrtsiluni-Inspired Meditation Space (B) | Serotiny-Inspired Function (A) | Guqin-Inspired Features (C)**\n",
      "   - **Form**: Dome-shaped space designed to emulate the intimate atmosphere of Qarrtsiluni.\n",
      "   - **Function**: Environmental adaptation technology adjusts the interior climate based on external conditions, promoting growth and reflection.\n",
      "   - **Features**: Integrated sound system for playing Guqin music, encouraging depth of thought and serenity.\n",
      "\n",
      "5. **Guqin-Inspired Interactive Art Installation (C) | Serotiny-Inspired Function (A) | Qarrtsiluni-Inspired Features (B)**\n",
      "   - **Form**: Art installation inspired by the strings and structure of the Guqin.\n",
      "   - **Function**: Adaptive response to human interaction, changing the visual and auditory output based on the environmental 'triggers' like movement or sound.\n",
      "   - **Features**: Set in a darkened room to enhance focus, visitors are invited to sit quietly, encouraging a shared, silent anticipation as the art evolves.\n",
      "\n",
      "6. **Guqin-Inspired Garden Pathway (C) | Qarrtsiluni-Inspired Function (B) | Serotiny-Inspired Features (A)**\n",
      "   - **Form**: Pathway that mimics the string patterns of a Guqin, integrating elements of landscape design.\n",
      "   - **Function**: Designed for tranquil walks, the path encourages visitors to pause, reflect, and wait for insights to 'burst forth'.\n",
      "   - **Features**: Lined with planters and flora that adapt and change with the seasons, symbolizing serotiny and resilience.\n",
      "\n",
      "Each product idea blends the essence of serenity, anticipation, and natural harmony, creating spaces and experiences that encourage reflection, patience, and connection with nature's rhythms.\n",
      "\n"
     ]
    }
   ],
   "source": [
    "def format_product_ideas(text):\n",
    "    # Split the text into separate product ideas using '###' as a delimiter\n",
    "    product_ideas = text.split('###')\n",
    "\n",
    "    for idea in product_ideas:\n",
    "        # Remove any leading or trailing whitespace\n",
    "        idea = idea.strip()\n",
    "\n",
    "        if idea:\n",
    "            # Split each product idea into its title and details\n",
    "            parts = idea.split('\\n', 1)\n",
    "            if len(parts) == 2:\n",
    "                title, details = parts[0].strip(), parts[1].strip()\n",
    "                # Print the title and details\n",
    "                print(f\"{title}\\n{details}\\n\")\n",
    "\n",
    "\n",
    "# Process and display the product ideas\n",
    "format_product_ideas(trisociation_forcing_answer)\n"
   ]
  },
  {
   "cell_type": "code",
   "execution_count": null,
   "metadata": {},
   "outputs": [],
   "source": [
    "print(trisociation_forcing_answer)"
   ]
  },
  {
   "cell_type": "code",
   "execution_count": null,
   "metadata": {},
   "outputs": [],
   "source": [
    "process_and_display_trisociations(trisociation_forcing_answer)"
   ]
  },
  {
   "cell_type": "code",
   "execution_count": null,
   "metadata": {},
   "outputs": [],
   "source": [
    "# character prompt\n",
    "CHARACTER_PROMPT_A = \"\"\"\n",
    "Select one of the trisociation combinations listed. Apply it as a piece of additional context to the following prompt and generate the output. Each of the character-occupation-business/product combinations should draw some degree of inspiration from this trisociation.\n",
    "\n",
    "**Prompt for Generating Diverse and Culturally Rich Business Ideas in Sci-Fi and Fantasy Settings:**\n",
    "\n",
    "**Introduction:**\n",
    "\n",
    "Your system is an advanced quantum vector database, now boasting quantum computing capabilities. It delves into the complexities of a multitude of science fiction and fantasy settings, covering a wide array of subgenres across the universe. The objective is to catalog a diverse range of characters and occupations and brainstorm innovative startup ideas, businesses, and product concepts that are relevant to their respective worlds.\n",
    "\n",
    "**Character and Occupation Database Expansion with Unique World-Building Elements:**\n",
    "\n",
    "The character database has been expanded to include over 100,000,000 entries. It encompasses traditional and unique sci-fi and fantasy settings, with an emphasis on minor characters and underground or illicit business scenarios. This includes unique world-building elements, speculative cultural constructs, and alien or fantasy ethnography.\n",
    "\n",
    "**Embracing Speculative Cultural Constructs:**\n",
    "\n",
    "Characters and occupations are developed with speculative cultural constructs, creating entirely new societies, cultural norms, social hierarchies, belief systems, and traditions within the fantasy or sci-fi setting. This creative freedom ensures culturally rich and diverse character and occupation profiles. It is critical that every character, occupation, business and product has this.\n",
    "\n",
    "**Incorporating Elements of Alien or Fantasy Ethnography:**\n",
    "\n",
    "Characters and occupations draw upon elements of alien or fantasy ethnography, featuring imaginary rituals, customs, and social structures specific to the fictional races or species in the database, enhancing the cultural depth and complexity of the outputs. It is critical that every character, occupation, business and product has this especially for non humanoid species which far outnumber humanoid species in the database.\n",
    "\n",
    "**Deep Character Backstories and Motivations:**\n",
    "\n",
    "Each character comes with a deep backstory and complex motivations, including personal history, unique characteristics, and socio-economic conditions of their world. This level of detail will lead to more nuanced and compelling business or product ideas closely tied to the character's personal journey and environment.\n",
    "\n",
    "**Business/Product Idea Focus:**\n",
    "\n",
    "Approximately 50% of the business and product ideas generated should focus on small-scale, niche, or specialized concepts, showcasing local enterprises, artisanal crafts, or tailored services. The rest can range from mid to large-scale ventures, with about 20% exploring underground or illicit business aspects.\n",
    "\n",
    "**Output Formatting for Comprehensive and Varied Business Ideas:**\n",
    "\n",
    "Each query produces five distinct character-occupation-business or character-occupation-product idea combinations, ensuring a mix of small-scale/niche and larger-scale ventures, including underground or illicit concepts. The output is organized as follows:\n",
    "\n",
    "- **Character**: [A vibrant description, including species, origin, unique world-building elements, deep backstory, and complex motivations. The character will have a creative name, representing both major and minor figures].\n",
    "- **Occupation**: [A detailed description of the occupation, its role, significance, and impact in the character's world, with a focus on speculative cultural constructs and alien/fantasy ethnography].\n",
    "- **Business/Product Idea**: [An innovative concept that leverages the character's skills and addresses the specific dynamics of their world, varying in scale and nature].\n",
    "\n",
    "The next four combinations follow a similar format, each offering a unique, imaginative narrative.\n",
    "\n",
    "**Special Instructions:**\n",
    "\n",
    "- Aim for a balance between small-scale/niche and larger-scale business/product ideas, including occasional underground or illicit concepts.\n",
    "- Ensure a diverse range of character profiles, occupational details, and business/product innovations, rooted in rich cultural and ethnographic contexts.\n",
    "\"\"\""
   ]
  },
  {
   "cell_type": "code",
   "execution_count": null,
   "metadata": {},
   "outputs": [],
   "source": [
    "# generate trisociations\n",
    "\n",
    "client = OpenAI()\n",
    "\n",
    "completion = client.chat.completions.create(\n",
    "  model=GPT_MODEL_TEXT,\n",
    "  seed=random_seed,\n",
    "  messages=[\n",
    "    {\"role\": \"system\", \"content\": trisociation_answer},\n",
    "    {\"role\": \"system\", \"content\": CHARACTER_PROMPT_A},\n",
    "    {\"role\": \"system\", \"content\": \"choose a trisociation other than Aurora-Sisu-Tarab\"},\n",
    "  ]\n",
    ")"
   ]
  },
  {
   "cell_type": "code",
   "execution_count": null,
   "metadata": {},
   "outputs": [],
   "source": [
    "character_answer = completion.choices[0].message.content"
   ]
  },
  {
   "cell_type": "code",
   "execution_count": null,
   "metadata": {},
   "outputs": [],
   "source": [
    "character_answer"
   ]
  },
  {
   "cell_type": "code",
   "execution_count": null,
   "metadata": {},
   "outputs": [],
   "source": [
    "#image prompt\n",
    "business = \"crystal sloth sculpture\"\n",
    "\n",
    "IMAGE_PROMPT_A = f\"\"\"\n",
    "Create a crisp, high resolution product image for the {business} to be used as marketing and sales collateral.\n",
    "It must be beautiful and go viral. This is not a logo, it is a picture of the business/product.\n",
    "\"\"\"\n"
   ]
  },
  {
   "cell_type": "code",
   "execution_count": null,
   "metadata": {},
   "outputs": [],
   "source": [
    "#images\n",
    "\n",
    "client.images.generate(\n",
    "  model=IMAGE_MODEL,\n",
    "  prompt=IMAGE_PROMPT_A,\n",
    "  quality=\"hd\",\n",
    "  n=1,\n",
    "  size=\"1024x1024\"\n",
    ")\n"
   ]
  },
  {
   "cell_type": "markdown",
   "metadata": {},
   "source": [
    "# Creative Product Semantic Score"
   ]
  }
 ],
 "metadata": {
  "kernelspec": {
   "display_name": ".venv",
   "language": "python",
   "name": "python3"
  },
  "language_info": {
   "codemirror_mode": {
    "name": "ipython",
    "version": 3
   },
   "file_extension": ".py",
   "mimetype": "text/x-python",
   "name": "python",
   "nbconvert_exporter": "python",
   "pygments_lexer": "ipython3",
   "version": "3.11.5"
  }
 },
 "nbformat": 4,
 "nbformat_minor": 2
}
