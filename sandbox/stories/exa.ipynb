{
 "cells": [
  {
   "cell_type": "code",
   "execution_count": 23,
   "metadata": {},
   "outputs": [],
   "source": [
    "# imports\n",
    "from pathlib import Path\n",
    "from dotenv import load_dotenv\n",
    "import os\n",
    "from exa_py import Exa"
   ]
  },
  {
   "cell_type": "code",
   "execution_count": 24,
   "metadata": {},
   "outputs": [],
   "source": [
    "# load API key\n",
    "dotenv_path = Path(r\"C:\\Storage\\python_projects\\ashvin\\.env\")\n",
    "load_dotenv(dotenv_path=dotenv_path)\n",
    "\n",
    "EXA_API_KEY = os.getenv(\"EXA_API_KEY\")"
   ]
  },
  {
   "cell_type": "code",
   "execution_count": 25,
   "metadata": {},
   "outputs": [],
   "source": [
    "# instantiate client\n",
    "exa = Exa(EXA_API_KEY)"
   ]
  },
  {
   "cell_type": "code",
   "execution_count": 26,
   "metadata": {},
   "outputs": [],
   "source": [
    "prompt=\"top admissions app with AI features for atomation\""
   ]
  },
  {
   "cell_type": "code",
   "execution_count": 27,
   "metadata": {},
   "outputs": [],
   "source": [
    "#test code\n",
    "results = exa.search(prompt, use_autoprompt=True)"
   ]
  },
  {
   "cell_type": "code",
   "execution_count": 28,
   "metadata": {},
   "outputs": [
    {
     "name": "stdout",
     "output_type": "stream",
     "text": [
      "Title: All-in-one Admission CRM and Marketing Automation Software\n",
      "URL: https://www.extraaedge.com/\n",
      "ID: Pf_7zScVAG51gbaqVL-JWw\n",
      "Score: 0.19556213915348053\n",
      "Published Date: 2021-11-11\n",
      "Author: WpTz Team\n",
      "Text: None\n",
      "Highlights: None\n",
      "Highlight Scores: None\n",
      "\n",
      "Title: Why do the counselors who use enroll ml love us?\n",
      "URL: https://enrollml.com/\n",
      "ID: m8g_-rdAC7hjlz9T8QtySw\n",
      "Score: 0.1882258951663971\n",
      "Published Date: 2023-05-18\n",
      "Author: Teege Mettille\n",
      "Text: None\n",
      "Highlights: None\n",
      "Highlight Scores: None\n",
      "\n",
      "Title: AdmitYogi\n",
      "URL: https://admityogi.com/\n",
      "ID: Pe5yCETU-pmjuEPBtji-cg\n",
      "Score: 0.18742245435714722\n",
      "Published Date: 2023-01-01\n",
      "Author: None\n",
      "Text: None\n",
      "Highlights: None\n",
      "Highlight Scores: None\n",
      "\n",
      "Title: Automate your admission process.\n",
      "URL: https://radiusglobal.io/\n",
      "ID: T68xcau5kxGO-_J_yR_igQ\n",
      "Score: 0.1868855357170105\n",
      "Published Date: 2023-03-01\n",
      "Author: None\n",
      "Text: None\n",
      "Highlights: None\n",
      "Highlight Scores: None\n",
      "\n",
      "Title: Home\n",
      "URL: https://www.collegeadvisor.com/\n",
      "ID: GaZCDjyADOhKQX0x2_giFQ\n",
      "Score: 0.1806347668170929\n",
      "Published Date: 2021-08-28\n",
      "Author: Sarah Kaminski\n",
      "Text: None\n",
      "Highlights: None\n",
      "Highlight Scores: None\n",
      "\n",
      "Title: \n",
      "URL: https://acceptu.com/\n",
      "ID: sEQHGMCBMU4EQBwYIO24Eg\n",
      "Score: 0.1802287995815277\n",
      "Published Date: 2021-05-28\n",
      "Author: Rohan M\n",
      "Text: None\n",
      "Highlights: None\n",
      "Highlight Scores: None\n",
      "\n",
      "Title: OpenApply: Streamlined School Admissions and CRM\n",
      "URL: https://www.openapply.com/\n",
      "ID: T_NWv_XGL2avyQfpwhMg7A\n",
      "Score: 0.1800002157688141\n",
      "Published Date: 2022-10-29\n",
      "Author: Suhendra\n",
      "Text: None\n",
      "Highlights: None\n",
      "Highlight Scores: None\n",
      "\n",
      "Title: Undecided\n",
      "URL: https://undecided.io/\n",
      "ID: fPr3sto5oagE5lnHGDQIZw\n",
      "Score: 0.17834317684173584\n",
      "Published Date: 2022-01-01\n",
      "Author: None\n",
      "Text: None\n",
      "Highlights: None\n",
      "Highlight Scores: None\n",
      "\n",
      "Title: Collegiate Clarity | Making your college choice clear\n",
      "URL: https://www.collegiateclarity.com/\n",
      "ID: k2MEI4WG0ATfNMBouhT27Q\n",
      "Score: 0.17768561840057373\n",
      "Published Date: 2000-01-01\n",
      "Author: None\n",
      "Text: None\n",
      "Highlights: None\n",
      "Highlight Scores: None\n",
      "\n",
      "Title: AdmitEDGE\n",
      "URL: https://www.admitedge.com/\n",
      "ID: N3dh-56-RLQN2qVCIPoBTw\n",
      "Score: 0.1770794689655304\n",
      "Published Date: 2023-02-07\n",
      "Author: None\n",
      "Text: None\n",
      "Highlights: None\n",
      "Highlight Scores: None\n",
      "\n"
     ]
    }
   ],
   "source": [
    "\n",
    "for item in results.results:\n",
    "    print(item)"
   ]
  }
 ],
 "metadata": {
  "kernelspec": {
   "display_name": ".venv",
   "language": "python",
   "name": "python3"
  },
  "language_info": {
   "codemirror_mode": {
    "name": "ipython",
    "version": 3
   },
   "file_extension": ".py",
   "mimetype": "text/x-python",
   "name": "python",
   "nbconvert_exporter": "python",
   "pygments_lexer": "ipython3",
   "version": "3.11.5"
  }
 },
 "nbformat": 4,
 "nbformat_minor": 2
}
