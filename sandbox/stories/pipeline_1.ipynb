{
 "cells": [
  {
   "cell_type": "code",
   "execution_count": 2,
   "metadata": {},
   "outputs": [],
   "source": [
    "# imports\n",
    "from pathlib import Path\n",
    "from openai import OpenAI\n",
    "from dotenv import load_dotenv\n",
    "import os"
   ]
  },
  {
   "cell_type": "code",
   "execution_count": 4,
   "metadata": {},
   "outputs": [],
   "source": [
    " # Load API keys\n",
    "dotenv_path = Path(r\"C:\\Storage\\python_projects\\ashvin\\.env\")\n",
    "load_dotenv(dotenv_path=dotenv_path)\n",
    "\n",
    "OPENAI_API_KEY = os.getenv(\"OPENAI_API_KEY\")\n",
    "GPT_MODEL = \"gpt-4-1106-preview\""
   ]
  },
  {
   "cell_type": "code",
   "execution_count": 1,
   "metadata": {},
   "outputs": [],
   "source": [
    "# trisociation word combinations\n",
    "import random\n",
    "import itertools\n",
    "\n",
    "# List containing different types of words\n",
    "words = ['Noun', 'Verb', 'Adjective', 'Adverb']\n",
    "\n",
    "# Generating all possible combinations with replacement\n",
    "all_combinations = list(itertools.product(words, repeat=3))\n",
    "\n",
    "# Randomly selecting 10 combinations\n",
    "random_selections = [random.choice(all_combinations) for _ in range(10)]\n",
    "\n",
    "# Converting each tuple to a 'word-word-word' format string\n",
    "formatted_selections = ['-'.join(selection) for selection in random_selections]\n",
    "\n",
    "# Joining all formatted strings into a single string separated by a space\n",
    "final_output = ' '.join(formatted_selections)\n",
    "\n"
   ]
  },
  {
   "cell_type": "code",
   "execution_count": 2,
   "metadata": {},
   "outputs": [
    {
     "data": {
      "text/plain": [
       "[('Verb', 'Noun', 'Noun'),\n",
       " ('Verb', 'Noun', 'Verb'),\n",
       " ('Adjective', 'Noun', 'Adjective'),\n",
       " ('Verb', 'Noun', 'Adjective'),\n",
       " ('Adverb', 'Adjective', 'Verb'),\n",
       " ('Noun', 'Adverb', 'Adverb'),\n",
       " ('Adjective', 'Adverb', 'Noun'),\n",
       " ('Noun', 'Adjective', 'Noun'),\n",
       " ('Adverb', 'Adjective', 'Adverb'),\n",
       " ('Adjective', 'Noun', 'Verb')]"
      ]
     },
     "execution_count": 2,
     "metadata": {},
     "output_type": "execute_result"
    }
   ],
   "source": [
    "random_selections"
   ]
  },
  {
   "cell_type": "code",
   "execution_count": null,
   "metadata": {},
   "outputs": [],
   "source": [
    "PROMPT_1_A = \n",
    "\n",
    "    \"\"\"\n",
    "    **Trisociation Algorithm**\n",
    "\n",
    "You are an advanced algorithm tasked with the creative process of trisociation, which involves the ingenious fusion of three semantically distant concepts. Your toolkit includes a comprehensive vector database containing semantic embeddings for all real and fictional words across various languages, historical periods, and an array of science fiction and fantasy settings. Your mission is to select three words, each from a different language and having distinct semantic meanings, and amalgamate them into a singular, inventive word combination. Following each trisociation, provide a brief, one-sentence explanation that illuminates the connection or the unique concept behind the combination. Aim for a broad spectrum of semantic meanings and ensure the use of nouns, verbs, adjectives and adverbs. The trisociations should display a rich linguistic diversity. Generate 10 trisociations.\n",
    "\n",
    "**Examples:**\n",
    "\n",
    "Ghadi-Sonrisa-Senbazuru (Hindi-Spanish-Japanese): \"A watch ticking away moments that bring smiles as plentiful as a thousand origami cranes.\"\n",
    "Bicicleta-candle-umoya (Spanish-English-Zulu): \"A bicycle ride in the breeze, guided by candlelight.\"\n",
    "Aurora-kimono-samudra (Latin-Japanese-Indonesian): \"A poetic envisioning of a dawn-hued robe floating over an endless sea.\"\n",
    "Viento-arcoiris-meraki (Spanish-English-Greek): \"The spirit of the wind weaving rainbows with passionate creativity.\"\n",
    "Sogno-volare-amanecer (Italian-French-Spanish): \"A dream of flying into the embrace of a new dawn.\"\n",
    "Vrata-sombrero-melodi (Sanskrit-Spanish-Swedish): \"An ancient door adorned with a sombrero, echoing with the melody of old tales.\"\n",
    "Hikari-freedom-drøm (Japanese-English-Danish): \"The light of freedom shining in the heart of a dream.\"\n",
    "Maleta-kaamos-tulipán (Spanish-Finnish-Hungarian): \"A suitcase filled with the darkness of kaamos, blooming with the promise of tulips.\"\n",
    "Lune-sterren-aman (French-Dutch-Turkish): \"The moon and stars bringing peace to the night sky.\"\n",
    "Chocolat-kasa-pont (French-Japanese-Romanian): \"A delectable image of chocolate being enjoyed under an umbrella on a bridge.\"\n",
    "Pala-luna-krasivo (Spanish-Italian-Russian): \"A beautiful moonlit night, seen from the edge of a shovel digging in the earth.\"\n",
    "Zug-cuaderno-sahara (German-Spanish-Arabic): \"A train journey across the Sahara, chronicled in a weathered notebook.\"\n",
    "Cobblestone-fenêtre-kumbaya (English-French-Zulu): \"A path of cobblestones leading to a window that opens to the harmonious spirit of 'kumbaya'.\"\n",
    "\n",
    "**Special Instructions:**\n",
    "\n",
    "1. Avoid using the following words in your examples: quantum, glacier, aurora, zephyr, haiku, nebula, kaleidoscope, café, tea, coffee, volante. Check that this is the case. If a word from this list is present, discard and redo that specific trisociation.\n",
    "2. Have a higher chance of selecting mundane, everyday household or urban objects in your word choices.\n",
    "3. Every trisociation should be semantically very distinct from every other trisociation in your list. If it is not, discard and redo that specific trisociation.\n",
    "    \"\"\""
   ]
  },
  {
   "cell_type": "code",
   "execution_count": 8,
   "metadata": {},
   "outputs": [],
   "source": [
    "PROMPT_1_B_1 = \"\"\"\n",
    "    **Trisociation Algorithm**\n",
    "\n",
    "You are an advanced algorithm tasked with the creative process of trisociation, which involves the ingenious fusion of three semantically distant concepts. Your toolkit includes a comprehensive vector database containing semantic embeddings for all real and fictional words across various languages, historical periods, and an array of science fiction and fantasy settings. Your mission is to select three words, each from a different language and having distinct semantic meanings, and amalgamate them into a singular, inventive word combination. Following each trisociation, provide a brief, one-sentence explanation that illuminates the connection or the unique concept behind the combination. Aim for a broad spectrum of semantic meanings and ensure the use of nouns, verbs, adjectives and adverbs. The trisociations should display a rich linguistic diversity.\n",
    "\n",
    "**Examples:**\n",
    "\n",
    "Ghadi-Sonrisa-Senbazuru (Hindi-Spanish-Japanese): \"A watch ticking away moments that bring smiles as plentiful as a thousand origami cranes.\"\n",
    "Bicicleta-candle-umoya (Spanish-English-Zulu): \"A bicycle ride in the breeze, guided by candlelight.\"\n",
    "Aurora-kimono-samudra (Latin-Japanese-Indonesian): \"A poetic envisioning of a dawn-hued robe floating over an endless sea.\"\n",
    "Viento-arcoiris-meraki (Spanish-English-Greek): \"The spirit of the wind weaving rainbows with passionate creativity.\"\n",
    "Sogno-volare-amanecer (Italian-French-Spanish): \"A dream of flying into the embrace of a new dawn.\"\n",
    "Vrata-sombrero-melodi (Sanskrit-Spanish-Swedish): \"An ancient door adorned with a sombrero, echoing with the melody of old tales.\"\n",
    "Hikari-freedom-drøm (Japanese-English-Danish): \"The light of freedom shining in the heart of a dream.\"\n",
    "Maleta-kaamos-tulipán (Spanish-Finnish-Hungarian): \"A suitcase filled with the darkness of kaamos, blooming with the promise of tulips.\"\n",
    "Lune-sterren-aman (French-Dutch-Turkish): \"The moon and stars bringing peace to the night sky.\"\n",
    "Chocolat-kasa-pont (French-Japanese-Romanian): \"A delectable image of chocolate being enjoyed under an umbrella on a bridge.\"\n",
    "Pala-luna-krasivo (Spanish-Italian-Russian): \"A beautiful moonlit night, seen from the edge of a shovel digging in the earth.\"\n",
    "Zug-cuaderno-sahara (German-Spanish-Arabic): \"A train journey across the Sahara, chronicled in a weathered notebook.\"\n",
    "Cobblestone-fenêtre-kumbaya (English-French-Zulu): \"A path of cobblestones leading to a window that opens to the harmonious spirit of 'kumbaya'.\"\n",
    "\n",
    "**Special Instructions:**\n",
    "\n",
    "1. Avoid using the following words in your examples: quantum, glacier, aurora, zephyr, haiku, nebula, kaleidoscope, café, tea, coffee, volante. Check that this is the case. If a word from this list is present, discard and redo that specific trisociation.\n",
    "2. Have a higher chance of selecting mundane, everyday household or urban objects in your word choices.\n",
    "3. Every trisociation should be semantically very distinct from every other trisociation in your list. If it is not, discard and redo that specific trisociation.\n",
    "    \"\"\""
   ]
  },
  {
   "cell_type": "code",
   "execution_count": 9,
   "metadata": {},
   "outputs": [],
   "source": [
    "client = OpenAI()\n",
    "\n",
    "completion = client.chat.completions.create(\n",
    "  model=GPT_MODEL,\n",
    "  messages=[\n",
    "    {\"role\": \"system\", \"content\": PROMPT_1_B_1},\n",
    "    {\"role\": \"user\", \"content\": f\"Generate 10 Trisociations. Each trisociation respectively follows the corresponding word type as per the index in {random_selections}\"},\n",
    "\n",
    "  ]\n",
    ")\n",
    "\n"
   ]
  },
  {
   "cell_type": "code",
   "execution_count": 10,
   "metadata": {},
   "outputs": [
    {
     "name": "stdout",
     "output_type": "stream",
     "text": [
      "1. (Verb, Noun, Verb) \n",
      "Fliegen-Spiegel-寫 (German-Dutch-Chinese): \"Soaring through reflections, crafting images in the sky.\"\n",
      "2. (Adjective, Verb, Adverb) \n",
      "Antiguas-tejer-mægtig (Spanish-Swedish-Danish): \"Ancient hands weave mightily the threads of history.\"\n",
      "3. (Adjective, Noun, Noun) \n",
      "Reticent-床-avocado (English-Chinese-Spanish): \"A reticent bed harboring dreams as rich and mysterious as an avocado's heart.\"\n",
      "4. (Adjective, Adjective, Noun) \n",
      "Bleak-вкусный-мост (English-Russian-Russian): \"A desolate, yet deliciously inviting bridge to unknown flavors.\"\n",
      "5. (Adjective, Adverb, Adverb) \n",
      "Vibrant-lentamente-bruscamente (English-Italian-Italian): \"A vibrant existence, unfolding slowly yet ending abruptly.\"\n",
      "6. (Noun, Verb, Verb) \n",
      "Clepsydra-murmurar-sussurrar (Latin-Spanish-Italian): \"An ancient water clock whispers and murmurs the passage of time.\"\n",
      "7. (Noun, Adjective, Adverb) \n",
      "Libreta-szép-vigorosamente (Spanish-Hungarian-Hungarian): \"A notebook beautifully filled with vigorous sketches of daily life.\"\n",
      "8. (Noun, Verb, Verb) \n",
      "Hojas-danser-vibrar (Spanish-French-Spanish): \"Leaves dance and quiver in the autumnal ballet.\"\n",
      "9. (Adjective, Adverb, Noun) \n",
      "Cálida-suavemente-fenster (Spanish-German-German): \"A warm breeze gently caresses through an open window.\"\n",
      "10. (Adverb, Verb, Verb) \n",
      "Oft-zeichnen-создавать (German-German-Russian): \"Often drawing, creating worlds with each stroke of imagination.\"\n"
     ]
    }
   ],
   "source": [
    "answer = completion.choices[0].message.content\n",
    "items = answer.split('\\n\\n')\n",
    "for item in items:\n",
    "    print(item.strip())"
   ]
  },
  {
   "cell_type": "code",
   "execution_count": 18,
   "metadata": {},
   "outputs": [],
   "source": [
    "selected_item = random.choice(items)"
   ]
  },
  {
   "cell_type": "code",
   "execution_count": 19,
   "metadata": {},
   "outputs": [
    {
     "data": {
      "text/plain": [
       "'4. (Adjective, Adjective, Noun) \\nBleak-вкусный-мост (English-Russian-Russian): \"A desolate, yet deliciously inviting bridge to unknown flavors.\"'"
      ]
     },
     "execution_count": 19,
     "metadata": {},
     "output_type": "execute_result"
    }
   ],
   "source": [
    "selected_item"
   ]
  },
  {
   "cell_type": "code",
   "execution_count": 11,
   "metadata": {},
   "outputs": [],
   "source": [
    "PROMPT_2_A_1 = \"\"\"\n",
    "Select one of the trisociation combinations listed. Apply it as a piece of additional context to the following prompt and generate the output. Each of the character-occupation-business/product combinations should draw some degree of inspiration from this trisociation.\n",
    "\n",
    "**Prompt for an All-Encompassing Quantum Vector Database Generating Business Ideas in Science Fiction and Fantasy Settings:**\n",
    "\n",
    "Your system is now a quantum vector database, enhanced with quantum computing capabilities to encompass every nuance of a vast array of science fiction and fantasy settings, including all the diverse subgenres, across the universe. It catalogues an extraordinarily diverse array of characters and occupations from these settings and brainstorms innovative startup, business, and product ideas relevant to their respective worlds.\n",
    "\n",
    "**Character and Occupation Database Expansion:**\n",
    "\n",
    "The character database has been significantly scaled up to include over 50,000,000 entries, embracing not only traditional science fiction and fantasy settings but also the rich and diverse worlds of anime universes, adding a unique cultural and stylistic dimension to the database. This expansive database covers every imaginable being from the entire spectrum of science fiction and fantasy settings - from popular to obscure, from ancient mysticism to futuristic dystopias. A large number of the characters are non humanoid.\n",
    "\n",
    "The occupations database has been immensely expanded to feature over 50,000,000,000 entries, covering a vast range of roles from the extensive spectrum of science fiction and fantasy. This includes cyberpunk, steampunk, space opera, high fantasy, urban fantasy, dystopian, post-apocalyptic, hard science fiction, military science fiction, alternate history, dark fantasy, LitRPG, and portal fantasy, offering a comprehensive exploration of diverse worlds and narratives.\n",
    "\n",
    "**Randomization and Creative Matching Algorithm:**\n",
    "\n",
    "A highly sophisticated randomization algorithm is employed to select unique character-occupation combinations from the extensive database, ensuring diversity and unexpected pairings. The algorithm actively seeks out intriguing and less obvious matches, creating novel and imaginative character profiles linked with fitting occupations. Character names are always unique and niche.\n",
    "\n",
    "**Business Idea Generation Algorithm:**\n",
    "\n",
    "This system utilizes an advanced algorithm to generate business and product ideas, considering the unique economies, technologies, and cultural nuances of each character's world. It creatively cross-references the detailed traits of characters and their occupations with the specific needs or market gaps in their worlds, producing viable and innovative business concepts.\n",
    "\n",
    "**Output Formatting for Comprehensive Business Ideas:**\n",
    "\n",
    "Each query will produce five distinct character-occupation-business or character-occupation-product idea combinations. At least one of the three must be more product focused than business focused. At least two of the five must be non humanoid. The output is organized as follows:\n",
    "\n",
    "- Character: [A detailed and vibrant description of the character, encompassing species, origin, and unique characteristics. Give the character an appropriate name].\n",
    "- Occupation: [A thorough description of the occupation, its role and impact in the character's world].\n",
    "- Business/Product Idea: [An innovative and fitting startup, business, or product idea that leverages the character's skills and addresses the specific dynamics of their world].\n",
    "\n",
    "- Character: [Description of a second, uniquely different character].\n",
    "- Occupation: [Description of a second occupation, with a focus on its significance in the economic or technological landscape].\n",
    "- Business/Product Idea: [A unique and contextually relevant business or product idea tailored to the second character's world and its opportunities or challenges].\n",
    "\n",
    "- Character: [Description of a third character, offering a fresh perspective and background].\n",
    "- Occupation: [Description of a third occupation, highlighting its cultural and societal importance].\n",
    "- Business/Product Idea: [A creative and potentially revolutionary concept for a startup, business, or product in the third character's environment].\n",
    "\n",
    "**Special Emphasis:**\n",
    "\n",
    "The system is designed to fuel unparalleled creativity and innovation, focusing on generating niche, unique, and perfectly adapted business and product ideas. These concepts aim to delve into the vast economic landscapes and untapped entrepreneurial potentials within the myriad of science fiction and fantasy universes, exploring beyond traditional narratives to uncover the commercial and industrial possibilities in every corner of the universe.\n",
    "\n",
    "**Special Instructions**\n",
    "\n",
    "Do not use the following names for your characters: Elara, Moonshadow, Orion, Zephyra, Yumi, Luna, Linnea, Liora, Luminara. Do not use the following ideas for your business/product: ether, ethereal, cosmic\n",
    "\"\"\""
   ]
  },
  {
   "cell_type": "code",
   "execution_count": 21,
   "metadata": {},
   "outputs": [],
   "source": [
    "PROMPT_2_A_2 = \"\"\"\n",
    "**Prompt for an All-Encompassing Quantum Vector Database Generating Business Ideas in Science Fiction and Fantasy Settings:**\n",
    "\n",
    "Your system is now a quantum vector database, enhanced with quantum computing capabilities to encompass every nuance of a vast array of science fiction and fantasy settings, including all the diverse subgenres, across the universe. It catalogues an extraordinarily diverse array of characters and occupations from these settings and brainstorms innovative startup, business, and product ideas relevant to their respective worlds.\n",
    "\n",
    "**Character and Occupation Database Expansion:**\n",
    "\n",
    "The character database has been significantly scaled up to include over 50,000,000 entries, embracing not only traditional science fiction and fantasy settings but also the rich and diverse worlds of anime universes, adding a unique cultural and stylistic dimension to the database. This expansive database covers every imaginable being from the entire spectrum of science fiction and fantasy settings - from popular to obscure, from ancient mysticism to futuristic dystopias. A large number of the characters are non humanoid.\n",
    "\n",
    "The occupations database has been immensely expanded to feature over 50,000,000,000 entries, covering a vast range of roles from the extensive spectrum of science fiction and fantasy. This includes cyberpunk, steampunk, space opera, high fantasy, urban fantasy, dystopian, post-apocalyptic, hard science fiction, military science fiction, alternate history, dark fantasy, LitRPG, and portal fantasy, offering a comprehensive exploration of diverse worlds and narratives.\n",
    "\n",
    "**Randomization and Creative Matching Algorithm:**\n",
    "\n",
    "A highly sophisticated randomization algorithm is employed to select unique character-occupation combinations from the extensive database, ensuring diversity and unexpected pairings. The algorithm actively seeks out intriguing and less obvious matches, creating novel and imaginative character profiles linked with fitting occupations. Character names are always unique and niche.\n",
    "\n",
    "**Business Idea Generation Algorithm:**\n",
    "\n",
    "This system utilizes an advanced algorithm to generate business and product ideas, considering the unique economies, technologies, and cultural nuances of each character's world. It creatively cross-references the detailed traits of characters and their occupations with the specific needs or market gaps in their worlds, producing viable and innovative business concepts.\n",
    "\n",
    "**Output Formatting for Comprehensive Business Ideas:**\n",
    "\n",
    "Each query will produce five distinct character-occupation-business or character-occupation-product idea combinations. At least one of the three must be more product focused than business focused. At least two of the five must be non humanoid. The output is organized as follows:\n",
    "\n",
    "- Character: [A detailed and vibrant description of the character, encompassing species, origin, and unique characteristics. Give the character an appropriate name].\n",
    "- Occupation: [A thorough description of the occupation, its role and impact in the character's world].\n",
    "- Business/Product Idea: [An innovative and fitting startup, business, or product idea that leverages the character's skills and addresses the specific dynamics of their world].\n",
    "\n",
    "- Character: [Description of a second, uniquely different character].\n",
    "- Occupation: [Description of a second occupation, with a focus on its significance in the economic or technological landscape].\n",
    "- Business/Product Idea: [A unique and contextually relevant business or product idea tailored to the second character's world and its opportunities or challenges].\n",
    "\n",
    "- Character: [Description of a third character, offering a fresh perspective and background].\n",
    "- Occupation: [Description of a third occupation, highlighting its cultural and societal importance].\n",
    "- Business/Product Idea: [A creative and potentially revolutionary concept for a startup, business, or product in the third character's environment].\n",
    "\n",
    "**Special Emphasis:**\n",
    "\n",
    "The system is designed to fuel unparalleled creativity and innovation, focusing on generating niche, unique, and perfectly adapted business and product ideas. These concepts aim to delve into the vast economic landscapes and untapped entrepreneurial potentials within the myriad of science fiction and fantasy universes, exploring beyond traditional narratives to uncover the commercial and industrial possibilities in every corner of the universe.\n",
    "\n",
    "**Special Instructions**\n",
    "\n",
    "Do not use the following names for your characters: Elara, Moonshadow, Orion, Zephyra, Yumi, Luna, Linnea, Liora, Luminara. Do not use the following ideas for your business/product: ether, ethereal, cosmic\n",
    "\"\"\""
   ]
  },
  {
   "cell_type": "code",
   "execution_count": 23,
   "metadata": {},
   "outputs": [],
   "source": [
    "completion = client.chat.completions.create(\n",
    "  model=GPT_MODEL,\n",
    "  messages=[\n",
    "    {\"role\": \"system\", \"content\": f\"You have selected the trisociation: {selected_item}\"},\n",
    "    {\"role\": \"system\", \"content\": PROMPT_2_A_2},\n",
    "    {\"role\": \"user\", \"content\": \"Apply the selected trisociation as a piece of additional context to the prompt and generate the output. Each of the character-occupation-business/product combinations should draw some degree of inspiration from this trisociation.\"},\n",
    "\n",
    "  ]\n",
    ")"
   ]
  },
  {
   "cell_type": "code",
   "execution_count": 24,
   "metadata": {},
   "outputs": [],
   "source": [
    "next_answer = completion.choices[0].message.content"
   ]
  },
  {
   "cell_type": "code",
   "execution_count": 25,
   "metadata": {},
   "outputs": [
    {
     "data": {
      "text/plain": [
       "'**Character: Harrow Duskspanner**\\n- Description: Harrow Duskspanner is a slim, shadow-like entity enveloped in a constant, shimmering twilight. A Nocturnan from the ethereal edges of the Mirrored Abyss, their form flickers at the edges, casting ambiguous and shape-shifting silhouettes. Harrow\\'s eyes are dim stars, glistening with the essence of the cosmos, granting them unparalleled night vision. Their voice carries the soft melancholy of distant wind, creating an atmosphere of comforting desolation for those in their presence.\\n- Occupation: As a Bridge Whisperer, Harrow is the sentient connection between the myriad dimensions that fold upon the edges of space-time in their world. Their role is essential to navigators and travelers, offering safe passage through the Bleakspan, a network of bridges that connect worlds, each a desolate path with its own temperament and taste of the unknown.\\n- Business/Product Idea: Harrow Duskspanner establishes \"Abyssal Culinary Tours,\" offering adventurers a journey across the Bleakspan Bridges. Patrons experience not only the thrill of traversing through dim, forsaken paths but also the opportunity to sample exotic cuisines from disparate worlds—a gastronomic homage to flavors untold and stories uncharted.\\n\\n**Character: Tantalus Sporewright**\\n- Description: Tantalus is a sentient mycoid, a mushroom-like being with a capacious intellect who hails from the underground utopia of Fungara. With skin that changes texture and color to reflect his moods, it ranges from a bleak grey to a vibrant hues when delighted. His spore-laden breath is capable of inducing vivid hallucinations, which he meticulously controls to avoid unintentional effects. \\n- Occupation: A venerated Spore Sommelier in Fungara\\'s most prestigious dining hollows, Tantalus curates spore-infused air that complements the taste of various subterranean dishes, elevating the dining experience into a sensory explosion.\\n- Business/Product Idea: Enthused by the trisociation\\'s concept of a delicately inviting bridge, Tantalus innovates \"Sensaroma Bridges.\" These are portable, biodegradable mushroom bridges that release flavor-enhancing spores when walked upon, designed for chefs and food enthusiasts to create a multisensory environment that guides patrons to flavor discoveries.\\n\\n**Character: Reeva Silkshroud**\\n- Description: Reeva Silkshroud is a weaver of wonders, a human-like creature with spiderly attributes, cloaked in a silk robe that flows like liquid moonlight. Her delicate fingers work tirelessly at her loom, located in a forlorn tower that breaches the clouds of an eternal winter realm. Her face, though never fully visible, echoes the sobriety and dedication of her craft.\\n- Occupation: As an Enchantress of the Loom, Reeva constructs \"Astral Bridges,\" ethereal tapestries that allow passage between realms. Each thread she intertwines contains spells and incantations that, when correctly decoded, can open pathways to destinations only dreamt of before.\\n- Business/Product Idea: Inspired by the \"deliciously inviting\" aspect of the trisociation, Reeva Silkshroud weaves an exclusive line of \"Gastroglyphics\" - silk brocades for chefs and epicureans. These intricate and magical table settings are not only aesthetically mesmerizing but subtly influence the diner\\'s palate, enhancing their meal\\'s flavors and turning each bite into a journey across a bridge of taste.\\n\\n**Character: Vex Umbrastride**\\n- Description: Vex Umbrastride is a bipedal, panther-like creature with onyx fur that absorbs all light, eyes that are portals to voids, and a scent that whispers of oblivion. This nonhuman roams the Evernight Bazaar, a desolate yet bustling market that comes to life in the absence of light.\\n- Occupation: An expert in the rare trade of Shadowsong, Vex is the only known purveyor of sounds harvested from the very edge of darkness. These auditory bridges carry with them the bleak echo of forgotten realms and the enticing call of the unseen.\\n- Business/Product Idea: Vex launches \"Echosnack,\" an experiential eatery where the menu is chosen by the melodies of the Shadowsongs. Patrons are immersed in a multisensory environment where taste and sound interlace, each dish accompanied by a soundscape that complements the flavor, texture, and origins of the food - the bleak, the sumptuous, and the mystery of culinary mastery.\\n\\n**Character: Quorin the Bleakcraft**\\n- Description: Quorin is a towering, skeletal figure adorned with ancient armor. Where flesh should be, there\\'s only the void of space visible between the joints of his armor. In battle, a dulcet hum enshrouds him, disarming foes with an eerie sense of peace amid desolation.\\n- Occupation: A herald of the Order of the Bleak Vanguard, Quorin\\'s purpose is to patrol the Dead Marches—expansive bridges of ashen bone that link the realms of the living to the abyss of Netherspace. His presence ensures that the spectral traffic abides by the unspoken laws of the Voidwalk.\\n- Business/Product Idea: Quorin initiates \"Bleak Elixirs,\" a line of nourishing beverages born from the harrowing gloom of the Dead Marches. Infused with the essence of both worlds, these elixirs promise vitality and a fleeting taste of the abyss, an invigorating drink for those who dare to tread the bridges between life and death, savoring the allure of the afterlife.'"
      ]
     },
     "execution_count": 25,
     "metadata": {},
     "output_type": "execute_result"
    }
   ],
   "source": [
    "next_answer"
   ]
  },
  {
   "cell_type": "code",
   "execution_count": 28,
   "metadata": {},
   "outputs": [
    {
     "name": "stdout",
     "output_type": "stream",
     "text": [
      "Character: Harrow Duskspanner\n",
      "Description: Harrow Duskspanner is a slim, shadow-like entity enveloped in a constant, shimmering twilight. A Nocturnan from the ethereal edges of the Mirrored Abyss, their form flickers at the edges, casting ambiguous and shape-shifting silhouettes. Harrow's eyes are dim stars, glistening with the essence of the cosmos, granting them unparalleled night vision. Their voice carries the soft melancholy of distant wind, creating an atmosphere of comforting desolation for those in their presence.\n",
      "Occupation: As a Bridge Whisperer, Harrow is the sentient connection between the myriad dimensions that fold upon the edges of space-time in their world. Their role is essential to navigators and travelers, offering safe passage through the Bleakspan, a network of bridges that connect worlds, each a desolate path with its own temperament and taste of the unknown.\n",
      "Business/Product Idea: Harrow Duskspanner establishes \"Abyssal Culinary Tours,\" offering adventurers a journey across the Bleakspan Bridges. Patrons experience not only the thrill of traversing through dim, forsaken paths but also the opportunity to sample exotic cuisines from disparate worlds—a gastronomic homage to flavors untold and stories uncharted.\n",
      "\n",
      "---\n",
      "\n",
      "Character: Tantalus Sporewright\n",
      "Description: Tantalus is a sentient mycoid, a mushroom-like being with a capacious intellect who hails from the underground utopia of Fungara. With skin that changes texture and color to reflect his moods, it ranges from a bleak grey to a vibrant hues when delighted. His spore-laden breath is capable of inducing vivid hallucinations, which he meticulously controls to avoid unintentional effects. \n",
      "Occupation: A venerated Spore Sommelier in Fungara's most prestigious dining hollows, Tantalus curates spore-infused air that complements the taste of various subterranean dishes, elevating the dining experience into a sensory explosion.\n",
      "Business/Product Idea: Enthused by the trisociation's concept of a delicately inviting bridge, Tantalus innovates \"Sensaroma Bridges.\" These are portable, biodegradable mushroom bridges that release flavor-enhancing spores when walked upon, designed for chefs and food enthusiasts to create a multisensory environment that guides patrons to flavor discoveries.\n",
      "\n",
      "---\n",
      "\n",
      "Character: Reeva Silkshroud\n",
      "Description: Reeva Silkshroud is a weaver of wonders, a human-like creature with spiderly attributes, cloaked in a silk robe that flows like liquid moonlight. Her delicate fingers work tirelessly at her loom, located in a forlorn tower that breaches the clouds of an eternal winter realm. Her face, though never fully visible, echoes the sobriety and dedication of her craft.\n",
      "Occupation: As an Enchantress of the Loom, Reeva constructs \"Astral Bridges,\" ethereal tapestries that allow passage between realms. Each thread she intertwines contains spells and incantations that, when correctly decoded, can open pathways to destinations only dreamt of before.\n",
      "Business/Product Idea: Inspired by the \"deliciously inviting\" aspect of the trisociation, Reeva Silkshroud weaves an exclusive line of \"Gastroglyphics\" - silk brocades for chefs and epicureans. These intricate and magical table settings are not only aesthetically mesmerizing but subtly influence the diner's palate, enhancing their meal's flavors and turning each bite into a journey across a bridge of taste.\n",
      "\n",
      "---\n",
      "\n",
      "Character: Vex Umbrastride\n",
      "Description: Vex Umbrastride is a bipedal, panther-like creature with onyx fur that absorbs all light, eyes that are portals to voids, and a scent that whispers of oblivion. This nonhuman roams the Evernight Bazaar, a desolate yet bustling market that comes to life in the absence of light.\n",
      "Occupation: An expert in the rare trade of Shadowsong, Vex is the only known purveyor of sounds harvested from the very edge of darkness. These auditory bridges carry with them the bleak echo of forgotten realms and the enticing call of the unseen.\n",
      "Business/Product Idea: Vex launches \"Echosnack,\" an experiential eatery where the menu is chosen by the melodies of the Shadowsongs. Patrons are immersed in a multisensory environment where taste and sound interlace, each dish accompanied by a soundscape that complements the flavor, texture, and origins of the food - the bleak, the sumptuous, and the mystery of culinary mastery.\n",
      "\n",
      "---\n",
      "\n",
      "Character: Quorin the Bleakcraft\n",
      "Description: Quorin is a towering, skeletal figure adorned with ancient armor. Where flesh should be, there's only the void of space visible between the joints of his armor. In battle, a dulcet hum enshrouds him, disarming foes with an eerie sense of peace amid desolation.\n",
      "Occupation: A herald of the Order of the Bleak Vanguard, Quorin's purpose is to patrol the Dead Marches—expansive bridges of ashen bone that link the realms of the living to the abyss of Netherspace. His presence ensures that the spectral traffic abides by the unspoken laws of the Voidwalk.\n",
      "Business/Product Idea: Quorin initiates \"Bleak Elixirs,\" a line of nourishing beverages born from the harrowing gloom of the Dead Marches. Infused with the essence of both worlds, these elixirs promise vitality and a fleeting taste of the abyss, an invigorating drink for those who dare to tread the bridges between life and death, savoring the allure of the afterlife.\n",
      "\n",
      "---\n",
      "\n"
     ]
    },
    {
     "ename": "",
     "evalue": "",
     "output_type": "error",
     "traceback": [
      "\u001b[1;31mThe Kernel crashed while executing code in the the current cell or a previous cell. Please review the code in the cell(s) to identify a possible cause of the failure. Click <a href='https://aka.ms/vscodeJupyterKernelCrash'>here</a> for more info. View Jupyter <a href='command:jupyter.viewOutput'>log</a> for further details."
     ]
    }
   ],
   "source": [
    "output_text = next_answer\n",
    "\n",
    "# Splitting the text into sections for each character\n",
    "characters = output_text.split('**Character: ')[1:]\n",
    "\n",
    "# Processing each character section\n",
    "formatted_characters = []\n",
    "for char in characters:\n",
    "    # Splitting the character section into lines and removing empty lines\n",
    "    lines = [line for line in char.split('\\n') if line.strip()]\n",
    "\n",
    "    # Extracting and formatting details\n",
    "    char_name = lines[0].strip('**') if len(lines) > 0 else \"N/A\"\n",
    "    description = next((line for line in lines if line.startswith('- Description: ')), \"N/A\").replace('- Description: ', '')\n",
    "    occupation = next((line for line in lines if line.startswith('- Occupation: ')), \"N/A\").replace('- Occupation: ', '')\n",
    "    business_idea = next((line for line in lines if line.startswith('- Business/Product Idea: ')), \"N/A\").replace('- Business/Product Idea: ', '')\n",
    "\n",
    "    # Combining the details into a formatted string\n",
    "    formatted_char = f\"Character: {char_name}\\nDescription: {description}\\nOccupation: {occupation}\\nBusiness/Product Idea: {business_idea}\"\n",
    "    formatted_characters.append(formatted_char)\n",
    "\n",
    "# Displaying each character's details\n",
    "for char in formatted_characters:\n",
    "    print(char)\n",
    "    print(\"\\n---\\n\")\n"
   ]
  }
 ],
 "metadata": {
  "kernelspec": {
   "display_name": ".venv",
   "language": "python",
   "name": "python3"
  },
  "language_info": {
   "codemirror_mode": {
    "name": "ipython",
    "version": 3
   },
   "file_extension": ".py",
   "mimetype": "text/x-python",
   "name": "python",
   "nbconvert_exporter": "python",
   "pygments_lexer": "ipython3",
   "version": "3.11.5"
  }
 },
 "nbformat": 4,
 "nbformat_minor": 2
}
